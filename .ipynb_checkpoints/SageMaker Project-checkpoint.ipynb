{
 "cells": [
  {
   "cell_type": "markdown",
   "metadata": {},
   "source": [
    "# Creating a Sentiment Analysis Web App\n",
    "## Using PyTorch and SageMaker\n",
    "\n",
    "_Deep Learning Nanodegree Program | Deployment_\n",
    "\n",
    "---\n",
    "\n",
    "Now that we have a basic understanding of how SageMaker works we will try to use it to construct a complete project from end to end. Our goal will be to have a simple web page which a user can use to enter a movie review. The web page will then send the review off to our deployed model which will predict the sentiment of the entered review.\n",
    "\n",
    "## Instructions\n",
    "\n",
    "Some template code has already been provided for you, and you will need to implement additional functionality to successfully complete this notebook. You will not need to modify the included code beyond what is requested. Sections that begin with '**TODO**' in the header indicate that you need to complete or implement some portion within them. Instructions will be provided for each section and the specifics of the implementation are marked in the code block with a `# TODO: ...` comment. Please be sure to read the instructions carefully!\n",
    "\n",
    "In addition to implementing code, there will be questions for you to answer which relate to the task and your implementation. Each section where you will answer a question is preceded by a '**Question:**' header. Carefully read each question and provide your answer below the '**Answer:**' header by editing the Markdown cell.\n",
    "\n",
    "> **Note**: Code and Markdown cells can be executed using the **Shift+Enter** keyboard shortcut. In addition, a cell can be edited by typically clicking it (double-click for Markdown cells) or by pressing **Enter** while it is highlighted.\n",
    "\n",
    "## General Outline\n",
    "\n",
    "Recall the general outline for SageMaker projects using a notebook instance.\n",
    "\n",
    "1. Download or otherwise retrieve the data.\n",
    "2. Process / Prepare the data.\n",
    "3. Upload the processed data to S3.\n",
    "4. Train a chosen model.\n",
    "5. Test the trained model (typically using a batch transform job).\n",
    "6. Deploy the trained model.\n",
    "7. Use the deployed model.\n",
    "\n",
    "For this project, you will be following the steps in the general outline with some modifications. \n",
    "\n",
    "First, you will not be testing the model in its own step. You will still be testing the model, however, you will do it by deploying your model and then using the deployed model by sending the test data to it. One of the reasons for doing this is so that you can make sure that your deployed model is working correctly before moving forward.\n",
    "\n",
    "In addition, you will deploy and use your trained model a second time. In the second iteration you will customize the way that your trained model is deployed by including some of your own code. In addition, your newly deployed model will be used in the sentiment analysis web app."
   ]
  },
  {
   "cell_type": "markdown",
   "metadata": {},
   "source": [
    "## Step 1: Downloading the data\n",
    "\n",
    "As in the XGBoost in SageMaker notebook, we will be using the [IMDb dataset](http://ai.stanford.edu/~amaas/data/sentiment/)\n",
    "\n",
    "> Maas, Andrew L., et al. [Learning Word Vectors for Sentiment Analysis](http://ai.stanford.edu/~amaas/data/sentiment/). In _Proceedings of the 49th Annual Meeting of the Association for Computational Linguistics: Human Language Technologies_. Association for Computational Linguistics, 2011."
   ]
  },
  {
   "cell_type": "code",
   "execution_count": 1,
   "metadata": {},
   "outputs": [
    {
     "name": "stdout",
     "output_type": "stream",
     "text": [
      "--2020-06-04 16:33:51--  http://ai.stanford.edu/~amaas/data/sentiment/aclImdb_v1.tar.gz\n",
      "Resolving ai.stanford.edu (ai.stanford.edu)... 171.64.68.10\n",
      "Connecting to ai.stanford.edu (ai.stanford.edu)|171.64.68.10|:80... connected.\n",
      "HTTP request sent, awaiting response... 200 OK\n",
      "Length: 84125825 (80M) [application/x-gzip]\n",
      "Saving to: ‘../data/aclImdb_v1.tar.gz’\n",
      "\n",
      "../data/aclImdb_v1. 100%[===================>]  80.23M  49.8MB/s    in 1.6s    \n",
      "\n",
      "2020-06-04 16:33:53 (49.8 MB/s) - ‘../data/aclImdb_v1.tar.gz’ saved [84125825/84125825]\n",
      "\n"
     ]
    }
   ],
   "source": [
    "%mkdir ../data\n",
    "!wget -O ../data/aclImdb_v1.tar.gz http://ai.stanford.edu/~amaas/data/sentiment/aclImdb_v1.tar.gz\n",
    "!tar -zxf ../data/aclImdb_v1.tar.gz -C ../data"
   ]
  },
  {
   "cell_type": "markdown",
   "metadata": {},
   "source": [
    "## Step 2: Preparing and Processing the data\n",
    "\n",
    "Also, as in the XGBoost notebook, we will be doing some initial data processing. The first few steps are the same as in the XGBoost example. To begin with, we will read in each of the reviews and combine them into a single input structure. Then, we will split the dataset into a training set and a testing set."
   ]
  },
  {
   "cell_type": "code",
   "execution_count": 2,
   "metadata": {},
   "outputs": [],
   "source": [
    "import os\n",
    "import glob\n",
    "\n",
    "def read_imdb_data(data_dir='../data/aclImdb'):\n",
    "    data = {}\n",
    "    labels = {}\n",
    "    \n",
    "    for data_type in ['train', 'test']:\n",
    "        data[data_type] = {}\n",
    "        labels[data_type] = {}\n",
    "        \n",
    "        for sentiment in ['pos', 'neg']:\n",
    "            data[data_type][sentiment] = []\n",
    "            labels[data_type][sentiment] = []\n",
    "            \n",
    "            path = os.path.join(data_dir, data_type, sentiment, '*.txt')\n",
    "            files = glob.glob(path)\n",
    "            \n",
    "            for f in files:\n",
    "                with open(f) as review:\n",
    "                    data[data_type][sentiment].append(review.read())\n",
    "                    # Here we represent a positive review by '1' and a negative review by '0'\n",
    "                    labels[data_type][sentiment].append(1 if sentiment == 'pos' else 0)\n",
    "                    \n",
    "            assert len(data[data_type][sentiment]) == len(labels[data_type][sentiment]), \\\n",
    "                    \"{}/{} data size does not match labels size\".format(data_type, sentiment)\n",
    "                \n",
    "    return data, labels"
   ]
  },
  {
   "cell_type": "code",
   "execution_count": 3,
   "metadata": {},
   "outputs": [
    {
     "name": "stdout",
     "output_type": "stream",
     "text": [
      "IMDB reviews: train = 12500 pos / 12500 neg, test = 12500 pos / 12500 neg\n"
     ]
    }
   ],
   "source": [
    "data, labels = read_imdb_data()\n",
    "print(\"IMDB reviews: train = {} pos / {} neg, test = {} pos / {} neg\".format(\n",
    "            len(data['train']['pos']), len(data['train']['neg']),\n",
    "            len(data['test']['pos']), len(data['test']['neg'])))"
   ]
  },
  {
   "cell_type": "markdown",
   "metadata": {},
   "source": [
    "Now that we've read the raw training and testing data from the downloaded dataset, we will combine the positive and negative reviews and shuffle the resulting records."
   ]
  },
  {
   "cell_type": "code",
   "execution_count": 4,
   "metadata": {},
   "outputs": [],
   "source": [
    "from sklearn.utils import shuffle\n",
    "\n",
    "def prepare_imdb_data(data, labels):\n",
    "    \"\"\"Prepare training and test sets from IMDb movie reviews.\"\"\"\n",
    "    \n",
    "    #Combine positive and negative reviews and labels\n",
    "    data_train = data['train']['pos'] + data['train']['neg']\n",
    "    data_test = data['test']['pos'] + data['test']['neg']\n",
    "    labels_train = labels['train']['pos'] + labels['train']['neg']\n",
    "    labels_test = labels['test']['pos'] + labels['test']['neg']\n",
    "    \n",
    "    #Shuffle reviews and corresponding labels within training and test sets\n",
    "    data_train, labels_train = shuffle(data_train, labels_train)\n",
    "    data_test, labels_test = shuffle(data_test, labels_test)\n",
    "    \n",
    "    # Return a unified training data, test data, training labels, test labets\n",
    "    return data_train, data_test, labels_train, labels_test"
   ]
  },
  {
   "cell_type": "code",
   "execution_count": 5,
   "metadata": {},
   "outputs": [
    {
     "name": "stdout",
     "output_type": "stream",
     "text": [
      "IMDb reviews (combined): train = 25000, test = 25000\n"
     ]
    }
   ],
   "source": [
    "train_X, test_X, train_y, test_y = prepare_imdb_data(data, labels)\n",
    "print(\"IMDb reviews (combined): train = {}, test = {}\".format(len(train_X), len(test_X)))"
   ]
  },
  {
   "cell_type": "markdown",
   "metadata": {},
   "source": [
    "Now that we have our training and testing sets unified and prepared, we should do a quick check and see an example of the data our model will be trained on. This is generally a good idea as it allows you to see how each of the further processing steps affects the reviews and it also ensures that the data has been loaded correctly."
   ]
  },
  {
   "cell_type": "code",
   "execution_count": 6,
   "metadata": {},
   "outputs": [
    {
     "name": "stdout",
     "output_type": "stream",
     "text": [
      "Listening to the soundtrack at the moment, the images come back with a vividness that makes my longing for a dry eye very strong (in order to be able to type this). I've seen it twice thus far, and I should be ashamed for having seen it *only* twice.<br /><br />I've seen all Miyazaki & Studio Ghibli films, and they are invariably nothing less than masterpieces (except maybe for Nausicaa which was, even in the non-cut up version too premature compared to the nec-plus-ultra manga). Still, their strength sometimes becomes their weakness, as they tend to get too naive/positive (Chihiro), or, with more nuance, a bit too explicit/moralist (Mononoke). At least, compared to for example the other Ghibli master Takahata (Grave of the Fireflies / Only Yesterday / Raccoon Wars). But not this one.<br /><br />In Laputa, Miyazaki pours all the brilliant storytelling that tellers of tales have gathered and perfected over the ages, combined with a bit of morale, but nicely interwoven with not only a completely transcendental atmosphere, but also with the humor and amusement of for example Totoro. Every single main character is perfectly portrayed with their doubts and fears and their qualities that help them overcome difficulties. The pacing is so perfect that I know of nothing except a black hole that would be able to exert such a gravitational pull on your whole being. The story sets out as an action flic with mysteries hinted at, but when the girl falls from the sky, unconscious, floating with the stone, and the main theme kicks in, you get a glimpse of the grand mystery you're about to uncover, but the story then settles and gradually, over a number of carefully selected scenes of action and serene beauty, builds to an unforgettable climax of melancholy, hope, beauty - like, following days of sombre gloom, finally seeing the horizon on a clear morning, knowing the path walked, seeing the distance ahead, but smiling at the mere fact of being able to catch a glimpse of it.<br /><br />It is so like an exploding white light in your skull that if by the time the credits start rolling you have kept your eyes dry and your mind numb, you should see a therapist.<br /><br />Despite the fact that technically-image-wise some more recent Miyazakis might be more overwhelming, this to me remains his undisputed masterpiece. If you take a fraction of a second to realise that this was made back in 1986, you can only come to the conclusion that Hayao Miyazaki is a genius like a star that appears only once every 200 years. This of course has been suggested before, but to me this is his only film that can, on its own, fully illustrate that simple fact. If you miss this during your lifetime, you'll die with a huge gap - which would be a pity, as the coffin costs the same.\n",
      "1\n"
     ]
    }
   ],
   "source": [
    "print(train_X[100])\n",
    "print(train_y[100])"
   ]
  },
  {
   "cell_type": "markdown",
   "metadata": {},
   "source": [
    "The first step in processing the reviews is to make sure that any html tags that appear should be removed. In addition we wish to tokenize our input, that way words such as *entertained* and *entertaining* are considered the same with regard to sentiment analysis."
   ]
  },
  {
   "cell_type": "code",
   "execution_count": 7,
   "metadata": {},
   "outputs": [],
   "source": [
    "import nltk\n",
    "from nltk.corpus import stopwords\n",
    "from nltk.stem.porter import *\n",
    "\n",
    "import re\n",
    "from bs4 import BeautifulSoup\n",
    "\n",
    "def review_to_words(review):\n",
    "    nltk.download(\"stopwords\", quiet=True)\n",
    "    stemmer = PorterStemmer()\n",
    "    \n",
    "    text = BeautifulSoup(review, \"html.parser\").get_text() # Remove HTML tags\n",
    "    text = re.sub(r\"[^a-zA-Z0-9]\", \" \", text.lower()) # Convert to lower case\n",
    "    words = text.split() # Split string into words\n",
    "    words = [w for w in words if w not in stopwords.words(\"english\")] # Remove stopwords\n",
    "    words = [PorterStemmer().stem(w) for w in words] # stem\n",
    "    \n",
    "    return words"
   ]
  },
  {
   "cell_type": "markdown",
   "metadata": {},
   "source": [
    "The `review_to_words` method defined above uses `BeautifulSoup` to remove any html tags that appear and uses the `nltk` package to tokenize the reviews. As a check to ensure we know how everything is working, try applying `review_to_words` to one of the reviews in the training set."
   ]
  },
  {
   "cell_type": "code",
   "execution_count": 8,
   "metadata": {},
   "outputs": [
    {
     "data": {
      "text/plain": [
       "['listen',\n",
       " 'soundtrack',\n",
       " 'moment',\n",
       " 'imag',\n",
       " 'come',\n",
       " 'back',\n",
       " 'vivid',\n",
       " 'make',\n",
       " 'long',\n",
       " 'dri',\n",
       " 'eye',\n",
       " 'strong',\n",
       " 'order',\n",
       " 'abl',\n",
       " 'type',\n",
       " 'seen',\n",
       " 'twice',\n",
       " 'thu',\n",
       " 'far',\n",
       " 'asham',\n",
       " 'seen',\n",
       " 'twice',\n",
       " 'seen',\n",
       " 'miyazaki',\n",
       " 'studio',\n",
       " 'ghibli',\n",
       " 'film',\n",
       " 'invari',\n",
       " 'noth',\n",
       " 'less',\n",
       " 'masterpiec',\n",
       " 'except',\n",
       " 'mayb',\n",
       " 'nausicaa',\n",
       " 'even',\n",
       " 'non',\n",
       " 'cut',\n",
       " 'version',\n",
       " 'prematur',\n",
       " 'compar',\n",
       " 'nec',\n",
       " 'plu',\n",
       " 'ultra',\n",
       " 'manga',\n",
       " 'still',\n",
       " 'strength',\n",
       " 'sometim',\n",
       " 'becom',\n",
       " 'weak',\n",
       " 'tend',\n",
       " 'get',\n",
       " 'naiv',\n",
       " 'posit',\n",
       " 'chihiro',\n",
       " 'nuanc',\n",
       " 'bit',\n",
       " 'explicit',\n",
       " 'moralist',\n",
       " 'mononok',\n",
       " 'least',\n",
       " 'compar',\n",
       " 'exampl',\n",
       " 'ghibli',\n",
       " 'master',\n",
       " 'takahata',\n",
       " 'grave',\n",
       " 'firefli',\n",
       " 'yesterday',\n",
       " 'raccoon',\n",
       " 'war',\n",
       " 'one',\n",
       " 'laputa',\n",
       " 'miyazaki',\n",
       " 'pour',\n",
       " 'brilliant',\n",
       " 'storytel',\n",
       " 'teller',\n",
       " 'tale',\n",
       " 'gather',\n",
       " 'perfect',\n",
       " 'age',\n",
       " 'combin',\n",
       " 'bit',\n",
       " 'moral',\n",
       " 'nice',\n",
       " 'interwoven',\n",
       " 'complet',\n",
       " 'transcendent',\n",
       " 'atmospher',\n",
       " 'also',\n",
       " 'humor',\n",
       " 'amus',\n",
       " 'exampl',\n",
       " 'totoro',\n",
       " 'everi',\n",
       " 'singl',\n",
       " 'main',\n",
       " 'charact',\n",
       " 'perfectli',\n",
       " 'portray',\n",
       " 'doubt',\n",
       " 'fear',\n",
       " 'qualiti',\n",
       " 'help',\n",
       " 'overcom',\n",
       " 'difficulti',\n",
       " 'pace',\n",
       " 'perfect',\n",
       " 'know',\n",
       " 'noth',\n",
       " 'except',\n",
       " 'black',\n",
       " 'hole',\n",
       " 'would',\n",
       " 'abl',\n",
       " 'exert',\n",
       " 'gravit',\n",
       " 'pull',\n",
       " 'whole',\n",
       " 'stori',\n",
       " 'set',\n",
       " 'action',\n",
       " 'flic',\n",
       " 'mysteri',\n",
       " 'hint',\n",
       " 'girl',\n",
       " 'fall',\n",
       " 'sky',\n",
       " 'unconsci',\n",
       " 'float',\n",
       " 'stone',\n",
       " 'main',\n",
       " 'theme',\n",
       " 'kick',\n",
       " 'get',\n",
       " 'glimps',\n",
       " 'grand',\n",
       " 'mysteri',\n",
       " 'uncov',\n",
       " 'stori',\n",
       " 'settl',\n",
       " 'gradual',\n",
       " 'number',\n",
       " 'care',\n",
       " 'select',\n",
       " 'scene',\n",
       " 'action',\n",
       " 'seren',\n",
       " 'beauti',\n",
       " 'build',\n",
       " 'unforgett',\n",
       " 'climax',\n",
       " 'melancholi',\n",
       " 'hope',\n",
       " 'beauti',\n",
       " 'like',\n",
       " 'follow',\n",
       " 'day',\n",
       " 'sombr',\n",
       " 'gloom',\n",
       " 'final',\n",
       " 'see',\n",
       " 'horizon',\n",
       " 'clear',\n",
       " 'morn',\n",
       " 'know',\n",
       " 'path',\n",
       " 'walk',\n",
       " 'see',\n",
       " 'distanc',\n",
       " 'ahead',\n",
       " 'smile',\n",
       " 'mere',\n",
       " 'fact',\n",
       " 'abl',\n",
       " 'catch',\n",
       " 'glimps',\n",
       " 'like',\n",
       " 'explod',\n",
       " 'white',\n",
       " 'light',\n",
       " 'skull',\n",
       " 'time',\n",
       " 'credit',\n",
       " 'start',\n",
       " 'roll',\n",
       " 'kept',\n",
       " 'eye',\n",
       " 'dri',\n",
       " 'mind',\n",
       " 'numb',\n",
       " 'see',\n",
       " 'therapist',\n",
       " 'despit',\n",
       " 'fact',\n",
       " 'technic',\n",
       " 'imag',\n",
       " 'wise',\n",
       " 'recent',\n",
       " 'miyazaki',\n",
       " 'might',\n",
       " 'overwhelm',\n",
       " 'remain',\n",
       " 'undisput',\n",
       " 'masterpiec',\n",
       " 'take',\n",
       " 'fraction',\n",
       " 'second',\n",
       " 'realis',\n",
       " 'made',\n",
       " 'back',\n",
       " '1986',\n",
       " 'come',\n",
       " 'conclus',\n",
       " 'hayao',\n",
       " 'miyazaki',\n",
       " 'geniu',\n",
       " 'like',\n",
       " 'star',\n",
       " 'appear',\n",
       " 'everi',\n",
       " '200',\n",
       " 'year',\n",
       " 'cours',\n",
       " 'suggest',\n",
       " 'film',\n",
       " 'fulli',\n",
       " 'illustr',\n",
       " 'simpl',\n",
       " 'fact',\n",
       " 'miss',\n",
       " 'lifetim',\n",
       " 'die',\n",
       " 'huge',\n",
       " 'gap',\n",
       " 'would',\n",
       " 'piti',\n",
       " 'coffin',\n",
       " 'cost']"
      ]
     },
     "execution_count": 8,
     "metadata": {},
     "output_type": "execute_result"
    }
   ],
   "source": [
    "# TODO: Apply review_to_words to a review (train_X[100] or any other review)\n",
    "review_to_words(train_X[100])"
   ]
  },
  {
   "cell_type": "markdown",
   "metadata": {},
   "source": [
    "**Question:** Above we mentioned that `review_to_words` method removes html formatting and allows us to tokenize the words found in a review, for example, converting *entertained* and *entertaining* into *entertain* so that they are treated as though they are the same word. What else, if anything, does this method do to the input?"
   ]
  },
  {
   "cell_type": "markdown",
   "metadata": {},
   "source": [
    "**Answer:**\n",
    "This method will reduce the Word token by converting multiple words which holds same meaning in to a single word. Aditionally\n",
    "Remove HTML and any XML tags.\n",
    "Convert all the words to lower case and remove unnecessary special characters and also removes stopwords which is taken from nltk library."
   ]
  },
  {
   "cell_type": "markdown",
   "metadata": {},
   "source": [
    "The method below applies the `review_to_words` method to each of the reviews in the training and testing datasets. In addition it caches the results. This is because performing this processing step can take a long time. This way if you are unable to complete the notebook in the current session, you can come back without needing to process the data a second time."
   ]
  },
  {
   "cell_type": "code",
   "execution_count": 9,
   "metadata": {},
   "outputs": [],
   "source": [
    "import pickle\n",
    "\n",
    "cache_dir = os.path.join(\"../cache\", \"sentiment_analysis\")  # where to store cache files\n",
    "os.makedirs(cache_dir, exist_ok=True)  # ensure cache directory exists\n",
    "\n",
    "def preprocess_data(data_train, data_test, labels_train, labels_test,\n",
    "                    cache_dir=cache_dir, cache_file=\"preprocessed_data.pkl\"):\n",
    "    \"\"\"Convert each review to words; read from cache if available.\"\"\"\n",
    "\n",
    "    # If cache_file is not None, try to read from it first\n",
    "    cache_data = None\n",
    "    if cache_file is not None:\n",
    "        try:\n",
    "            with open(os.path.join(cache_dir, cache_file), \"rb\") as f:\n",
    "                cache_data = pickle.load(f)\n",
    "            print(\"Read preprocessed data from cache file:\", cache_file)\n",
    "        except:\n",
    "            pass  # unable to read from cache, but that's okay\n",
    "    \n",
    "    # If cache is missing, then do the heavy lifting\n",
    "    if cache_data is None:\n",
    "        # Preprocess training and test data to obtain words for each review\n",
    "        #words_train = list(map(review_to_words, data_train))\n",
    "        #words_test = list(map(review_to_words, data_test))\n",
    "        words_train = [review_to_words(review) for review in data_train]\n",
    "        words_test = [review_to_words(review) for review in data_test]\n",
    "        \n",
    "        # Write to cache file for future runs\n",
    "        if cache_file is not None:\n",
    "            cache_data = dict(words_train=words_train, words_test=words_test,\n",
    "                              labels_train=labels_train, labels_test=labels_test)\n",
    "            with open(os.path.join(cache_dir, cache_file), \"wb\") as f:\n",
    "                pickle.dump(cache_data, f)\n",
    "            print(\"Wrote preprocessed data to cache file:\", cache_file)\n",
    "    else:\n",
    "        # Unpack data loaded from cache file\n",
    "        words_train, words_test, labels_train, labels_test = (cache_data['words_train'],\n",
    "                cache_data['words_test'], cache_data['labels_train'], cache_data['labels_test'])\n",
    "    \n",
    "    return words_train, words_test, labels_train, labels_test"
   ]
  },
  {
   "cell_type": "code",
   "execution_count": 10,
   "metadata": {},
   "outputs": [
    {
     "name": "stdout",
     "output_type": "stream",
     "text": [
      "Wrote preprocessed data to cache file: preprocessed_data.pkl\n"
     ]
    }
   ],
   "source": [
    "# Preprocess data\n",
    "train_X, test_X, train_y, test_y = preprocess_data(train_X, test_X, train_y, test_y)"
   ]
  },
  {
   "cell_type": "markdown",
   "metadata": {},
   "source": [
    "## Transform the data\n",
    "\n",
    "In the XGBoost notebook we transformed the data from its word representation to a bag-of-words feature representation. For the model we are going to construct in this notebook we will construct a feature representation which is very similar. To start, we will represent each word as an integer. Of course, some of the words that appear in the reviews occur very infrequently and so likely don't contain much information for the purposes of sentiment analysis. The way we will deal with this problem is that we will fix the size of our working vocabulary and we will only include the words that appear most frequently. We will then combine all of the infrequent words into a single category and, in our case, we will label it as `1`.\n",
    "\n",
    "Since we will be using a recurrent neural network, it will be convenient if the length of each review is the same. To do this, we will fix a size for our reviews and then pad short reviews with the category 'no word' (which we will label `0`) and truncate long reviews."
   ]
  },
  {
   "cell_type": "markdown",
   "metadata": {},
   "source": [
    "### (TODO) Create a word dictionary\n",
    "\n",
    "To begin with, we need to construct a way to map words that appear in the reviews to integers. Here we fix the size of our vocabulary (including the 'no word' and 'infrequent' categories) to be `5000` but you may wish to change this to see how it affects the model.\n",
    "\n",
    "> **TODO:** Complete the implementation for the `build_dict()` method below. Note that even though the vocab_size is set to `5000`, we only want to construct a mapping for the most frequently appearing `4998` words. This is because we want to reserve the special labels `0` for 'no word' and `1` for 'infrequent word'."
   ]
  },
  {
   "cell_type": "code",
   "execution_count": 11,
   "metadata": {},
   "outputs": [],
   "source": [
    "import numpy as np\n",
    "from collections import Counter\n",
    "import re\n",
    "\n",
    "def build_dict(data, vocab_size = 5000):\n",
    "    \"\"\"Construct and return a dictionary mapping each of the most frequently appearing words to a unique integer.\"\"\"\n",
    "    \n",
    "    # TODO: Determine how often each word appears in `data`. Note that `data` is a list of sentences and that a\n",
    "    #       sentence is a list of words.\n",
    "    \n",
    "    #word_count = {} # A dict storing the words that appear in the reviews along with how often they occur\n",
    "    word_counts = Counter(np.concatenate( data, axis=0 ))\n",
    "    # TODO: Sort the words found in `data` so that sorted_words[0] is the most frequently appearing word and\n",
    "    #       sorted_words[-1] is the least frequently appearing word.\n",
    "    \n",
    "    sorted_words = sorted(word_counts, key=word_counts.get, reverse=True)\n",
    "    \n",
    "    word_dict = {} # A dict storing the words that appear in the reviews along with how often they occur\n",
    "    \n",
    "    for idx, word in enumerate(sorted_words[:vocab_size - 2]): # The -2 is so that we save room for the 'no word'\n",
    "        word_dict[word] = idx + 2                              # 'infrequent' labels\n",
    "        \n",
    "    return word_dict"
   ]
  },
  {
   "cell_type": "code",
   "execution_count": 12,
   "metadata": {},
   "outputs": [
    {
     "name": "stdout",
     "output_type": "stream",
     "text": [
      "{'movi': 2, 'film': 3, 'one': 4, 'like': 5, 'time': 6, 'good': 7, 'make': 8, 'charact': 9, 'get': 10, 'see': 11, 'watch': 12, 'stori': 13, 'even': 14, 'would': 15, 'realli': 16, 'well': 17, 'scene': 18, 'look': 19, 'show': 20, 'much': 21, 'end': 22, 'peopl': 23, 'bad': 24, 'go': 25, 'great': 26, 'also': 27, 'first': 28, 'love': 29, 'think': 30, 'way': 31, 'act': 32, 'play': 33, 'made': 34, 'thing': 35, 'could': 36, 'know': 37, 'say': 38, 'seem': 39, 'work': 40, 'plot': 41, 'two': 42, 'actor': 43, 'year': 44, 'come': 45, 'mani': 46, 'seen': 47, 'take': 48, 'life': 49, 'want': 50, 'never': 51, 'littl': 52, 'best': 53, 'tri': 54, 'man': 55, 'ever': 56, 'give': 57, 'better': 58, 'still': 59, 'perform': 60, 'find': 61, 'feel': 62, 'part': 63, 'back': 64, 'use': 65, 'someth': 66, 'director': 67, 'actual': 68, 'interest': 69, 'lot': 70, 'real': 71, 'old': 72, 'cast': 73, 'though': 74, 'live': 75, 'star': 76, 'enjoy': 77, 'guy': 78, 'anoth': 79, 'new': 80, 'role': 81, 'noth': 82, '10': 83, 'funni': 84, 'music': 85, 'point': 86, 'start': 87, 'set': 88, 'girl': 89, 'origin': 90, 'day': 91, 'world': 92, 'everi': 93, 'believ': 94, 'turn': 95, 'quit': 96, 'direct': 97, 'us': 98, 'thought': 99, 'fact': 100, 'minut': 101, 'horror': 102, 'kill': 103, 'action': 104, 'comedi': 105, 'pretti': 106, 'young': 107, 'wonder': 108, 'happen': 109, 'around': 110, 'got': 111, 'effect': 112, 'right': 113, 'long': 114, 'howev': 115, 'big': 116, 'line': 117, 'famili': 118, 'enough': 119, 'seri': 120, 'may': 121, 'need': 122, 'fan': 123, 'bit': 124, 'script': 125, 'beauti': 126, 'person': 127, 'becom': 128, 'without': 129, 'must': 130, 'alway': 131, 'friend': 132, 'tell': 133, 'reason': 134, 'saw': 135, 'last': 136, 'final': 137, 'kid': 138, 'almost': 139, 'put': 140, 'least': 141, 'sure': 142, 'done': 143, 'whole': 144, 'place': 145, 'complet': 146, 'kind': 147, 'differ': 148, 'expect': 149, 'shot': 150, 'far': 151, 'mean': 152, 'anyth': 153, 'book': 154, 'laugh': 155, 'might': 156, 'name': 157, 'sinc': 158, 'begin': 159, '2': 160, 'probabl': 161, 'woman': 162, 'help': 163, 'entertain': 164, 'let': 165, 'screen': 166, 'call': 167, 'tv': 168, 'moment': 169, 'away': 170, 'read': 171, 'yet': 172, 'rather': 173, 'worst': 174, 'run': 175, 'fun': 176, 'lead': 177, 'hard': 178, 'audienc': 179, 'idea': 180, 'anyon': 181, 'episod': 182, 'american': 183, 'found': 184, 'appear': 185, 'bore': 186, 'especi': 187, 'although': 188, 'hope': 189, 'cours': 190, 'keep': 191, 'anim': 192, 'job': 193, 'goe': 194, 'move': 195, 'sens': 196, 'version': 197, 'dvd': 198, 'war': 199, 'money': 200, 'someon': 201, 'mind': 202, 'mayb': 203, 'problem': 204, 'true': 205, 'hous': 206, 'everyth': 207, 'nice': 208, 'second': 209, 'rate': 210, 'three': 211, 'night': 212, 'face': 213, 'follow': 214, 'recommend': 215, 'main': 216, 'product': 217, 'worth': 218, 'leav': 219, 'human': 220, 'special': 221, 'excel': 222, 'togeth': 223, 'wast': 224, 'everyon': 225, 'sound': 226, 'john': 227, 'hand': 228, '1': 229, 'father': 230, 'later': 231, 'eye': 232, 'said': 233, 'view': 234, 'instead': 235, 'review': 236, 'boy': 237, 'high': 238, 'hour': 239, 'miss': 240, 'talk': 241, 'classic': 242, 'wife': 243, 'understand': 244, 'left': 245, 'care': 246, 'black': 247, 'death': 248, 'open': 249, 'murder': 250, 'write': 251, 'half': 252, 'head': 253, 'rememb': 254, 'chang': 255, 'viewer': 256, 'fight': 257, 'gener': 258, 'surpris': 259, 'short': 260, 'includ': 261, 'die': 262, 'fall': 263, 'less': 264, 'els': 265, 'entir': 266, 'piec': 267, 'involv': 268, 'pictur': 269, 'simpli': 270, 'top': 271, 'home': 272, 'power': 273, 'total': 274, 'usual': 275, 'budget': 276, 'attempt': 277, 'suppos': 278, 'releas': 279, 'hollywood': 280, 'terribl': 281, 'song': 282, 'men': 283, 'possibl': 284, 'featur': 285, 'portray': 286, 'disappoint': 287, 'poor': 288, '3': 289, 'coupl': 290, 'camera': 291, 'stupid': 292, 'dead': 293, 'wrong': 294, 'produc': 295, 'low': 296, 'either': 297, 'video': 298, 'aw': 299, 'definit': 300, 'except': 301, 'rest': 302, 'given': 303, 'absolut': 304, 'women': 305, 'lack': 306, 'word': 307, 'writer': 308, 'titl': 309, 'talent': 310, 'decid': 311, 'full': 312, 'perfect': 313, 'along': 314, 'style': 315, 'close': 316, 'truli': 317, 'school': 318, 'save': 319, 'emot': 320, 'age': 321, 'sex': 322, 'next': 323, 'bring': 324, 'mr': 325, 'case': 326, 'killer': 327, 'heart': 328, 'comment': 329, 'sort': 330, 'creat': 331, 'perhap': 332, 'came': 333, 'brother': 334, 'sever': 335, 'joke': 336, 'art': 337, 'dialogu': 338, 'game': 339, 'small': 340, 'base': 341, 'flick': 342, 'written': 343, 'sequenc': 344, 'meet': 345, 'earli': 346, 'often': 347, 'other': 348, 'mother': 349, 'develop': 350, 'humor': 351, 'actress': 352, 'consid': 353, 'dark': 354, 'guess': 355, 'amaz': 356, 'unfortun': 357, 'lost': 358, 'light': 359, 'exampl': 360, 'cinema': 361, 'drama': 362, 'ye': 363, 'white': 364, 'experi': 365, 'imagin': 366, 'mention': 367, 'stop': 368, 'natur': 369, 'forc': 370, 'manag': 371, 'felt': 372, 'cut': 373, 'present': 374, 'children': 375, 'fail': 376, 'son': 377, 'qualiti': 378, 'car': 379, 'support': 380, 'ask': 381, 'hit': 382, 'side': 383, 'voic': 384, 'extrem': 385, 'impress': 386, 'wors': 387, 'evil': 388, 'went': 389, 'stand': 390, 'certainli': 391, 'basic': 392, 'oh': 393, 'overal': 394, 'favorit': 395, 'horribl': 396, 'mysteri': 397, 'number': 398, 'type': 399, 'danc': 400, 'wait': 401, 'hero': 402, '5': 403, 'alreadi': 404, 'learn': 405, 'matter': 406, '4': 407, 'michael': 408, 'genr': 409, 'fine': 410, 'despit': 411, 'throughout': 412, 'walk': 413, 'success': 414, 'histori': 415, 'question': 416, 'zombi': 417, 'town': 418, 'relationship': 419, 'realiz': 420, 'past': 421, 'child': 422, 'daughter': 423, 'late': 424, 'b': 425, 'wish': 426, 'credit': 427, 'hate': 428, 'event': 429, 'theme': 430, 'touch': 431, 'citi': 432, 'today': 433, 'sometim': 434, 'behind': 435, 'god': 436, 'twist': 437, 'sit': 438, 'annoy': 439, 'stay': 440, 'deal': 441, 'abl': 442, 'rent': 443, 'pleas': 444, 'edit': 445, 'blood': 446, 'deserv': 447, 'anyway': 448, 'comic': 449, 'appar': 450, 'soon': 451, 'gave': 452, 'etc': 453, 'level': 454, 'slow': 455, 'chanc': 456, 'score': 457, 'bodi': 458, 'brilliant': 459, 'incred': 460, 'figur': 461, 'situat': 462, 'self': 463, 'major': 464, 'stuff': 465, 'decent': 466, 'element': 467, 'return': 468, 'dream': 469, 'obvious': 470, 'order': 471, 'continu': 472, 'pace': 473, 'ridicul': 474, 'happi': 475, 'group': 476, 'add': 477, 'highli': 478, 'thank': 479, 'ladi': 480, 'novel': 481, 'pain': 482, 'speak': 483, 'career': 484, 'shoot': 485, 'strang': 486, 'heard': 487, 'sad': 488, 'husband': 489, 'polic': 490, 'import': 491, 'break': 492, 'took': 493, 'cannot': 494, 'strong': 495, 'predict': 496, 'robert': 497, 'violenc': 498, 'hilari': 499, 'recent': 500, 'countri': 501, 'known': 502, 'particularli': 503, 'pick': 504, 'documentari': 505, 'season': 506, 'critic': 507, 'jame': 508, 'compar': 509, 'obviou': 510, 'alon': 511, 'told': 512, 'state': 513, 'visual': 514, 'rock': 515, 'exist': 516, 'theater': 517, 'offer': 518, 'opinion': 519, 'gore': 520, 'crap': 521, 'hold': 522, 'result': 523, 'room': 524, 'hear': 525, 'realiti': 526, 'effort': 527, 'clich': 528, 'thriller': 529, 'caus': 530, 'serious': 531, 'explain': 532, 'sequel': 533, 'king': 534, 'local': 535, 'ago': 536, 'none': 537, 'hell': 538, 'note': 539, 'allow': 540, 'david': 541, 'sister': 542, 'simpl': 543, 'femal': 544, 'deliv': 545, 'ok': 546, 'convinc': 547, 'class': 548, 'check': 549, 'suspens': 550, 'win': 551, 'buy': 552, 'oscar': 553, 'huge': 554, 'valu': 555, 'sexual': 556, 'scari': 557, 'cool': 558, 'excit': 559, 'similar': 560, 'exactli': 561, 'provid': 562, 'apart': 563, 'shown': 564, 'avoid': 565, 'seriou': 566, 'english': 567, 'taken': 568, 'whose': 569, 'cinematographi': 570, 'shock': 571, 'polit': 572, 'spoiler': 573, 'offic': 574, 'across': 575, 'middl': 576, 'street': 577, 'pass': 578, 'messag': 579, 'charm': 580, 'somewhat': 581, 'silli': 582, 'modern': 583, 'confus': 584, 'filmmak': 585, 'form': 586, 'tale': 587, 'singl': 588, 'jack': 589, 'mostli': 590, 'carri': 591, 'attent': 592, 'william': 593, 'sing': 594, 'subject': 595, 'five': 596, 'prove': 597, 'richard': 598, 'stage': 599, 'team': 600, 'unlik': 601, 'cop': 602, 'georg': 603, 'monster': 604, 'televis': 605, 'earth': 606, 'villain': 607, 'cover': 608, 'pay': 609, 'marri': 610, 'toward': 611, 'build': 612, 'parent': 613, 'pull': 614, 'due': 615, 'respect': 616, 'fill': 617, 'four': 618, 'dialog': 619, 'remind': 620, 'futur': 621, 'typic': 622, 'weak': 623, '7': 624, 'cheap': 625, 'intellig': 626, 'british': 627, 'atmospher': 628, '80': 629, 'clearli': 630, 'non': 631, 'paul': 632, 'dog': 633, 'fast': 634, 'knew': 635, 'artist': 636, '8': 637, 'crime': 638, 'easili': 639, 'escap': 640, 'doubt': 641, 'adult': 642, 'detail': 643, 'date': 644, 'romant': 645, 'member': 646, 'fire': 647, 'drive': 648, 'gun': 649, 'straight': 650, 'beyond': 651, 'fit': 652, 'attack': 653, 'imag': 654, 'upon': 655, 'posit': 656, 'whether': 657, 'fantast': 658, 'peter': 659, 'aspect': 660, 'appreci': 661, 'captur': 662, 'ten': 663, 'plan': 664, 'discov': 665, 'remain': 666, 'near': 667, 'period': 668, 'realist': 669, 'air': 670, 'mark': 671, 'red': 672, 'dull': 673, 'adapt': 674, 'within': 675, 'spend': 676, 'lose': 677, 'materi': 678, 'color': 679, 'chase': 680, 'mari': 681, 'storylin': 682, 'forget': 683, 'bunch': 684, 'clear': 685, 'lee': 686, 'victim': 687, 'nearli': 688, 'box': 689, 'york': 690, 'inspir': 691, 'match': 692, 'finish': 693, 'mess': 694, 'standard': 695, 'easi': 696, 'truth': 697, 'suffer': 698, 'busi': 699, 'dramat': 700, 'space': 701, 'bill': 702, 'western': 703, 'e': 704, 'list': 705, 'battl': 706, 'notic': 707, 'de': 708, 'french': 709, 'ad': 710, '9': 711, 'tom': 712, 'larg': 713, 'among': 714, 'eventu': 715, 'accept': 716, 'train': 717, 'agre': 718, 'spirit': 719, 'soundtrack': 720, 'third': 721, 'teenag': 722, 'soldier': 723, 'adventur': 724, 'famou': 725, 'sorri': 726, 'drug': 727, 'suggest': 728, 'normal': 729, 'babi': 730, 'cri': 731, 'troubl': 732, 'ultim': 733, 'contain': 734, 'certain': 735, 'cultur': 736, 'romanc': 737, 'rare': 738, 'lame': 739, 'somehow': 740, 'disney': 741, 'mix': 742, 'gone': 743, 'cartoon': 744, 'student': 745, 'fear': 746, 'reveal': 747, 'suck': 748, 'kept': 749, 'attract': 750, 'appeal': 751, 'premis': 752, 'design': 753, 'secret': 754, 'greatest': 755, 'shame': 756, 'throw': 757, 'copi': 758, 'scare': 759, 'wit': 760, 'admit': 761, 'america': 762, 'particular': 763, 'brought': 764, 'relat': 765, 'screenplay': 766, 'whatev': 767, 'pure': 768, '70': 769, 'harri': 770, 'averag': 771, 'master': 772, 'describ': 773, 'male': 774, 'treat': 775, '20': 776, 'issu': 777, 'fantasi': 778, 'warn': 779, 'inde': 780, 'forward': 781, 'background': 782, 'free': 783, 'project': 784, 'memor': 785, 'japanes': 786, 'poorli': 787, 'award': 788, 'locat': 789, 'potenti': 790, 'amus': 791, 'struggl': 792, 'weird': 793, 'magic': 794, 'societi': 795, 'okay': 796, 'accent': 797, 'doctor': 798, 'imdb': 799, 'hot': 800, 'water': 801, '30': 802, 'alien': 803, 'express': 804, 'dr': 805, 'odd': 806, 'choic': 807, 'crazi': 808, 'studio': 809, 'fiction': 810, 'control': 811, 'becam': 812, 'masterpiec': 813, 'difficult': 814, 'fli': 815, 'joe': 816, 'scream': 817, 'costum': 818, 'lover': 819, 'refer': 820, 'uniqu': 821, 'remak': 822, 'girlfriend': 823, 'vampir': 824, 'prison': 825, 'execut': 826, 'wear': 827, 'jump': 828, 'wood': 829, 'unless': 830, 'creepi': 831, 'cheesi': 832, 'superb': 833, 'otherwis': 834, 'parti': 835, 'ghost': 836, 'roll': 837, 'mad': 838, 'public': 839, 'depict': 840, 'badli': 841, 'earlier': 842, 'moral': 843, 'jane': 844, 'week': 845, 'fi': 846, 'dumb': 847, 'flaw': 848, 'grow': 849, 'deep': 850, 'sci': 851, 'maker': 852, 'cat': 853, 'connect': 854, 'older': 855, 'footag': 856, 'bother': 857, 'plenti': 858, 'outsid': 859, 'stick': 860, 'gay': 861, 'catch': 862, 'co': 863, 'plu': 864, 'popular': 865, 'equal': 866, 'social': 867, 'quickli': 868, 'disturb': 869, 'perfectli': 870, 'dress': 871, '90': 872, 'era': 873, 'mistak': 874, 'lie': 875, 'ride': 876, 'previou': 877, 'combin': 878, 'concept': 879, 'band': 880, 'rich': 881, 'surviv': 882, 'answer': 883, 'front': 884, 'sweet': 885, 'christma': 886, 'insid': 887, 'eat': 888, 'concern': 889, 'bare': 890, 'ben': 891, 'listen': 892, 'beat': 893, 'c': 894, 'term': 895, 'serv': 896, 'la': 897, 'german': 898, 'meant': 899, 'hardli': 900, 'stereotyp': 901, 'innoc': 902, 'law': 903, 'desper': 904, 'promis': 905, 'memori': 906, 'intent': 907, 'cute': 908, 'steal': 909, 'variou': 910, 'inform': 911, 'brain': 912, 'post': 913, 'tone': 914, 'island': 915, 'amount': 916, 'compani': 917, 'track': 918, 'nuditi': 919, 'claim': 920, 'store': 921, 'flat': 922, '50': 923, 'hair': 924, 'univers': 925, 'land': 926, 'kick': 927, 'fairli': 928, 'scott': 929, 'danger': 930, 'player': 931, 'plain': 932, 'step': 933, 'crew': 934, 'toni': 935, 'share': 936, 'tast': 937, 'centuri': 938, 'engag': 939, 'achiev': 940, 'cold': 941, 'travel': 942, 'rip': 943, 'suit': 944, 'record': 945, 'sadli': 946, 'manner': 947, 'tension': 948, 'wrote': 949, 'spot': 950, 'intens': 951, 'fascin': 952, 'familiar': 953, 'burn': 954, 'remark': 955, 'depth': 956, 'destroy': 957, 'histor': 958, 'sleep': 959, 'purpos': 960, 'languag': 961, 'ruin': 962, 'ignor': 963, 'delight': 964, 'unbeliev': 965, 'italian': 966, 'collect': 967, 'soul': 968, 'abil': 969, 'clever': 970, 'detect': 971, 'violent': 972, 'rape': 973, 'reach': 974, 'door': 975, 'liter': 976, 'scienc': 977, 'trash': 978, 'commun': 979, 'reveng': 980, 'caught': 981, 'creatur': 982, 'approach': 983, 'trip': 984, 'fashion': 985, 'intrigu': 986, 'introduc': 987, 'skill': 988, 'paint': 989, 'complex': 990, 'channel': 991, 'camp': 992, 'christian': 993, 'hole': 994, 'extra': 995, 'limit': 996, 'ann': 997, 'mental': 998, 'immedi': 999, '6': 1000, 'mere': 1001, 'comput': 1002, 'slightli': 1003, 'million': 1004, 'slasher': 1005, 'conclus': 1006, 'suddenli': 1007, 'imposs': 1008, 'neither': 1009, 'crimin': 1010, 'teen': 1011, 'nation': 1012, 'physic': 1013, 'spent': 1014, 'respons': 1015, 'planet': 1016, 'receiv': 1017, 'fake': 1018, 'sick': 1019, 'blue': 1020, 'bizarr': 1021, 'embarrass': 1022, 'indian': 1023, 'ring': 1024, '15': 1025, 'pop': 1026, 'drop': 1027, 'drag': 1028, 'haunt': 1029, 'suspect': 1030, 'pointless': 1031, 'edg': 1032, 'search': 1033, 'handl': 1034, 'common': 1035, 'biggest': 1036, 'hurt': 1037, 'faith': 1038, 'arriv': 1039, 'technic': 1040, 'angel': 1041, 'genuin': 1042, 'dad': 1043, 'solid': 1044, 'awesom': 1045, 'f': 1046, 'focu': 1047, 'colleg': 1048, 'former': 1049, 'van': 1050, 'count': 1051, 'heavi': 1052, 'tear': 1053, 'rais': 1054, 'wall': 1055, 'laughabl': 1056, 'visit': 1057, 'younger': 1058, 'excus': 1059, 'sign': 1060, 'fair': 1061, 'cult': 1062, 'key': 1063, 'motion': 1064, 'tough': 1065, 'desir': 1066, 'super': 1067, 'addit': 1068, 'stun': 1069, 'exploit': 1070, 'cloth': 1071, 'tortur': 1072, 'smith': 1073, 'race': 1074, 'davi': 1075, 'author': 1076, 'cross': 1077, 'jim': 1078, 'focus': 1079, 'compel': 1080, 'minor': 1081, 'consist': 1082, 'pathet': 1083, 'commit': 1084, 'chemistri': 1085, 'park': 1086, 'obsess': 1087, 'frank': 1088, 'tradit': 1089, 'grade': 1090, '60': 1091, 'asid': 1092, 'brutal': 1093, 'steve': 1094, 'somewher': 1095, 'u': 1096, 'depress': 1097, 'rule': 1098, 'opportun': 1099, 'grant': 1100, 'explor': 1101, 'honest': 1102, 'besid': 1103, 'dub': 1104, 'anti': 1105, 'intend': 1106, 'trailer': 1107, 'bar': 1108, 'scientist': 1109, 'longer': 1110, 'regard': 1111, 'west': 1112, 'decad': 1113, 'judg': 1114, 'silent': 1115, 'armi': 1116, 'creativ': 1117, 'wild': 1118, 'stewart': 1119, 'g': 1120, 'south': 1121, 'draw': 1122, 'road': 1123, 'govern': 1124, 'boss': 1125, 'ex': 1126, 'practic': 1127, 'motiv': 1128, 'surprisingli': 1129, 'festiv': 1130, 'gang': 1131, 'club': 1132, 'redeem': 1133, 'page': 1134, 'green': 1135, 'london': 1136, 'militari': 1137, 'machin': 1138, 'aliv': 1139, 'display': 1140, 'idiot': 1141, 'repeat': 1142, 'thrill': 1143, 'yeah': 1144, '100': 1145, 'folk': 1146, 'nobodi': 1147, '40': 1148, 'journey': 1149, 'garbag': 1150, 'ground': 1151, 'smile': 1152, 'tire': 1153, 'mood': 1154, 'bought': 1155, 'cost': 1156, 'stone': 1157, 'sam': 1158, 'mouth': 1159, 'noir': 1160, 'terrif': 1161, 'agent': 1162, 'utterli': 1163, 'requir': 1164, 'area': 1165, 'honestli': 1166, 'sexi': 1167, 'geniu': 1168, 'report': 1169, 'investig': 1170, 'enter': 1171, 'glad': 1172, 'humour': 1173, 'serial': 1174, 'passion': 1175, 'occasion': 1176, 'narr': 1177, 'climax': 1178, 'marriag': 1179, 'industri': 1180, 'studi': 1181, 'ship': 1182, 'nowher': 1183, 'charli': 1184, 'center': 1185, 'demon': 1186, 'loos': 1187, 'bear': 1188, 'hors': 1189, 'hang': 1190, 'wow': 1191, 'graphic': 1192, 'giant': 1193, 'admir': 1194, 'send': 1195, 'damn': 1196, 'loud': 1197, 'nake': 1198, 'rel': 1199, 'profession': 1200, 'subtl': 1201, 'blow': 1202, 'bottom': 1203, 'batman': 1204, 'insult': 1205, 'kelli': 1206, 'r': 1207, 'boyfriend': 1208, 'doubl': 1209, 'initi': 1210, 'frame': 1211, 'gem': 1212, 'opera': 1213, 'drawn': 1214, 'challeng': 1215, 'church': 1216, 'cinemat': 1217, 'affect': 1218, 'fulli': 1219, 'l': 1220, 'evid': 1221, 'seek': 1222, 'j': 1223, 'nightmar': 1224, 'conflict': 1225, 'arm': 1226, 'essenti': 1227, 'henri': 1228, 'christoph': 1229, 'grace': 1230, 'wind': 1231, 'narrat': 1232, 'witch': 1233, 'assum': 1234, 'hunt': 1235, 'push': 1236, 'wise': 1237, 'chri': 1238, 'month': 1239, 'repres': 1240, 'nomin': 1241, 'sceneri': 1242, 'avail': 1243, 'hide': 1244, 'affair': 1245, 'justic': 1246, 'thu': 1247, 'smart': 1248, 'bond': 1249, 'interview': 1250, 'flashback': 1251, 'outstand': 1252, 'constantli': 1253, 'presenc': 1254, 'satisfi': 1255, 'central': 1256, 'bed': 1257, 'content': 1258, 'sell': 1259, 'iron': 1260, 'gag': 1261, 'everybodi': 1262, 'slowli': 1263, 'hotel': 1264, 'hire': 1265, 'system': 1266, 'charl': 1267, 'adam': 1268, 'individu': 1269, 'hey': 1270, 'thrown': 1271, 'mediocr': 1272, 'allen': 1273, 'jone': 1274, 'ray': 1275, 'billi': 1276, 'lesson': 1277, 'photographi': 1278, 'cameo': 1279, 'fellow': 1280, 'pari': 1281, 'strike': 1282, 'brief': 1283, 'independ': 1284, 'absurd': 1285, 'rise': 1286, 'neg': 1287, 'phone': 1288, 'impact': 1289, 'ill': 1290, 'born': 1291, 'model': 1292, 'spoil': 1293, 'angl': 1294, 'fresh': 1295, 'likabl': 1296, 'abus': 1297, 'hill': 1298, 'discuss': 1299, 'sight': 1300, 'ahead': 1301, 'photograph': 1302, 'sent': 1303, 'blame': 1304, 'shine': 1305, 'occur': 1306, 'logic': 1307, 'mainli': 1308, 'bruce': 1309, 'forev': 1310, 'skip': 1311, 'commerci': 1312, 'surround': 1313, 'held': 1314, 'segment': 1315, 'teacher': 1316, 'zero': 1317, 'blond': 1318, 'summer': 1319, 'trap': 1320, 'satir': 1321, 'resembl': 1322, 'ball': 1323, 'fool': 1324, 'six': 1325, 'queen': 1326, 'sub': 1327, 'tragedi': 1328, 'twice': 1329, 'reaction': 1330, 'pack': 1331, 'bomb': 1332, 'will': 1333, 'hospit': 1334, 'protagonist': 1335, 'sport': 1336, 'mile': 1337, 'trust': 1338, 'jerri': 1339, 'mom': 1340, 'vote': 1341, 'drink': 1342, 'encount': 1343, 'plane': 1344, 'program': 1345, 'current': 1346, 'al': 1347, 'station': 1348, 'celebr': 1349, 'choos': 1350, 'martin': 1351, 'join': 1352, 'round': 1353, 'tragic': 1354, 'field': 1355, 'lord': 1356, 'favourit': 1357, 'robot': 1358, 'vision': 1359, 'jean': 1360, 'tie': 1361, 'arthur': 1362, 'fortun': 1363, 'random': 1364, 'roger': 1365, 'psycholog': 1366, 'intern': 1367, 'dread': 1368, 'prefer': 1369, 'epic': 1370, 'improv': 1371, 'nonsens': 1372, 'pleasur': 1373, 'legend': 1374, 'highlight': 1375, 'formula': 1376, '11': 1377, 'tape': 1378, 'dollar': 1379, 'thin': 1380, 'object': 1381, 'wide': 1382, 'porn': 1383, 'gorgeou': 1384, 'fox': 1385, 'influenc': 1386, 'buddi': 1387, 'ugli': 1388, 'nasti': 1389, 'prepar': 1390, 'ii': 1391, 'warm': 1392, 'progress': 1393, 'supposedli': 1394, 'reflect': 1395, 'youth': 1396, 'worthi': 1397, 'unusu': 1398, 'latter': 1399, 'length': 1400, 'crash': 1401, 'superior': 1402, 'shop': 1403, 'seven': 1404, 'childhood': 1405, 'theatr': 1406, 'remot': 1407, 'disgust': 1408, 'paid': 1409, 'funniest': 1410, 'pilot': 1411, 'castl': 1412, 'convers': 1413, 'fell': 1414, 'trick': 1415, 'establish': 1416, 'gangster': 1417, 'disast': 1418, 'rob': 1419, 'disappear': 1420, 'suicid': 1421, 'mine': 1422, 'ident': 1423, 'heaven': 1424, 'mask': 1425, 'singer': 1426, 'forgotten': 1427, 'heroin': 1428, 'decis': 1429, 'tend': 1430, 'brian': 1431, 'partner': 1432, 'alan': 1433, 'recogn': 1434, 'desert': 1435, 'p': 1436, 'stuck': 1437, 'ms': 1438, 'sky': 1439, 'thoroughli': 1440, 'accur': 1441, 'replac': 1442, 'market': 1443, 'clue': 1444, 'eddi': 1445, 'andi': 1446, 'commentari': 1447, 'danni': 1448, 'seemingli': 1449, 'uncl': 1450, 'devil': 1451, 'jackson': 1452, 'refus': 1453, 'therefor': 1454, 'that': 1455, 'pair': 1456, 'ed': 1457, 'fate': 1458, 'fault': 1459, 'river': 1460, 'accid': 1461, 'unit': 1462, 'afraid': 1463, 'tune': 1464, 'clean': 1465, 'stephen': 1466, 'hidden': 1467, 'russian': 1468, 'quick': 1469, 'convey': 1470, 'test': 1471, 'readi': 1472, 'captain': 1473, 'instanc': 1474, 'irrit': 1475, 'european': 1476, 'frustrat': 1477, 'insan': 1478, 'daniel': 1479, 'rescu': 1480, 'wed': 1481, 'chines': 1482, 'food': 1483, '1950': 1484, 'angri': 1485, 'lock': 1486, 'dirti': 1487, 'joy': 1488, 'price': 1489, 'steven': 1490, 'cage': 1491, 'bland': 1492, 'rang': 1493, 'anymor': 1494, 'wooden': 1495, 'jason': 1496, 'news': 1497, 'n': 1498, 'rush': 1499, 'led': 1500, 'board': 1501, 'twenti': 1502, '12': 1503, 'martial': 1504, 'worri': 1505, 'cgi': 1506, 'transform': 1507, 'hunter': 1508, 'symbol': 1509, 'piti': 1510, 'onto': 1511, 'x': 1512, 'sentiment': 1513, 'johnni': 1514, 'invent': 1515, 'attitud': 1516, 'explan': 1517, 'process': 1518, 'awar': 1519, 'owner': 1520, 'aim': 1521, 'favor': 1522, 'necessari': 1523, 'floor': 1524, 'target': 1525, 'energi': 1526, 'religi': 1527, 'opposit': 1528, 'window': 1529, 'insight': 1530, 'blind': 1531, 'chick': 1532, 'movement': 1533, 'possess': 1534, 'deepli': 1535, 'comparison': 1536, 'mountain': 1537, 'research': 1538, 'rain': 1539, 'grand': 1540, 'comed': 1541, 'whatsoev': 1542, 'shadow': 1543, 'began': 1544, 'bank': 1545, 'mid': 1546, 'parodi': 1547, 'princ': 1548, 'taylor': 1549, 'credibl': 1550, 'friendship': 1551, 'pre': 1552, 'weapon': 1553, 'teach': 1554, 'flesh': 1555, 'dougla': 1556, 'bloodi': 1557, 'hint': 1558, 'protect': 1559, 'terror': 1560, 'marvel': 1561, 'anybodi': 1562, 'drunk': 1563, 'watchabl': 1564, 'leader': 1565, 'load': 1566, 'accord': 1567, 'superman': 1568, 'brown': 1569, 'freddi': 1570, 'jeff': 1571, 'tim': 1572, 'seat': 1573, 'appropri': 1574, 'hitler': 1575, 'keaton': 1576, 'villag': 1577, 'knock': 1578, 'charg': 1579, 'unknown': 1580, 'unnecessari': 1581, 'england': 1582, 'enemi': 1583, 'empti': 1584, 'media': 1585, 'buck': 1586, 'craft': 1587, 'strength': 1588, 'wave': 1589, 'utter': 1590, 'dare': 1591, 'perspect': 1592, 'nativ': 1593, 'contrast': 1594, 'correct': 1595, 'kiss': 1596, 'ford': 1597, 'knowledg': 1598, 'soap': 1599, 'distract': 1600, 'magnific': 1601, 'anywher': 1602, 'chill': 1603, 'speed': 1604, 'nazi': 1605, 'breath': 1606, '1980': 1607, 'ice': 1608, 'mission': 1609, 'fred': 1610, 'crowd': 1611, 'joan': 1612, 'moon': 1613, 'jr': 1614, 'soft': 1615, 'frighten': 1616, 'kate': 1617, '000': 1618, 'hundr': 1619, 'dan': 1620, 'dick': 1621, 'nick': 1622, 'radio': 1623, 'dozen': 1624, 'somebodi': 1625, 'simon': 1626, 'thousand': 1627, 'academi': 1628, 'loss': 1629, 'andrew': 1630, 'shakespear': 1631, 'quot': 1632, 'sum': 1633, 'vehicl': 1634, 'account': 1635, 'root': 1636, '1970': 1637, 'leg': 1638, 'behavior': 1639, 'convent': 1640, 'gold': 1641, 'regular': 1642, 'compet': 1643, 'worker': 1644, 'pretenti': 1645, 'demand': 1646, 'explos': 1647, 'notabl': 1648, 'privat': 1649, 'japan': 1650, 'lynch': 1651, 'stretch': 1652, 'candi': 1653, 'interpret': 1654, 'debut': 1655, 'tarzan': 1656, 'constant': 1657, 'spi': 1658, 'revolv': 1659, 'sea': 1660, 'translat': 1661, 'prais': 1662, 'failur': 1663, 'quiet': 1664, 'ass': 1665, 'technolog': 1666, 'threaten': 1667, 'jesu': 1668, 'franc': 1669, 'sat': 1670, 'toy': 1671, 'aid': 1672, 'higher': 1673, 'punch': 1674, 'met': 1675, 'kevin': 1676, 'interact': 1677, 'mike': 1678, 'abandon': 1679, 'vh': 1680, 'confront': 1681, 'separ': 1682, 'command': 1683, 'bet': 1684, 'techniqu': 1685, 'servic': 1686, 'belong': 1687, 'stunt': 1688, 'gotten': 1689, 'recal': 1690, 'site': 1691, 'bug': 1692, 'foot': 1693, 'cabl': 1694, 'freak': 1695, 'jimmi': 1696, 'capabl': 1697, 'fu': 1698, 'bright': 1699, 'african': 1700, 'succeed': 1701, 'clark': 1702, 'boat': 1703, 'presid': 1704, 'fat': 1705, 'stock': 1706, 'gene': 1707, 'spanish': 1708, 'structur': 1709, 'paper': 1710, 'kidnap': 1711, 'whilst': 1712, 'factor': 1713, 'belief': 1714, 'realis': 1715, 'tree': 1716, 'attend': 1717, 'complic': 1718, 'realism': 1719, 'bob': 1720, 'witti': 1721, 'educ': 1722, 'finest': 1723, 'broken': 1724, 'assist': 1725, 'santa': 1726, 'depart': 1727, 'observ': 1728, 'smoke': 1729, 'v': 1730, 'determin': 1731, 'up': 1732, 'rubbish': 1733, 'oper': 1734, 'fame': 1735, 'hat': 1736, 'lewi': 1737, 'domin': 1738, 'routin': 1739, 'foreign': 1740, 'morgan': 1741, 'hook': 1742, 'advanc': 1743, 'safe': 1744, 'kinda': 1745, 'lone': 1746, 'rank': 1747, 'numer': 1748, 'rose': 1749, 'shallow': 1750, 'vs': 1751, 'civil': 1752, 'shape': 1753, 'werewolf': 1754, 'washington': 1755, 'morn': 1756, 'gari': 1757, 'ordinari': 1758, 'accomplish': 1759, 'winner': 1760, 'kong': 1761, 'grab': 1762, 'virtual': 1763, 'whenev': 1764, 'peac': 1765, 'luck': 1766, 'h': 1767, 'offens': 1768, 'patient': 1769, 'unfunni': 1770, 'bigger': 1771, 'welcom': 1772, 'complain': 1773, 'contriv': 1774, 'activ': 1775, 'pretend': 1776, 'dimension': 1777, 'trek': 1778, 'con': 1779, 'wake': 1780, 'flash': 1781, 'eric': 1782, 'cain': 1783, 'code': 1784, 'dri': 1785, 'lesbian': 1786, 'guard': 1787, 'corrupt': 1788, 'albert': 1789, 'statu': 1790, 'dancer': 1791, 'manipul': 1792, 'gain': 1793, 'speech': 1794, 'sourc': 1795, 'context': 1796, 'signific': 1797, 'awkward': 1798, 'anthoni': 1799, 'psycho': 1800, 'sean': 1801, '13': 1802, 'clip': 1803, 'corni': 1804, 'advic': 1805, 'theatric': 1806, 'curiou': 1807, 'religion': 1808, 'w': 1809, 'reli': 1810, 'priest': 1811, 'addict': 1812, 'flow': 1813, 'specif': 1814, 'secur': 1815, 'jennif': 1816, 'howard': 1817, 'asian': 1818, 'skin': 1819, 'luke': 1820, 'comfort': 1821, 'organ': 1822, 'core': 1823, 'promot': 1824, 'golden': 1825, 'cheat': 1826, 'lucki': 1827, 'cash': 1828, 'associ': 1829, 'dislik': 1830, 'lower': 1831, 'regret': 1832, 'frankli': 1833, 'degre': 1834, 'frequent': 1835, 'contribut': 1836, 'devic': 1837, 'balanc': 1838, 'spell': 1839, 'wing': 1840, 'forgiv': 1841, 'print': 1842, 'lake': 1843, 'sake': 1844, 'thoma': 1845, 'betti': 1846, 'mass': 1847, 'unexpect': 1848, 'crack': 1849, 'gordon': 1850, 'depend': 1851, 'invit': 1852, 'grown': 1853, 'amateur': 1854, 'unfold': 1855, 'categori': 1856, 'construct': 1857, 'walter': 1858, 'intellectu': 1859, 'anna': 1860, 'matur': 1861, 'honor': 1862, 'grew': 1863, 'condit': 1864, 'spectacular': 1865, 'veteran': 1866, 'sole': 1867, 'mirror': 1868, 'sudden': 1869, 'experienc': 1870, 'freedom': 1871, 'robin': 1872, 'meanwhil': 1873, 'liner': 1874, 'grip': 1875, 'demonstr': 1876, 'gift': 1877, 'card': 1878, 'overli': 1879, 'sheriff': 1880, 'subtitl': 1881, 'drew': 1882, 'section': 1883, 'crappi': 1884, 'brilliantli': 1885, 'circumst': 1886, 'unabl': 1887, 'oliv': 1888, 'theori': 1889, 'colour': 1890, 'path': 1891, 'sheer': 1892, 'pile': 1893, 'altern': 1894, 'parker': 1895, 'matt': 1896, 'cook': 1897, 'laughter': 1898, 'wander': 1899, 'accident': 1900, 'relief': 1901, 'sinatra': 1902, 'defin': 1903, 'hall': 1904, 'treatment': 1905, 'lawyer': 1906, 'dragon': 1907, 'hank': 1908, 'captiv': 1909, 'halloween': 1910, 'gratuit': 1911, 'moor': 1912, 'k': 1913, 'unintent': 1914, 'kung': 1915, 'cowboy': 1916, 'wayn': 1917, 'barbara': 1918, 'broadway': 1919, 'jacki': 1920, 'wound': 1921, 'canadian': 1922, 'spoof': 1923, 'surreal': 1924, 'statement': 1925, 'winter': 1926, 'fare': 1927, 'compos': 1928, 'cheer': 1929, 'gonna': 1930, 'fish': 1931, 'treasur': 1932, 'sensit': 1933, 'woodi': 1934, 'unrealist': 1935, 'emerg': 1936, 'victor': 1937, 'sympathet': 1938, 'driven': 1939, 'neighbor': 1940, 'ran': 1941, 'menac': 1942, 'topic': 1943, 'expos': 1944, 'overlook': 1945, 'authent': 1946, 'glass': 1947, 'handsom': 1948, 'chief': 1949, 'michel': 1950, 'gross': 1951, 'ancient': 1952, 'contemporari': 1953, 'network': 1954, 'built': 1955, 'comedian': 1956, 'russel': 1957, 'pleasant': 1958, 'nevertheless': 1959, 'feet': 1960, 'stranger': 1961, 'cinderella': 1962, 'endless': 1963, 'miser': 1964, 'earn': 1965, 'consider': 1966, 'underr': 1967, 'blockbust': 1968, 'gori': 1969, 'letter': 1970, 'solv': 1971, 'brook': 1972, 'switch': 1973, 'convict': 1974, 'virgin': 1975, 'bullet': 1976, 'edward': 1977, 'joseph': 1978, 'victoria': 1979, 'cynic': 1980, 'scale': 1981, '0': 1982, 'chosen': 1983, 'scenario': 1984, 'alex': 1985, 'sword': 1986, 'curs': 1987, 'com': 1988, 'gut': 1989, 'outrag': 1990, 'uk': 1991, 'driver': 1992, 'wrap': 1993, 'juli': 1994, 'proper': 1995, 'substanc': 1996, 'screenwrit': 1997, 'monkey': 1998, 'par': 1999, 'remov': 2000, 'court': 2001, 'indic': 2002, 'bird': 2003, 'advertis': 2004, 'nanci': 2005, 'inevit': 2006, 'rental': 2007, 'naiv': 2008, 'grave': 2009, 'roy': 2010, 'loser': 2011, 'consequ': 2012, 'brave': 2013, 'le': 2014, 'bridg': 2015, 'slap': 2016, 'fatal': 2017, 'invis': 2018, 'germani': 2019, 'anger': 2020, 'loui': 2021, 'provok': 2022, 'footbal': 2023, 'ador': 2024, 'anderson': 2025, 'alcohol': 2026, 'chan': 2027, 'stumbl': 2028, 'ryan': 2029, 'professor': 2030, 'willi': 2031, 'assassin': 2032, 'sharp': 2033, 'bat': 2034, '1930': 2035, 'patrick': 2036, 'australian': 2037, 'strongli': 2038, 'saturday': 2039, 'ape': 2040, 'heck': 2041, 'refresh': 2042, 'liber': 2043, 'amateurish': 2044, 'deni': 2045, 'eight': 2046, 'trilog': 2047, 'lousi': 2048, 'cell': 2049, 'sin': 2050, 'justifi': 2051, 'san': 2052, 'resid': 2053, 'vagu': 2054, 'defeat': 2055, 'reput': 2056, 'mini': 2057, 'sympathi': 2058, 'indi': 2059, 'creator': 2060, 'terrifi': 2061, 'tediou': 2062, 'prevent': 2063, 'tabl': 2064, 'expert': 2065, 'endur': 2066, 'task': 2067, 'employ': 2068, 'offend': 2069, 'imit': 2070, 'rival': 2071, 'basebal': 2072, 'trial': 2073, 'che': 2074, 'dig': 2075, 'weekend': 2076, 'beach': 2077, 'max': 2078, 'complaint': 2079, 'europ': 2080, 'pitch': 2081, 'fairi': 2082, 'risk': 2083, 'murphi': 2084, 'purchas': 2085, 'format': 2086, 'glimps': 2087, 'tini': 2088, 'nois': 2089, 'powel': 2090, 'harsh': 2091, 'bite': 2092, 'reminisc': 2093, 'hype': 2094, 'titan': 2095, 'fals': 2096, 'prime': 2097, 'strip': 2098, 'north': 2099, 'asleep': 2100, '14': 2101, 'till': 2102, 'destruct': 2103, 'revel': 2104, 'africa': 2105, 'descript': 2106, 'texa': 2107, 'surfac': 2108, 'inner': 2109, 'spin': 2110, 'sitcom': 2111, 'semi': 2112, 'excess': 2113, 'uninterest': 2114, 'arrest': 2115, 'controversi': 2116, 'massiv': 2117, 'makeup': 2118, 'dinosaur': 2119, 'maintain': 2120, 'argu': 2121, 'twin': 2122, 'hitchcock': 2123, 'kim': 2124, 'ideal': 2125, 'expens': 2126, 'reject': 2127, 'insist': 2128, 'stare': 2129, 'melodrama': 2130, 'ludicr': 2131, 'atroci': 2132, 'nail': 2133, 'forest': 2134, 'supernatur': 2135, 'erot': 2136, 'subplot': 2137, 'host': 2138, 'ala': 2139, 'ga': 2140, 'columbo': 2141, 'press': 2142, 'dude': 2143, 'notch': 2144, 'presum': 2145, 'cant': 2146, 'identifi': 2147, 'character': 2148, 'plagu': 2149, 'guest': 2150, 'crude': 2151, 'closer': 2152, 'method': 2153, 'forgett': 2154, 'border': 2155, 'landscap': 2156, 'ear': 2157, 'princess': 2158, 'foster': 2159, 'beast': 2160, 'lion': 2161, 'accus': 2162, 'previous': 2163, 'birth': 2164, 'pacino': 2165, 'jungl': 2166, 'bound': 2167, 'storytel': 2168, 'damag': 2169, 'urban': 2170, 'aunt': 2171, 'nude': 2172, 'guid': 2173, 'jess': 2174, 'chose': 2175, 'propaganda': 2176, 'thirti': 2177, 'emma': 2178, 'doll': 2179, 'warrior': 2180, 'whoever': 2181, 'mate': 2182, 'pet': 2183, 'mainstream': 2184, '25': 2185, 'poster': 2186, 'cooper': 2187, 'friday': 2188, 'upset': 2189, 'exact': 2190, 'deadli': 2191, 'latest': 2192, 'merit': 2193, 'size': 2194, 'gritti': 2195, 'rough': 2196, 'contact': 2197, 'sun': 2198, 'settl': 2199, 'contest': 2200, '1990': 2201, 'blend': 2202, 'ton': 2203, 'buff': 2204, 'popul': 2205, 'citizen': 2206, 'warner': 2207, 'wilson': 2208, 'corps': 2209, 'overcom': 2210, 'widow': 2211, 'rat': 2212, 'bu': 2213, 'select': 2214, 'alic': 2215, 'environ': 2216, 'mgm': 2217, 'metal': 2218, 'pitt': 2219, 'guilti': 2220, 'particip': 2221, 'lift': 2222, 'ted': 2223, 'link': 2224, 'revolut': 2225, 'moron': 2226, 'matrix': 2227, 'corpor': 2228, 'prostitut': 2229, 'johnson': 2230, '1960': 2231, 'exagger': 2232, 'afternoon': 2233, 'accompani': 2234, 'corner': 2235, 'sincer': 2236, 'holm': 2237, 'leagu': 2238, 'instal': 2239, 'friendli': 2240, 'multipl': 2241, 'doom': 2242, 'hood': 2243, 'clair': 2244, 'advis': 2245, 'aka': 2246, 'junk': 2247, 'string': 2248, 'examin': 2249, 'hip': 2250, 'defend': 2251, 'grim': 2252, 'lugosi': 2253, 'irish': 2254, 'sunday': 2255, 'blah': 2256, 'campi': 2257, 'shut': 2258, 'confid': 2259, 'pro': 2260, 'varieti': 2261, 'rachel': 2262, 'tight': 2263, 'shake': 2264, 'icon': 2265, 'medic': 2266, 'goal': 2267, 'directli': 2268, 'mexican': 2269, 'attach': 2270, 'sullivan': 2271, 'denni': 2272, 'jaw': 2273, 'courag': 2274, 'truck': 2275, 'prior': 2276, 'duke': 2277, 'breast': 2278, 'vietnam': 2279, 'dean': 2280, 'legendari': 2281, 'terrorist': 2282, 'sarah': 2283, 'sentenc': 2284, 'bourn': 2285, 'donald': 2286, 'un': 2287, 'proceed': 2288, 'yell': 2289, 'split': 2290, 'entri': 2291, 'hong': 2292, 'nose': 2293, 'behav': 2294, 'gather': 2295, 'everywher': 2296, 'jerk': 2297, 'forth': 2298, 'crush': 2299, 'unconvinc': 2300, 'stolen': 2301, 'concentr': 2302, 'lifetim': 2303, 'borrow': 2304, 'confess': 2305, 'swim': 2306, 'buri': 2307, 'spite': 2308, 'turkey': 2309, 'deliveri': 2310, 'pan': 2311, 'lip': 2312, 'california': 2313, 'julia': 2314, 'freeman': 2315, 'proud': 2316, 'downright': 2317, 'reward': 2318, 'hoffman': 2319, 'flight': 2320, 'china': 2321, 'quest': 2322, 'offici': 2323, 'inept': 2324, 'jail': 2325, 'sir': 2326, 'fade': 2327, 'jon': 2328, 'betray': 2329, 'sink': 2330, 'encourag': 2331, 'worthwhil': 2332, 'notori': 2333, 'lazi': 2334, 'fabul': 2335, 'branagh': 2336, 'shower': 2337, 'relev': 2338, 'susan': 2339, 'teeth': 2340, 'imageri': 2341, 'cousin': 2342, 'bag': 2343, 'retard': 2344, 'survivor': 2345, 'lisa': 2346, 'bell': 2347, 'storm': 2348, 'tremend': 2349, 'alright': 2350, 'trade': 2351, 'bride': 2352, 'facial': 2353, 'hugh': 2354, 'finger': 2355, 'toler': 2356, 'summari': 2357, 'mexico': 2358, 'quirki': 2359, 'stab': 2360, 'shark': 2361, 'pose': 2362, 'von': 2363, 'ha': 2364, 'bitter': 2365, 'hyster': 2366, 'blown': 2367, 'address': 2368, 'ned': 2369, 'cruel': 2370, 'christ': 2371, 'ron': 2372, 'bone': 2373, 'scheme': 2374, 'afterward': 2375, 'larri': 2376, 'beg': 2377, 'screw': 2378, 'pursu': 2379, 'traci': 2380, 'thumb': 2381, 'tour': 2382, 'distinct': 2383, 'snake': 2384, 'swear': 2385, 'feed': 2386, 'photo': 2387, 'chair': 2388, 'occas': 2389, 'obscur': 2390, 'raw': 2391, 'mechan': 2392, 'stomach': 2393, 'southern': 2394, 'necessarili': 2395, 'argument': 2396, 'render': 2397, 'chain': 2398, 'sidney': 2399, 'gruesom': 2400, 'resist': 2401, 'hardi': 2402, 'cabin': 2403, 'holiday': 2404, 'heavili': 2405, 'indulg': 2406, 'philip': 2407, 'india': 2408, 'satan': 2409, 'racist': 2410, 'understood': 2411, 'pregnant': 2412, 'fourth': 2413, 'stalk': 2414, 'integr': 2415, 'outfit': 2416, 'belov': 2417, 'forgot': 2418, 'tongu': 2419, 'obnoxi': 2420, 'lay': 2421, 'midnight': 2422, 'carol': 2423, 'magazin': 2424, 'garden': 2425, 'inhabit': 2426, 'restor': 2427, '17': 2428, 'slapstick': 2429, 'ticket': 2430, 'deeper': 2431, 'incid': 2432, 'shoe': 2433, 'devot': 2434, 'brad': 2435, 'lincoln': 2436, 'guarante': 2437, 'divorc': 2438, 'underground': 2439, 'lili': 2440, 'anticip': 2441, 'disbelief': 2442, 'sandler': 2443, 'benefit': 2444, 'elizabeth': 2445, 'maria': 2446, 'mildli': 2447, 'capit': 2448, 'bbc': 2449, 'slave': 2450, 'creation': 2451, 'cring': 2452, 'explod': 2453, 'princip': 2454, 'greater': 2455, 'amazingli': 2456, 'introduct': 2457, 'funnier': 2458, 'halfway': 2459, 'lesli': 2460, 'extraordinari': 2461, 'overwhelm': 2462, 'punish': 2463, 'enhanc': 2464, 'extent': 2465, 'transfer': 2466, 'text': 2467, 'advantag': 2468, 'wreck': 2469, 'tap': 2470, 'deliber': 2471, 'dynam': 2472, 'lo': 2473, 'horrif': 2474, 'jessica': 2475, 'plant': 2476, 'error': 2477, 'east': 2478, 'preview': 2479, 'lane': 2480, 'miscast': 2481, 'ensu': 2482, 'appli': 2483, 'homosexu': 2484, 'vacat': 2485, 'vincent': 2486, 'basi': 2487, '2000': 2488, 'sophist': 2489, 'miller': 2490, 'bollywood': 2491, 'mansion': 2492, 'elev': 2493, 'via': 2494, 'uncomfort': 2495, 'spoken': 2496, 'extend': 2497, 'steel': 2498, 'reed': 2499, 'measur': 2500, 'sleazi': 2501, 'dentist': 2502, 'goofi': 2503, 'blair': 2504, 'overact': 2505, 'breathtak': 2506, 'hippi': 2507, 'savag': 2508, 'assign': 2509, 'alter': 2510, 'stanley': 2511, 'mous': 2512, 'conceiv': 2513, 'fix': 2514, 'daili': 2515, 'cathol': 2516, 'melt': 2517, 'beer': 2518, 'subsequ': 2519, 'succe': 2520, 'nowaday': 2521, 'burt': 2522, 'oppos': 2523, 'properli': 2524, 'everyday': 2525, 'sacrific': 2526, 'inspector': 2527, 'carpent': 2528, 'block': 2529, 'laura': 2530, 'neck': 2531, 'massacr': 2532, 'circl': 2533, 'concert': 2534, 'mob': 2535, 'grey': 2536, 'portrait': 2537, 'lesser': 2538, 'fallen': 2539, 'pool': 2540, 'fay': 2541, 'access': 2542, 'seagal': 2543, 'christi': 2544, 'jewish': 2545, 'react': 2546, 'relax': 2547, 'competit': 2548, 'isol': 2549, 'usa': 2550, 'jake': 2551, 'sinist': 2552, 'chees': 2553, 'chop': 2554, 'ironi': 2555, 'creep': 2556, 'immens': 2557, 'nine': 2558, 'lyric': 2559, 'spiritu': 2560, '2006': 2561, 'nonetheless': 2562, 'stink': 2563, 'suitabl': 2564, 'appal': 2565, 'rage': 2566, 'nut': 2567, 'adopt': 2568, 'shirt': 2569, 'franchis': 2570, 'luci': 2571, 'needless': 2572, 'reduc': 2573, 'navi': 2574, 'user': 2575, 'retir': 2576, 'spring': 2577, 'showcas': 2578, 'sold': 2579, 'jay': 2580, 'bath': 2581, 'per': 2582, 'bulli': 2583, 'nurs': 2584, 'digit': 2585, 'asham': 2586, 'zone': 2587, 'uninspir': 2588, 'stanwyck': 2589, 'amongst': 2590, '2001': 2591, 'broadcast': 2592, 'illustr': 2593, '1940': 2594, 'sutherland': 2595, 'oddli': 2596, 'upper': 2597, 'laid': 2598, 'stylish': 2599, 'baker': 2600, 'aspir': 2601, 'brando': 2602, 'throat': 2603, 'fulfil': 2604, 'disguis': 2605, 'wanna': 2606, 'impli': 2607, 'pound': 2608, 'wwii': 2609, 'pride': 2610, 'em': 2611, 'endear': 2612, 'neighborhood': 2613, '18': 2614, 'nobl': 2615, 'thief': 2616, 'cinematograph': 2617, 'distribut': 2618, 'bo': 2619, 'rochest': 2620, 'diseas': 2621, 'albeit': 2622, 'bett': 2623, 'shoulder': 2624, '16': 2625, 'dinner': 2626, 'prop': 2627, 'coher': 2628, 'tens': 2629, 'shift': 2630, 'dawn': 2631, 'snow': 2632, 'knife': 2633, 'wash': 2634, 'rebel': 2635, 'function': 2636, 'shout': 2637, 'forti': 2638, 'silenc': 2639, 'poignant': 2640, 'contract': 2641, 'surf': 2642, 'matthau': 2643, 'duti': 2644, 'height': 2645, 'widmark': 2646, 'cannib': 2647, 'silver': 2648, 'eeri': 2649, 'horrend': 2650, 'instinct': 2651, 'henc': 2652, 'heat': 2653, 'chuck': 2654, 'mindless': 2655, 'derek': 2656, 'internet': 2657, 'proof': 2658, 'elvira': 2659, 'cancel': 2660, 'reunion': 2661, 'etern': 2662, 'repetit': 2663, 'pie': 2664, 'elvi': 2665, 'torn': 2666, 'alik': 2667, 'glori': 2668, 'premier': 2669, 'absorb': 2670, 'spielberg': 2671, 'neat': 2672, 'incoher': 2673, 'mill': 2674, 'innov': 2675, 'greatli': 2676, 'musician': 2677, 'redempt': 2678, 'infam': 2679, 'blank': 2680, 'trite': 2681, 'nelson': 2682, 'wealthi': 2683, 'bang': 2684, 'fbi': 2685, 'lovabl': 2686, 'precis': 2687, 'horrifi': 2688, 'burton': 2689, 'announc': 2690, 'racism': 2691, 'itali': 2692, 'britain': 2693, 'diamond': 2694, 'homag': 2695, 'crisi': 2696, 'flop': 2697, 'hammer': 2698, 'helen': 2699, 'streisand': 2700, 'parallel': 2701, 'ensembl': 2702, 'resolut': 2703, 'dedic': 2704, 'happili': 2705, 'pat': 2706, 'chaplin': 2707, 'wilder': 2708, 'carter': 2709, 'plastic': 2710, 'mar': 2711, 'cube': 2712, 'factori': 2713, 'disagre': 2714, 'st': 2715, 'oil': 2716, 'triumph': 2717, 'broke': 2718, 'conclud': 2719, 'own': 2720, 'row': 2721, 'bush': 2722, 'chuckl': 2723, 'climb': 2724, 'march': 2725, 'weight': 2726, 'rocket': 2727, 'fighter': 2728, 'vega': 2729, 'wherea': 2730, 'lust': 2731, 'boot': 2732, 'unforgett': 2733, 'kurt': 2734, 'dump': 2735, 'spare': 2736, 'enorm': 2737, 'mst3k': 2738, 'luca': 2739, 'sensibl': 2740, 'dane': 2741, 'meaning': 2742, 'thug': 2743, 'butt': 2744, 'difficulti': 2745, 'threat': 2746, 'engin': 2747, 'dear': 2748, 'fifti': 2749, 'caricatur': 2750, 'bobbi': 2751, 'brand': 2752, 'karloff': 2753, 'adequ': 2754, 'stress': 2755, 'arnold': 2756, 'rap': 2757, 'secretari': 2758, 'barri': 2759, 'arrog': 2760, 'fest': 2761, 'homeless': 2762, 'elabor': 2763, 'ralph': 2764, 'journalist': 2765, 'flynn': 2766, 'ego': 2767, 'polish': 2768, 'swing': 2769, 'hamlet': 2770, 'resort': 2771, 'float': 2772, 'unbear': 2773, 'arrang': 2774, 'induc': 2775, 'fanci': 2776, 'spike': 2777, 'grate': 2778, 'simpson': 2779, 'puppet': 2780, 'tool': 2781, 'conspiraci': 2782, 'muppet': 2783, 'pig': 2784, 'boll': 2785, 'choreograph': 2786, 'cruis': 2787, 'exercis': 2788, 'phillip': 2789, 'basement': 2790, 'tribut': 2791, 'guilt': 2792, 'fianc': 2793, 'puzzl': 2794, 'layer': 2795, 'editor': 2796, 'ward': 2797, 'scarecrow': 2798, 'item': 2799, 'file': 2800, 'ham': 2801, 'document': 2802, 'toilet': 2803, 'tower': 2804, 'medium': 2805, 'slip': 2806, 'stan': 2807, 'babe': 2808, '24': 2809, 'korean': 2810, 'assur': 2811, 'orient': 2812, 'inexplic': 2813, 'librari': 2814, 'spark': 2815, 'larger': 2816, 'doc': 2817, 'superfici': 2818, 'minim': 2819, 'transit': 2820, 'persona': 2821, 'slaughter': 2822, 'territori': 2823, 'denzel': 2824, 'philosoph': 2825, 'portion': 2826, 'glover': 2827, 'catherin': 2828, 'jet': 2829, 'ban': 2830, 'sneak': 2831, 'boredom': 2832, 'walken': 2833, 'shi': 2834, 'curti': 2835, 'owe': 2836, 'jeremi': 2837, 'dorothi': 2838, 'pg': 2839, 'financi': 2840, 'wolf': 2841, 'metaphor': 2842, 'cusack': 2843, 'multi': 2844, 'profound': 2845, 'ambigu': 2846, 'eleph': 2847, 'whale': 2848, 'hudson': 2849, 'backdrop': 2850, 'rave': 2851, 'gadget': 2852, 'ultra': 2853, 'union': 2854, 'notion': 2855, 'stiff': 2856, 'implaus': 2857, 'viru': 2858, '2005': 2859, 'elsewher': 2860, 'hack': 2861, 'birthday': 2862, 'pad': 2863, 'urg': 2864, 'afford': 2865, 'slight': 2866, 'newspap': 2867, 'hawk': 2868, 'superhero': 2869, '1st': 2870, 'distanc': 2871, 'eastwood': 2872, 'reader': 2873, 'deriv': 2874, 'poison': 2875, 'lloyd': 2876, 'bibl': 2877, 'canada': 2878, 'squar': 2879, 'eva': 2880, 'disc': 2881, 'charisma': 2882, 'health': 2883, 'drown': 2884, 'essenc': 2885, 'spread': 2886, 'sadist': 2887, 'restaur': 2888, 'montag': 2889, 'button': 2890, 'skit': 2891, 'heston': 2892, 'huh': 2893, 'cure': 2894, 'invest': 2895, 'fetch': 2896, 'maniac': 2897, 'dealt': 2898, 'gradual': 2899, 'scoobi': 2900, 'companion': 2901, 'estat': 2902, 'lab': 2903, 'peak': 2904, 'muslim': 2905, 'godfath': 2906, 'tea': 2907, 'gothic': 2908, 'countless': 2909, 'ritter': 2910, 'alli': 2911, 'servant': 2912, 'subtleti': 2913, 'kane': 2914, 'cup': 2915, 'miik': 2916, 'charismat': 2917, 'elect': 2918, 'iii': 2919, 'electr': 2920, 'briefli': 2921, 'salli': 2922, 'heroic': 2923, 'nuanc': 2924, 'resourc': 2925, 'tender': 2926, 'toss': 2927, 'bud': 2928, 'ingredi': 2929, 'reel': 2930, 'wannab': 2931, 'admittedli': 2932, 'grandmoth': 2933, 'neil': 2934, 'cole': 2935, 'dawson': 2936, 'stood': 2937, 'punk': 2938, 'mild': 2939, 'gate': 2940, 'reev': 2941, 'pit': 2942, 'shall': 2943, 'kubrick': 2944, 'stronger': 2945, 'label': 2946, 'pauli': 2947, 'poverti': 2948, 'carrey': 2949, 'mafia': 2950, 'terri': 2951, 'easier': 2952, 'smooth': 2953, 'useless': 2954, 'ian': 2955, 'smash': 2956, 'tag': 2957, 'cox': 2958, 'bakshi': 2959, 'burst': 2960, 'outcom': 2961, 'assault': 2962, 'astair': 2963, 'cardboard': 2964, 'fond': 2965, 'updat': 2966, 'vulner': 2967, 'fist': 2968, 'vari': 2969, 'samurai': 2970, 'increasingli': 2971, 'qualifi': 2972, 'divers': 2973, 'resolv': 2974, 'coincid': 2975, 'exchang': 2976, 'sketch': 2977, 'rex': 2978, 'melodramat': 2979, '2002': 2980, 'be': 2981, 'templ': 2982, 'brillianc': 2983, 'reynold': 2984, 'scratch': 2985, 'conveni': 2986, 'suspend': 2987, 'blast': 2988, 'luckili': 2989, 'insert': 2990, 'tame': 2991, 'ambiti': 2992, 'gotta': 2993, 'strictli': 2994, 'seventi': 2995, 'coach': 2996, 'farm': 2997, 'matthew': 2998, 'meat': 2999, 'fisher': 3000, 'pin': 3001, 'walker': 3002, 'soprano': 3003, 'hamilton': 3004, 'nuclear': 3005, 'jami': 3006, 'butcher': 3007, 'grasp': 3008, 'closet': 3009, 'kudo': 3010, 'revers': 3011, 'convolut': 3012, 'clock': 3013, 'ninja': 3014, 'empir': 3015, 'spooki': 3016, 'instantli': 3017, 'eccentr': 3018, 'discoveri': 3019, 'worthless': 3020, 'recreat': 3021, 'monk': 3022, 'brosnan': 3023, 'timeless': 3024, 'struck': 3025, 'joey': 3026, 'cave': 3027, 'sidekick': 3028, 'declar': 3029, 'fifteen': 3030, 'selfish': 3031, 'communist': 3032, 'partli': 3033, 'bleak': 3034, 'clown': 3035, 'cliff': 3036, 'pal': 3037, 'sloppi': 3038, 'mitchel': 3039, 'gray': 3040, 'seller': 3041, 'importantli': 3042, 'evok': 3043, 'norman': 3044, 'inconsist': 3045, 'miracl': 3046, 'wipe': 3047, 'eighti': 3048, 'flawless': 3049, 'lifestyl': 3050, 'psychiatrist': 3051, 'websit': 3052, 'aforement': 3053, 'cheek': 3054, 'enthusiast': 3055, 'chew': 3056, '45': 3057, 'destin': 3058, 'australia': 3059, 'farc': 3060, 'superbl': 3061, 'piano': 3062, 'debat': 3063, 'ho': 3064, 'seed': 3065, 'stoog': 3066, 'regardless': 3067, 'dash': 3068, 'akshay': 3069, 'dire': 3070, 'bash': 3071, 'incompet': 3072, 'directori': 3073, 'abc': 3074, 'anni': 3075, 'slice': 3076, 'kitchen': 3077, 'soviet': 3078, 'wick': 3079, 'wrestl': 3080, 'splatter': 3081, 'emili': 3082, 'drivel': 3083, 'pressur': 3084, 'mann': 3085, 'artifici': 3086, 'cia': 3087, 'curios': 3088, 'jar': 3089, 'suppli': 3090, 'glow': 3091, 'seduc': 3092, 'dave': 3093, 'boil': 3094, 'doo': 3095, 'prize': 3096, 'pleasantli': 3097, 'recov': 3098, 'ken': 3099, 'chapter': 3100, 'cameron': 3101, 'distant': 3102, 'judi': 3103, 'cagney': 3104, 'lou': 3105, 'flower': 3106, 'increas': 3107, 'duo': 3108, 'beaten': 3109, 'helicopt': 3110, 'blob': 3111, 'craven': 3112, 'ellen': 3113, 'craig': 3114, 'panic': 3115, 'psychot': 3116, 'ranger': 3117, 'francisco': 3118, 'glenn': 3119, 'eleg': 3120, 'drunken': 3121, 'combat': 3122, 'perri': 3123, 'turner': 3124, 'hop': 3125, 'favour': 3126, 'laurel': 3127, 'goldberg': 3128, 'splendid': 3129, 'web': 3130, 'ruth': 3131, 'plausibl': 3132, 'hatr': 3133, 'min': 3134, 'fx': 3135, 'shortli': 3136, 'gentl': 3137, 'gandhi': 3138, 'graduat': 3139, 'alexand': 3140, '20th': 3141, 'philosophi': 3142, 'wizard': 3143, 'flip': 3144, 'rid': 3145, 'falk': 3146, 'slightest': 3147, 'modesti': 3148, 'greek': 3149, 'tall': 3150, 'we': 3151, 'lend': 3152, 'harm': 3153, 'dracula': 3154, 'legal': 3155, 'felix': 3156, 'unpleas': 3157, 'knight': 3158, 'futurist': 3159, 'jealou': 3160, 'preciou': 3161, 'fund': 3162, 'manhattan': 3163, 'ocean': 3164, 'holi': 3165, 'childish': 3166, 'mock': 3167, 'digniti': 3168, 'giallo': 3169, 'overdon': 3170, 'explicit': 3171, 'scientif': 3172, 'ami': 3173, 'reviv': 3174, 'thread': 3175, 'nod': 3176, 'bless': 3177, 'tank': 3178, 'forbidden': 3179, '99': 3180, 'mel': 3181, 'awe': 3182, 'eve': 3183, 'pirat': 3184, 'awaken': 3185, 'repeatedli': 3186, 'yesterday': 3187, 'nerv': 3188, 'broad': 3189, 'unwatch': 3190, 'fever': 3191, 'elderli': 3192, '2004': 3193, 'thick': 3194, 'margaret': 3195, 'torment': 3196, 'verhoeven': 3197, 'roman': 3198, 'ah': 3199, 'lean': 3200, 'automat': 3201, 'acclaim': 3202, 'timothi': 3203, 'bin': 3204, 'rivet': 3205, 'griffith': 3206, 'uniform': 3207, 'politician': 3208, 'ambit': 3209, 'publish': 3210, 'stiller': 3211, 'eas': 3212, 'romero': 3213, 'absenc': 3214, 'launch': 3215, 'kay': 3216, 'custom': 3217, 'royal': 3218, 'antic': 3219, 'warren': 3220, 'homicid': 3221, 'crook': 3222, 'pulp': 3223, 'bathroom': 3224, 'phrase': 3225, 'purpl': 3226, 'sunshin': 3227, 'pierc': 3228, 'transport': 3229, 'darker': 3230, 'foul': 3231, 'stinker': 3232, 'termin': 3233, 'wallac': 3234, 'tomato': 3235, 'gabriel': 3236, 'kenneth': 3237, 'li': 3238, 'hollow': 3239, 'contrari': 3240, 'juvenil': 3241, 'evolv': 3242, 'coloni': 3243, 'eyr': 3244, 'rambo': 3245, 'pray': 3246, 'choreographi': 3247, 'sixti': 3248, 'awak': 3249, 'revolutionari': 3250, 'marin': 3251, 'karen': 3252, 'horrid': 3253, 'q': 3254, '2003': 3255, 'album': 3256, 'viciou': 3257, 'brazil': 3258, 'ought': 3259, 'packag': 3260, 'saint': 3261, 'donna': 3262, 'prom': 3263, 'candid': 3264, 'nerd': 3265, 'boast': 3266, 'beatti': 3267, 'mummi': 3268, 'overr': 3269, 'defi': 3270, 'blade': 3271, 'mildr': 3272, 'option': 3273, 'stole': 3274, 'ireland': 3275, 'conserv': 3276, 'twelv': 3277, 'kapoor': 3278, 'dose': 3279, 'ramon': 3280, 'collabor': 3281, 'detract': 3282, 'jazz': 3283, 'trio': 3284, 'altman': 3285, 'natali': 3286, 'flame': 3287, 'confirm': 3288, 'astonish': 3289, 'kirk': 3290, 'fulci': 3291, 'funer': 3292, 'protest': 3293, 'global': 3294, 'mystic': 3295, 'tommi': 3296, 'destini': 3297, 'bull': 3298, 'enterpris': 3299, 'bottl': 3300, 'spit': 3301, 'blake': 3302, 'yellow': 3303, 'racial': 3304, 'whip': 3305, 'leap': 3306, 'shade': 3307, 'delici': 3308, 'nicholson': 3309, 'audio': 3310, 'popcorn': 3311, 'staff': 3312, 'swedish': 3313, 'inherit': 3314, 'todd': 3315, 'vivid': 3316, 'altogeth': 3317, 'merci': 3318, 'visibl': 3319, 'fonda': 3320, 'bedroom': 3321, 'reunit': 3322, 'harder': 3323, 'threw': 3324, 'adolesc': 3325, 'meaningless': 3326, 'neo': 3327, 'pseudo': 3328, 'enchant': 3329, 'roommat': 3330, 'decor': 3331, 'madonna': 3332, 'tip': 3333, 'voight': 3334, 'uneven': 3335, 'respond': 3336, 'befriend': 3337, 'edi': 3338, 'ruthless': 3339, 'exhibit': 3340, 'atlanti': 3341, 'suspici': 3342, 'await': 3343, 'reserv': 3344, 'kennedi': 3345, 'moodi': 3346, 'bust': 3347, 'fanat': 3348, 'lawrenc': 3349, 'leonard': 3350, 'jew': 3351, 'crocodil': 3352, 'wire': 3353, 'synopsi': 3354, 'lemmon': 3355, 'carl': 3356, 'unsettl': 3357, 'centr': 3358, 'ventur': 3359, 'incident': 3360, 'bargain': 3361, 'dimens': 3362, 'clint': 3363, 'holli': 3364, 'bradi': 3365, 'garner': 3366, '2007': 3367, 'bold': 3368, 'clumsi': 3369, 'chao': 3370, 'voyag': 3371, 'audit': 3372, 'rural': 3373, 'palma': 3374, 'abysm': 3375, 'characterist': 3376, 'echo': 3377, 'daddi': 3378, 'tiger': 3379, 'lit': 3380, 'mall': 3381, 'trail': 3382, 'neglect': 3383, 'versu': 3384, 'hart': 3385, 'acknowledg': 3386, 'poetic': 3387, 'ant': 3388, '2nd': 3389, 'elimin': 3390, 'cd': 3391, 'immigr': 3392, 'humili': 3393, 'troop': 3394, 'wealth': 3395, 'nearbi': 3396, 'imperson': 3397, 'cuba': 3398, 'cari': 3399, 'timon': 3400, 'marshal': 3401, 'paus': 3402, 'pun': 3403, 'mistaken': 3404, 'collaps': 3405, 'mickey': 3406, 'solo': 3407, 'infect': 3408, 'repuls': 3409, 'prejudic': 3410, 'homer': 3411, 'jeffrey': 3412, 'celluloid': 3413, 'saga': 3414, 'domest': 3415, 'leon': 3416, 'ginger': 3417, 'pant': 3418, 'equip': 3419, 'undoubtedli': 3420, 'harvey': 3421, 'tribe': 3422, 'promin': 3423, 'coffe': 3424, 'gear': 3425, 'coat': 3426, 'chest': 3427, 'cake': 3428, 'apolog': 3429, 'hbo': 3430, 'inan': 3431, 'olivi': 3432, 'interrupt': 3433, 'assembl': 3434, '1996': 3435, 'sore': 3436, 'milk': 3437, 'inappropri': 3438, 'consum': 3439, 'trace': 3440, 'furthermor': 3441, 'primari': 3442, 'institut': 3443, 'colonel': 3444, 'embrac': 3445, 'vulgar': 3446, 'humbl': 3447, 'instant': 3448, 'exot': 3449, 'retain': 3450, 'aveng': 3451, 'jenni': 3452, 'maggi': 3453, 'polanski': 3454, 'highest': 3455, 'colleagu': 3456, 'pen': 3457, 'florida': 3458, 'pot': 3459, 'brooklyn': 3460, 'airplan': 3461, 'devast': 3462, 'solut': 3463, 'smaller': 3464, 'seduct': 3465, 'illog': 3466, 'principl': 3467, 'linda': 3468, '1999': 3469, 'sale': 3470, 'strain': 3471, 'gender': 3472, 'poke': 3473, 'bowl': 3474, 'wive': 3475, 'dian': 3476, '3rd': 3477, 'dutch': 3478, 'disabl': 3479, 'cope': 3480, 'descend': 3481, 'outer': 3482, 'rick': 3483, 'ya': 3484, 'godzilla': 3485, 'inferior': 3486, 'devoid': 3487, 'vast': 3488, 'cue': 3489, 'dud': 3490, 'beneath': 3491, 'scope': 3492, 'glamor': 3493, 'dive': 3494, 'blatant': 3495, 'secondli': 3496, 'predecessor': 3497, 'yard': 3498, 'hal': 3499, 'gloriou': 3500, 'primarili': 3501, 'bubbl': 3502, 'rabbit': 3503, 'lol': 3504, 'mixtur': 3505, 'gundam': 3506, 'alfr': 3507, 'alert': 3508, 'senseless': 3509, 'shelf': 3510, 'arab': 3511, 'talki': 3512, 'disjoint': 3513, 'breed': 3514, 'trademark': 3515, 'aggress': 3516, 'shirley': 3517, 'domino': 3518, 'april': 3519, 'myer': 3520, 'pearl': 3521, 'casual': 3522, 'countrysid': 3523, 'invas': 3524, 'streep': 3525, 'simplist': 3526, 'z': 3527, 'hideou': 3528, 'garbo': 3529, 'museum': 3530, 'grinch': 3531, 'et': 3532, 'obtain': 3533, 'boom': 3534, 'sh': 3535, 'defens': 3536, 'hardcor': 3537, 'khan': 3538, 'oz': 3539, 'experiment': 3540, 'mail': 3541, 'stellar': 3542, 'vanish': 3543, 'unhappi': 3544, 'disgrac': 3545, 'slide': 3546, 'maci': 3547, 'stir': 3548, 'uwe': 3549, 'loyal': 3550, 'stack': 3551, 'acid': 3552, 'rendit': 3553, 'robberi': 3554, 'hopeless': 3555, 'mayor': 3556, 'robinson': 3557, 'illeg': 3558, 'applaud': 3559, 'rifl': 3560, 'scroog': 3561, 'span': 3562, 'tempt': 3563, 'recruit': 3564, 'wont': 3565, 'grandfath': 3566, 'topless': 3567, 'emphasi': 3568, 'hartley': 3569, 'amanda': 3570, 'declin': 3571, 'soccer': 3572, 'fri': 3573, 'diana': 3574, 'spider': 3575, 'berlin': 3576, 'blew': 3577, 'tenant': 3578, 'craze': 3579, 'dicken': 3580, 'counter': 3581, 'dismiss': 3582, 'psychic': 3583, 'incomprehens': 3584, 'intim': 3585, 'shaw': 3586, 'woo': 3587, 'faster': 3588, 'sibl': 3589, 'lumet': 3590, 'sympath': 3591, 'shed': 3592, 'wet': 3593, 'porno': 3594, 'trashi': 3595, 'parad': 3596, 'goer': 3597, 'resurrect': 3598, 'ration': 3599, 'niro': 3600, 'ethnic': 3601, 'bitch': 3602, 'riot': 3603, 'justin': 3604, 'revolt': 3605, 'jonathan': 3606, 'hesit': 3607, 'mario': 3608, 'steam': 3609, 'nephew': 3610, 'unreal': 3611, 'gap': 3612, 'weakest': 3613, 'patriot': 3614, 'andr': 3615, 'worm': 3616, 'dealer': 3617, 'partial': 3618, 'choru': 3619, 'slick': 3620, 'honesti': 3621, 'biographi': 3622, '00': 3623, 'eager': 3624, 'wheel': 3625, 'farmer': 3626, 'immort': 3627, 'feminist': 3628, 'ensur': 3629, 'hopper': 3630, 'commend': 3631, 'enlighten': 3632, 'region': 3633, 'wendi': 3634, 'ballet': 3635, 'rider': 3636, 'lena': 3637, 'morri': 3638, 'mutant': 3639, 'kingdom': 3640, 'wore': 3641, 'snap': 3642, 'repress': 3643, 'vice': 3644, 'charlott': 3645, 'sandra': 3646, 'confin': 3647, 'util': 3648, 'skull': 3649, 'franco': 3650, 'similarli': 3651, 'leo': 3652, 'psychopath': 3653, 'properti': 3654, 'victori': 3655, 'nostalg': 3656, 'hung': 3657, 'prequel': 3658, 'sappi': 3659, 'blunt': 3660, 'macarthur': 3661, 'owen': 3662, 'safeti': 3663, 'composit': 3664, 'drain': 3665, 'compens': 3666, 'kyle': 3667, 'deed': 3668, 'exit': 3669, 'cg': 3670, 'thru': 3671, 'heartbreak': 3672, 'compass': 3673, 'bow': 3674, 'miseri': 3675, 'tail': 3676, 'tad': 3677, 'hyde': 3678, 'dalton': 3679, '1972': 3680, 'farrel': 3681, 'acquir': 3682, 'strand': 3683, 'snl': 3684, 'rope': 3685, 'nervou': 3686, 'pattern': 3687, 'speci': 3688, 'valuabl': 3689, 'dust': 3690, 'whoopi': 3691, 'emperor': 3692, 'bumbl': 3693, 'bonu': 3694, 'rocki': 3695, 'recycl': 3696, 'repli': 3697, 'drum': 3698, 'bergman': 3699, 'rambl': 3700, 'despair': 3701, 'montana': 3702, 'latin': 3703, 'campbel': 3704, 'del': 3705, 'radic': 3706, 'oppress': 3707, 'gimmick': 3708, 'percept': 3709, 'rapist': 3710, 'pour': 3711, 'bleed': 3712, 'chess': 3713, 'contempl': 3714, 'orson': 3715, 'rotten': 3716, '35': 3717, 'carradin': 3718, 'roth': 3719, 'gal': 3720, 'da': 3721, 'olli': 3722, 'wacki': 3723, 'romp': 3724, 'downhil': 3725, 'mistress': 3726, 'slug': 3727, 'tonight': 3728, 'airport': 3729, 'martian': 3730, 'preach': 3731, 'banal': 3732, 'dazzl': 3733, 'arguabl': 3734, 'programm': 3735, '1983': 3736, 'taught': 3737, 'pervert': 3738, 'melodi': 3739, 'belt': 3740, 'attorney': 3741, 'edgar': 3742, 'paltrow': 3743, 'slash': 3744, 'unpredict': 3745, 'arc': 3746, 'shelley': 3747, 'stilt': 3748, 'tackl': 3749, 'mislead': 3750, 'pursuit': 3751, 'tooth': 3752, 'champion': 3753, 'heal': 3754, 'pervers': 3755, 'raymond': 3756, 'uplift': 3757, 'chicken': 3758, 'plight': 3759, 'passeng': 3760, 'mesmer': 3761, 'marti': 3762, 'poem': 3763, 'gambl': 3764, 'tiresom': 3765, 'bela': 3766, 'vocal': 3767, 'maid': 3768, 'virginia': 3769, 'vengeanc': 3770, 'closest': 3771, 'cleverli': 3772, 'orang': 3773, 'duval': 3774, 'conneri': 3775, 'rubi': 3776, 'sensat': 3777, 'dixon': 3778, 'employe': 3779, 'graham': 3780, 'franki': 3781, 'gerard': 3782, 'extens': 3783, 'convincingli': 3784, 'quarter': 3785, 'scottish': 3786, 'volum': 3787, 'monologu': 3788, 'paranoia': 3789, 'amitabh': 3790, 'numb': 3791, 'crystal': 3792, 'giggl': 3793, 'inject': 3794, 'mute': 3795, 'calm': 3796, 'swallow': 3797, '1968': 3798, 'engross': 3799, 'tube': 3800, 'secretli': 3801, 'lundgren': 3802, 'abraham': 3803, 'bay': 3804, 'climact': 3805, 'suffic': 3806, 'iran': 3807, 'clone': 3808, 'habit': 3809, 'profan': 3810, 'yawn': 3811, 'pokemon': 3812, 'outing': 3813, 'sirk': 3814, 'whine': 3815, 'grotesqu': 3816, 'nichola': 3817, 'meander': 3818, 'underst': 3819, 'taxi': 3820, 'trend': 3821, 'surpass': 3822, 'ethan': 3823, 'junior': 3824, 'plod': 3825, 'expand': 3826, 'fed': 3827, 'richardson': 3828, 'poetri': 3829, 'linger': 3830, 'chicago': 3831, 'septemb': 3832, 'spock': 3833, 'frankenstein': 3834, 'im': 3835, 'bend': 3836, 'austen': 3837, 'abort': 3838, 'earl': 3839, 'profess': 3840, 'dispos': 3841, 'backward': 3842, 'franci': 3843, 'lowest': 3844, 'mundan': 3845, 'instrument': 3846, 'muddl': 3847, 'rubber': 3848, 'hum': 3849, 'eugen': 3850, 'nostalgia': 3851, 'spoke': 3852, 'myth': 3853, 'dysfunct': 3854, 'rant': 3855, 'cannon': 3856, 'literatur': 3857, 'descent': 3858, 'der': 3859, 'stallon': 3860, 'greedi': 3861, 'compliment': 3862, 'waitress': 3863, 'catchi': 3864, 'tourist': 3865, 'econom': 3866, 'sue': 3867, 'household': 3868, 'simplic': 3869, 'lure': 3870, 'flee': 3871, 'occupi': 3872, 'cent': 3873, 'deaf': 3874, 'insur': 3875, 'alongsid': 3876, 'firstli': 3877, 'recognis': 3878, 'louis': 3879, 'duck': 3880, 'eaten': 3881, 'recognit': 3882, 'phoni': 3883, 'furi': 3884, 'omen': 3885, 'equival': 3886, 'phantom': 3887, 'dictat': 3888, 'randi': 3889, 'dement': 3890, 'stale': 3891, 'crucial': 3892, 'mortal': 3893, 'june': 3894, 'damon': 3895, 'mankind': 3896, 'molli': 3897, 'lang': 3898, 'bacal': 3899, 'sissi': 3900, 'irrelev': 3901, 'carel': 3902, 'hello': 3903, 'map': 3904, 'coast': 3905, 'dreari': 3906, 'drake': 3907, 'reign': 3908, 'wisdom': 3909, 'twilight': 3910, 'rude': 3911, 'bike': 3912, 'buffalo': 3913, 'cyborg': 3914, '1973': 3915, 'antwon': 3916, 'newli': 3917, 'likewis': 3918, 'distinguish': 3919, 'blackmail': 3920, 'bump': 3921, 'rooney': 3922, 'loyalti': 3923, 'heel': 3924, 'labor': 3925, 'damm': 3926, 'freez': 3927, 'biko': 3928, 'onlin': 3929, 'ashley': 3930, 'lengthi': 3931, 'grayson': 3932, 'daisi': 3933, 'worn': 3934, 'incorpor': 3935, 'analysi': 3936, 'keith': 3937, 'approv': 3938, 'inher': 3939, 'provoc': 3940, 'unorigin': 3941, 'boxer': 3942, 'emphas': 3943, 'exposur': 3944, 'prey': 3945, 'tunnel': 3946, 'attribut': 3947, 'ridden': 3948, 'butler': 3949, 'nineti': 3950, 'sailor': 3951, 'interior': 3952, 'chronicl': 3953, 'proce': 3954, 'baddi': 3955, 'barrymor': 3956, 'startl': 3957, 'vein': 3958, 'pink': 3959, 'basketbal': 3960, 'millionair': 3961, 'stalker': 3962, 'belushi': 3963, 'barrel': 3964, 'unrel': 3965, 'meyer': 3966, 'undeni': 3967, 'mighti': 3968, 'elm': 3969, 'drift': 3970, 'condemn': 3971, 'degrad': 3972, 'substitut': 3973, 'bunni': 3974, 'er': 3975, 'simmon': 3976, 'mormon': 3977, 'underli': 3978, 'fleet': 3979, 'robbin': 3980, 'meg': 3981, 'othello': 3982, 'predat': 3983, 'nicol': 3984, 'improvis': 3985, 'indiffer': 3986, 'julian': 3987, 'carla': 3988, 'hypnot': 3989, 'walsh': 3990, 'unawar': 3991, 'marion': 3992, 'firm': 3993, '3d': 3994, 'palac': 3995, 'roof': 3996, 'priceless': 3997, 'exquisit': 3998, 'reid': 3999, 'greed': 4000, 'errol': 4001, 'warmth': 4002, 'agenda': 4003, 'alarm': 4004, 'disord': 4005, 'nyc': 4006, 'edgi': 4007, 'lampoon': 4008, 'rukh': 4009, 'mtv': 4010, 'novak': 4011, 'watson': 4012, 'vital': 4013, 'hay': 4014, 'dolph': 4015, 'alison': 4016, 'shove': 4017, 'enthusiasm': 4018, 'peck': 4019, 'testament': 4020, 'israel': 4021, 'eastern': 4022, 'profit': 4023, 'simultan': 4024, 'orlean': 4025, '1933': 4026, 'what': 4027, 'preserv': 4028, 'crown': 4029, 'sergeant': 4030, 'campaign': 4031, 'petti': 4032, 'drip': 4033, 'randomli': 4034, 'showdown': 4035, 'pamela': 4036, 'unleash': 4037, 'ponder': 4038, 'nun': 4039, 'thompson': 4040, 'glanc': 4041, 'spain': 4042, 'gestur': 4043, 'championship': 4044, 'angela': 4045, 'beatl': 4046, 'minimum': 4047, 'session': 4048, 'iraq': 4049, '13th': 4050, 'peril': 4051, 'coup': 4052, 'cassidi': 4053, 'valentin': 4054, 'zizek': 4055, 'distort': 4056, 'contradict': 4057, 'crawl': 4058, 'perpetu': 4059, 'quinn': 4060, 'cooki': 4061, 'valley': 4062, 'buster': 4063, '1984': 4064, 'miyazaki': 4065, 'shootout': 4066, 'regist': 4067, 'climat': 4068, 'calib': 4069, 'unimagin': 4070, 'stake': 4071, 'reson': 4072, 'han': 4073, 'restrain': 4074, 'exposit': 4075, 'scotland': 4076, 'cream': 4077, 'gentleman': 4078, 'realm': 4079, 'stroke': 4080, 'empathi': 4081, 'rout': 4082, 'jan': 4083, 'brenda': 4084, 'sabrina': 4085, 'travesti': 4086, 'wig': 4087, 'mon': 4088, 'fido': 4089, 'din': 4090, 'represent': 4091, 'crow': 4092, 'bro': 4093, 'kurosawa': 4094, 'cloud': 4095, 'censor': 4096, 'businessman': 4097, 'passabl': 4098, 'compromis': 4099, 'abomin': 4100, 'geek': 4101, 'baldwin': 4102, 'sucker': 4103, 'spacey': 4104, 'crawford': 4105, 'fuller': 4106, 'perceiv': 4107, 'traumat': 4108, 'distress': 4109, 'stargat': 4110, 'femm': 4111, 'ross': 4112, 'pole': 4113, 'meryl': 4114, 'absent': 4115, 'josh': 4116, 'greg': 4117, 'monoton': 4118, 'painter': 4119, 'shaki': 4120, 'ustinov': 4121, 'pretens': 4122, '1997': 4123, 'shoddi': 4124, 'wax': 4125, 'derang': 4126, 'warrant': 4127, 'tacki': 4128, 'unsatisfi': 4129, 'demis': 4130, 'darren': 4131, 'unseen': 4132, 'delic': 4133, 'sammi': 4134, 'soderbergh': 4135, 'dana': 4136, '1987': 4137, 'mclaglen': 4138, 'kumar': 4139, '1993': 4140, 'uncov': 4141, 'nathan': 4142, 'polici': 4143, 'expedit': 4144, 'jewel': 4145, 'wholli': 4146, 'valid': 4147, 'deceas': 4148, 'seal': 4149, 'primit': 4150, 'austin': 4151, 'verbal': 4152, 'judgment': 4153, 'exclus': 4154, 'tech': 4155, 'fenc': 4156, 'reluct': 4157, 'tarantino': 4158, 'correctli': 4159, 'unravel': 4160, 'click': 4161, 'anchor': 4162, 'dee': 4163, 'norm': 4164, 'antonioni': 4165, 'furiou': 4166, 'sid': 4167, 'accuraci': 4168, 'clash': 4169, 'deniro': 4170, 'fog': 4171, 'conduct': 4172, 'patienc': 4173, 'shanghai': 4174, 'vanc': 4175, 'trait': 4176, 'dreck': 4177, '2008': 4178, 'alec': 4179, 'unfair': 4180, 'seldom': 4181, 'crippl': 4182, 'mode': 4183, 'hallucin': 4184, 'nicola': 4185, 'malon': 4186, 'sheet': 4187, 'bake': 4188, 'sunni': 4189, 'enforc': 4190, 'fabric': 4191, '3000': 4192, 'roller': 4193, 'fought': 4194, '1971': 4195, 'wang': 4196, 'temper': 4197, '1995': 4198, 'fart': 4199, 'darn': 4200, 'logan': 4201, 'ritual': 4202, 'wretch': 4203, 'pocket': 4204, 'tax': 4205, 'murray': 4206, 'joel': 4207, 'behold': 4208, 'sand': 4209, 'sustain': 4210, 'debt': 4211, 'clerk': 4212, 'slam': 4213, 'bias': 4214, 'tactic': 4215, 'outlin': 4216, 'canyon': 4217, 'shell': 4218, 'sweep': 4219, 'guitar': 4220, 'helpless': 4221, 'robber': 4222, 'grief': 4223, 'phil': 4224, 'divid': 4225, 'runner': 4226, 'technicolor': 4227, 'bridget': 4228, 'legaci': 4229, 'critiqu': 4230, 'conscious': 4231, 'fundament': 4232, 'exhaust': 4233, 'clau': 4234, 'despis': 4235, 'isabel': 4236, 'scriptwrit': 4237, 'preposter': 4238, 'stuart': 4239, 'squad': 4240, 'penni': 4241, 'rita': 4242, 'schedul': 4243, 'stark': 4244, 'preston': 4245, 'soup': 4246, 'pete': 4247, 'flair': 4248, 'newman': 4249, 'gregori': 4250, 'jacket': 4251, 'lacklust': 4252, 'implic': 4253, 'palanc': 4254, 'sugar': 4255, 'drove': 4256, 'boyl': 4257, 'propos': 4258, 'delv': 4259, 'vomit': 4260, 'downey': 4261, 'cigarett': 4262, 'bloom': 4263, 'connor': 4264, 'consciou': 4265, 'liberti': 4266, 'russia': 4267, 'kansa': 4268, 'inabl': 4269, 'alicia': 4270, 'rehash': 4271, 'rear': 4272, 'alley': 4273, 'passag': 4274, 'marc': 4275, 'sniper': 4276, 'agenc': 4277, 'invad': 4278, 'unexpectedli': 4279, 'restrict': 4280, 'jodi': 4281, 'culmin': 4282, 'sentinel': 4283, 'awhil': 4284, 'ladder': 4285, 'feat': 4286, 'aesthet': 4287, 'lush': 4288, 'horn': 4289, 'wrench': 4290, 'vet': 4291, 'mccoy': 4292, '1936': 4293, 'cap': 4294, 'tripe': 4295, 'rod': 4296, 'asylum': 4297, 'delet': 4298, 'behaviour': 4299, 'pale': 4300, 'karl': 4301, '22': 4302, 'arrow': 4303, 'tendenc': 4304, 'rehears': 4305, 'improb': 4306, 'chainsaw': 4307, 'kolchak': 4308, 'sharon': 4309, 'bacon': 4310, 'rampag': 4311, 'yeti': 4312, 'foxx': 4313, 'hungri': 4314, 'lurk': 4315, 'tomorrow': 4316, 'newcom': 4317, 'loneli': 4318, 'underneath': 4319, 'basing': 4320, 'rhythm': 4321, '19th': 4322, 'shortcom': 4323, 'filler': 4324, 'elit': 4325, '1920': 4326, 'suffici': 4327, 'stream': 4328, 'tasteless': 4329, 'conscienc': 4330, 'hulk': 4331, 'suspicion': 4332, 'paramount': 4333, '1988': 4334, 'el': 4335, 'coaster': 4336, 'hackney': 4337, 'sung': 4338, '1978': 4339, 'financ': 4340, 'globe': 4341, 'paradis': 4342, 'weav': 4343, 'scoop': 4344, 'visitor': 4345, 'rumor': 4346, 'prank': 4347, 'wildli': 4348, 'fright': 4349, 'spice': 4350, 'minu': 4351, 'amazon': 4352, 'thunderbird': 4353, 'wagner': 4354, 'aristocrat': 4355, 'cancer': 4356, '75': 4357, 'impos': 4358, 'recogniz': 4359, 'hopkin': 4360, 'counterpart': 4361, 'rub': 4362, 'penn': 4363, 'immers': 4364, 'worship': 4365, 'naughti': 4366, 'wwe': 4367, 'dirt': 4368, 'grudg': 4369, 'iv': 4370, 'inmat': 4371, 'lectur': 4372, 'beverli': 4373, 'heist': 4374, 'ingeni': 4375, 'posey': 4376, 'leigh': 4377, 'brit': 4378, '1939': 4379, 'secondari': 4380, 'paxton': 4381, 'entranc': 4382, 'ram': 4383, 'standout': 4384, 'quietli': 4385, 'en': 4386, 'teas': 4387, 'minist': 4388, 'springer': 4389, 'curli': 4390, 'bread': 4391, '1989': 4392, 'choppi': 4393, 'couch': 4394, 'atroc': 4395, 'straightforward': 4396, 'literari': 4397, 'smell': 4398, 'chamberlain': 4399, 'abrupt': 4400, 'tierney': 4401, 'chavez': 4402, 'cattl': 4403, 'esther': 4404, 'yearn': 4405, 'transcend': 4406, 'injuri': 4407, '1986': 4408, 'net': 4409, 'watcher': 4410, 'clan': 4411, 'nolan': 4412, 'missil': 4413, 'attenborough': 4414, 'variat': 4415, 'policeman': 4416, 'sassi': 4417, 'sublim': 4418, 'laurenc': 4419, 'misguid': 4420, 'bernard': 4421, 'morbid': 4422, 'lindsay': 4423, 'heartfelt': 4424, 'duel': 4425, 'moreov': 4426, 'geni': 4427, 'entitl': 4428, 'enthral': 4429, 'convert': 4430, 'quaid': 4431, 'ratso': 4432, 'nemesi': 4433, 'ace': 4434, 'skeptic': 4435, 'uncut': 4436, 'moder': 4437, 'enabl': 4438, 'facil': 4439, 'mytholog': 4440, 'setup': 4441, 'tyler': 4442, 'reliabl': 4443, 'bye': 4444, 'puppi': 4445, 'out': 4446, 'diari': 4447, 'buzz': 4448, 'characteris': 4449, 'steadi': 4450, 'rosemari': 4451, 'poe': 4452, 'bean': 4453, 'youngest': 4454, 'hk': 4455, 'carlito': 4456, 'brood': 4457, 'obstacl': 4458, 'graini': 4459, '1979': 4460, 'spiral': 4461, 'unexplain': 4462, 'dont': 4463, 'egg': 4464, 'grin': 4465, 'cruelti': 4466, 'vader': 4467, 'artsi': 4468, 'kidman': 4469, 'hopelessli': 4470, 'kitti': 4471, 'disastr': 4472, 'narrow': 4473, 'bewar': 4474, 'heap': 4475, 'bounc': 4476, 'oblig': 4477, 'effici': 4478, 'gina': 4479, 'brendan': 4480, 'fuel': 4481, 'baffl': 4482, 'clueless': 4483, 'despic': 4484, 'hammi': 4485, 'decept': 4486, 'exterior': 4487, 'gillian': 4488, 'underworld': 4489, '1969': 4490, 'martha': 4491, 'christin': 4492, 'bronson': 4493, 'kline': 4494, 'weather': 4495, 'sweat': 4496, 'spontan': 4497, 'acquaint': 4498, 'patricia': 4499, 'athlet': 4500, 'niec': 4501, 'preming': 4502, 'hain': 4503, 'taboo': 4504, 'injur': 4505, 'uh': 4506, 'loath': 4507, 'insipid': 4508, 'astound': 4509, 'candl': 4510, 'goof': 4511, 'housewif': 4512, 'mayhem': 4513, 'angst': 4514, 'preachi': 4515, 'tick': 4516, 'suprem': 4517, 'virtu': 4518, 'biker': 4519, 'dilemma': 4520, 'harmless': 4521, 'trigger': 4522, 'sooner': 4523, 'rome': 4524, 'scar': 4525, 'viewpoint': 4526, 'enlist': 4527, 'sleepwalk': 4528, 'shatter': 4529, '73': 4530, '19': 4531, 'hepburn': 4532, 'outlaw': 4533, 'dandi': 4534, 'analyz': 4535, 'circu': 4536, 'headach': 4537, 'renaiss': 4538, 'lester': 4539, 'loi': 4540, 'mermaid': 4541, 'fontain': 4542, 'phenomenon': 4543, 'surgeri': 4544, 'steer': 4545, 'claustrophob': 4546, 'corbett': 4547, 'zoom': 4548, 'slimi': 4549, 'immatur': 4550, 'bent': 4551, 'hokey': 4552, 'idol': 4553, 'macho': 4554, 'hostag': 4555, 'ebert': 4556, 'amor': 4557, 'dish': 4558, 'foolish': 4559, 'overlong': 4560, 'spade': 4561, 'stimul': 4562, 'boston': 4563, 'contempt': 4564, 'camcord': 4565, 'guin': 4566, 'hooker': 4567, 'intric': 4568, 'dismal': 4569, 'sox': 4570, 'fluff': 4571, 'filth': 4572, 'glorifi': 4573, 'whore': 4574, 'salt': 4575, 'redund': 4576, 'gere': 4577, 'tripl': 4578, 'oldest': 4579, 'ariel': 4580, 'stair': 4581, 'cassavet': 4582, 'scorses': 4583, 'beard': 4584, 'spree': 4585, 'schlock': 4586, 'dwarf': 4587, 'joker': 4588, 'corman': 4589, 'shred': 4590, 'naschi': 4591, 'preced': 4592, 'flirt': 4593, 'rhyme': 4594, 'margin': 4595, 'cow': 4596, 'muscl': 4597, 'messi': 4598, 'strongest': 4599, 'gasp': 4600, 'harold': 4601, 'trivia': 4602, 'widescreen': 4603, 'cush': 4604, 'antagonist': 4605, 'assert': 4606, 'down': 4607, '1976': 4608, 'gabl': 4609, 'flashi': 4610, 'fascist': 4611, 'flag': 4612, 'obligatori': 4613, 'transplant': 4614, 'radiat': 4615, 'faint': 4616, 'zane': 4617, 'shield': 4618, 'remad': 4619, 'frantic': 4620, 'spinal': 4621, '1981': 4622, 'keen': 4623, 'mount': 4624, 'proport': 4625, 'perman': 4626, 'mutual': 4627, 'conquer': 4628, 'astronaut': 4629, 'alvin': 4630, 'nolt': 4631, 'cohen': 4632, 'divin': 4633, 'wield': 4634, 'ritchi': 4635, 'off': 4636, 'someday': 4637, 'www': 4638, 'info': 4639, 'inflict': 4640, 'vaniti': 4641, 'barn': 4642, '1945': 4643, 'resum': 4644, 'interestingli': 4645, 'carey': 4646, 'departur': 4647, 'claud': 4648, 'bachelor': 4649, '95': 4650, 'sensual': 4651, 'neurot': 4652, 'repris': 4653, 'brush': 4654, 'scandal': 4655, 'persuad': 4656, 'mol': 4657, 'strive': 4658, 'fishburn': 4659, 'boob': 4660, 'raj': 4661, '28': 4662, 'danish': 4663, 'hara': 4664, 'triangl': 4665, 'archiv': 4666, 'deer': 4667, 'mobil': 4668, 'bitten': 4669, 'flock': 4670, 'discern': 4671, 'aborigin': 4672, 'instruct': 4673, 'biblic': 4674, 'miracul': 4675, 'prophet': 4676, 'proclaim': 4677, 'carlo': 4678, 'luka': 4679, 'jade': 4680, 'loretta': 4681, 'senior': 4682, 'ish': 4683, 'rot': 4684, 'cb': 4685, 'dame': 4686, 'melissa': 4687, 'artwork': 4688, 'earnest': 4689, 'pickford': 4690, 'submit': 4691, 'frontier': 4692, 'casino': 4693, 'vibrant': 4694, 'bate': 4695, 'axe': 4696, 'colin': 4697, 'pacif': 4698, 'hilar': 4699, 'helm': 4700, 'mobster': 4701, 'hapless': 4702, 'hug': 4703, 'heartwarm': 4704, 'dylan': 4705, 'kathryn': 4706, 'dim': 4707, 'traffic': 4708, 'europa': 4709, 'recit': 4710, 'wendigo': 4711, 'pixar': 4712, 'undermin': 4713, 'cher': 4714, 'anton': 4715, 'neill': 4716, 'banter': 4717, 'timberlak': 4718, 'clad': 4719, 'fragil': 4720, 'harrison': 4721, 'cycl': 4722, 'parson': 4723, 'cliffhang': 4724, 'lucil': 4725, 'choke': 4726, 'legitim': 4727, 'jo': 4728, 'lui': 4729, 'bondag': 4730, 'electron': 4731, 'static': 4732, 'cerebr': 4733, 'seedi': 4734, 'bikini': 4735, 'trier': 4736, 'pc': 4737, 'flavor': 4738, 'eli': 4739, 'articl': 4740, 'rooki': 4741, 'razor': 4742, 'orphan': 4743, 'http': 4744, 'wardrob': 4745, 'akin': 4746, 'milo': 4747, 'marlon': 4748, 'feast': 4749, 'toronto': 4750, 'holocaust': 4751, 'sicken': 4752, 'vanessa': 4753, 'misfortun': 4754, 'aris': 4755, 'winchest': 4756, 'vile': 4757, 'alexandr': 4758, 'northern': 4759, 'illus': 4760, 'mason': 4761, 'jordan': 4762, 'foil': 4763, 'mathieu': 4764, 'nope': 4765, 'venom': 4766, 'isra': 4767, 'blatantli': 4768, 'uma': 4769, 'breakfast': 4770, 'redneck': 4771, 'estrang': 4772, 'antholog': 4773, 'token': 4774, 'shepherd': 4775, 'cartoonish': 4776, 'abund': 4777, 'comprehend': 4778, 'disregard': 4779, 'peer': 4780, 'leather': 4781, 'highway': 4782, 'feminin': 4783, 'linear': 4784, 'swept': 4785, 'shorter': 4786, 'oppon': 4787, 'ceremoni': 4788, 'smack': 4789, 'nightclub': 4790, 'audrey': 4791, 'howl': 4792, 'deem': 4793, 'tack': 4794, 'gilbert': 4795, 'knightley': 4796, 'clinic': 4797, 'wrestler': 4798, 'outdat': 4799, 'magician': 4800, 'fifth': 4801, 'charlton': 4802, 'styliz': 4803, 'glare': 4804, 'affleck': 4805, 'retriev': 4806, 'psych': 4807, 'ideolog': 4808, 'turd': 4809, 'gunga': 4810, 'boyer': 4811, 'frog': 4812, 'huston': 4813, 'dudley': 4814, 'btw': 4815, 'client': 4816, 'corn': 4817, 'tara': 4818, '4th': 4819, 'summar': 4820, 'compris': 4821, '1994': 4822, 'monument': 4823, 'deliver': 4824, 'greet': 4825, 'moe': 4826, 'plate': 4827, 'spine': 4828, 'boo': 4829, 'sleaz': 4830, 'phenomen': 4831, 'breakdown': 4832, 'lifeless': 4833, 'potter': 4834, 'lavish': 4835, 'bogu': 4836, 'durat': 4837, 'energet': 4838, 'senat': 4839, 'toe': 4840, 'whack': 4841, 'conrad': 4842, 'collector': 4843, 'cuban': 4844, 'lighter': 4845, 'braveheart': 4846, 'spawn': 4847, 'cemeteri': 4848, 'newer': 4849, 'salman': 4850, 'bastard': 4851, 'snatch': 4852, 'chip': 4853, '1991': 4854, 'mitch': 4855, 'evolut': 4856, 'einstein': 4857, 'uniformli': 4858, 'goldsworthi': 4859, 'occup': 4860, 'embark': 4861, 'neatli': 4862, 'healthi': 4863, '1974': 4864, '1977': 4865, 'bulk': 4866, 'belli': 4867, 'undertak': 4868, 'nina': 4869, 'liu': 4870, 'creek': 4871, 'luxuri': 4872, 'jam': 4873, 'armstrong': 4874, 'bori': 4875, 'capot': 4876, 'ie': 4877, 'signal': 4878, 'pronounc': 4879, 'kazan': 4880, 'wtf': 4881, 'randolph': 4882, 'historian': 4883, 'jare': 4884, 'gilliam': 4885, 'jedi': 4886, 'mcqueen': 4887, 'trauma': 4888, 'clara': 4889, 'cecil': 4890, 'eleven': 4891, 'judd': 4892, 'appl': 4893, 'fluid': 4894, 'alleg': 4895, 'replay': 4896, 'undead': 4897, 'outright': 4898, 'constitut': 4899, 'firmli': 4900, 'jule': 4901, 'lex': 4902, 'ol': 4903, 'evelyn': 4904, 'kent': 4905, 'spectacl': 4906, 'sorrow': 4907, 'inaccuraci': 4908, 'forgiven': 4909, 'inaccur': 4910, 'sidewalk': 4911, 'blur': 4912, 'roar': 4913, 'unattract': 4914, 'galaxi': 4915, 'bsg': 4916, 'pepper': 4917, 'tokyo': 4918, 'rosario': 4919, 'genet': 4920, 'kiddi': 4921, 'subtli': 4922, 'inclus': 4923, 'walt': 4924, 'conan': 4925, 'cape': 4926, 'abound': 4927, 'aussi': 4928, 'spray': 4929, 'sacrif': 4930, 'goldblum': 4931, 'decapit': 4932, 'pioneer': 4933, 'knee': 4934, 'fruit': 4935, 'porter': 4936, 'vignett': 4937, 'miniseri': 4938, 'vain': 4939, 'mum': 4940, 'ash': 4941, 'basket': 4942, 'comprehens': 4943, 'lanc': 4944, '1985': 4945, 'curtain': 4946, 'antonio': 4947, 'lauren': 4948, 'unsuspect': 4949, 'meal': 4950, 'truman': 4951, 'miami': 4952, 'relentless': 4953, 'id': 4954, 'poker': 4955, 'carmen': 4956, 'bait': 4957, 'congratul': 4958, 'groan': 4959, 'comb': 4960, 'palm': 4961, 'propheci': 4962, 'paula': 4963, 'weari': 4964, 'vastli': 4965, 'epitom': 4966, 'substanti': 4967, 'ghetto': 4968, 'rapidli': 4969, 'weaker': 4970, '21st': 4971, 'frontal': 4972, 'scariest': 4973, 'dubiou': 4974, 'bach': 4975, 'incorrect': 4976, 'verg': 4977, 'omin': 4978, 'orchestr': 4979, 'masterson': 4980, 'sophi': 4981, 'motorcycl': 4982, 'growth': 4983, 'monti': 4984, 'macabr': 4985, 'victorian': 4986, 'asset': 4987, 'bravo': 4988, 'hostil': 4989, 'drone': 4990, 'mice': 4991, 'modest': 4992, 'handicap': 4993, 'scarfac': 4994, 'evan': 4995, 'ingrid': 4996, 'assort': 4997, 'jill': 4998, 'reincarn': 4999}\n"
     ]
    }
   ],
   "source": [
    "word_dict = build_dict(train_X)\n",
    "print(word_dict)"
   ]
  },
  {
   "cell_type": "code",
   "execution_count": 13,
   "metadata": {},
   "outputs": [
    {
     "name": "stdout",
     "output_type": "stream",
     "text": [
      "['movi', 'film', 'one', 'like', 'time']\n",
      "51695\n"
     ]
    }
   ],
   "source": [
    "word_counts = Counter(np.concatenate( train_X, axis=0 ))\n",
    "sorted_words = sorted(word_counts, key=word_counts.get, reverse=True)\n",
    "print(sorted_words[0:5])\n",
    "print(word_counts['movi'])"
   ]
  },
  {
   "cell_type": "markdown",
   "metadata": {},
   "source": [
    "**Question:** What are the five most frequently appearing (tokenized) words in the training set? Does it makes sense that these words appear frequently in the training set?"
   ]
  },
  {
   "cell_type": "markdown",
   "metadata": {},
   "source": [
    "**Answer:**"
   ]
  },
  {
   "cell_type": "markdown",
   "metadata": {},
   "source": [
    "'movi', 'film', 'one', 'like', 'time'\n",
    "\n",
    "\"movi\" word is nearly 51695 times\n",
    "\n",
    "it doesn't make sence in training because 'movi', 'film', 'one', 'time' has no sentiment."
   ]
  },
  {
   "cell_type": "markdown",
   "metadata": {},
   "source": [
    "### Save `word_dict`\n",
    "\n",
    "Later on when we construct an endpoint which processes a submitted review we will need to make use of the `word_dict` which we have created. As such, we will save it to a file now for future use."
   ]
  },
  {
   "cell_type": "code",
   "execution_count": 14,
   "metadata": {},
   "outputs": [],
   "source": [
    "data_dir = '../data/pytorch' # The folder we will use for storing data\n",
    "if not os.path.exists(data_dir): # Make sure that the folder exists\n",
    "    os.makedirs(data_dir)"
   ]
  },
  {
   "cell_type": "code",
   "execution_count": 15,
   "metadata": {},
   "outputs": [],
   "source": [
    "with open(os.path.join(data_dir, 'word_dict.pkl'), \"wb\") as f:\n",
    "    pickle.dump(word_dict, f)"
   ]
  },
  {
   "cell_type": "markdown",
   "metadata": {},
   "source": [
    "### Transform the reviews\n",
    "\n",
    "Now that we have our word dictionary which allows us to transform the words appearing in the reviews into integers, it is time to make use of it and convert our reviews to their integer sequence representation, making sure to pad or truncate to a fixed length, which in our case is `500`."
   ]
  },
  {
   "cell_type": "code",
   "execution_count": 16,
   "metadata": {},
   "outputs": [],
   "source": [
    "def convert_and_pad(word_dict, sentence, pad=500):\n",
    "    NOWORD = 0 # We will use 0 to represent the 'no word' category\n",
    "    INFREQ = 1 # and we use 1 to represent the infrequent words, i.e., words not appearing in word_dict\n",
    "    \n",
    "    working_sentence = [NOWORD] * pad\n",
    "    \n",
    "    for word_index, word in enumerate(sentence[:pad]):\n",
    "        if word in word_dict:\n",
    "            working_sentence[word_index] = word_dict[word]\n",
    "        else:\n",
    "            working_sentence[word_index] = INFREQ\n",
    "            \n",
    "    return working_sentence, min(len(sentence), pad)\n",
    "\n",
    "def convert_and_pad_data(word_dict, data, pad=500):\n",
    "    result = []\n",
    "    lengths = []\n",
    "    \n",
    "    for sentence in data:\n",
    "        converted, leng = convert_and_pad(word_dict, sentence, pad)\n",
    "        result.append(converted)\n",
    "        lengths.append(leng)\n",
    "        \n",
    "    return np.array(result), np.array(lengths)"
   ]
  },
  {
   "cell_type": "code",
   "execution_count": 17,
   "metadata": {},
   "outputs": [],
   "source": [
    "train_X, train_X_len = convert_and_pad_data(word_dict, train_X)\n",
    "test_X, test_X_len = convert_and_pad_data(word_dict, test_X)"
   ]
  },
  {
   "cell_type": "markdown",
   "metadata": {},
   "source": [
    "As a quick check to make sure that things are working as intended, check to see what one of the reviews in the training set looks like after having been processeed. Does this look reasonable? What is the length of a review in the training set?"
   ]
  },
  {
   "cell_type": "code",
   "execution_count": 18,
   "metadata": {},
   "outputs": [
    {
     "name": "stdout",
     "output_type": "stream",
     "text": [
      "500\n",
      "[154]\n"
     ]
    }
   ],
   "source": [
    "# Use this cell to examine one of the processed reviews to make sure everything is working as intended.\n",
    "print(len(train_X[0]))\n",
    "print(train_X_len[0:1]) # 500 - 333 (non zeros) = 167"
   ]
  },
  {
   "cell_type": "markdown",
   "metadata": {},
   "source": [
    "**Question:** In the cells above we use the `preprocess_data` and `convert_and_pad_data` methods to process both the training and testing set. Why or why not might this be a problem?"
   ]
  },
  {
   "cell_type": "markdown",
   "metadata": {},
   "source": [
    "**Answer:**\n",
    "* preprocess_data function will cut the data preparation cost, since it is one time process and the result are saved in a file. In case if the notebook instance terminal connection is broken then we need to restart from begining in that case we can skip the data preparation step and proceed to training by directly loading the preprocessed data from file\n",
    "* convert_and_pad_data this function helps to maintain a constant data length. since we using LSTM Clasifier with Embedding so we need to maintain a constant batch size throughout the training\n"
   ]
  },
  {
   "cell_type": "markdown",
   "metadata": {},
   "source": [
    "## Step 3: Upload the data to S3\n",
    "\n",
    "As in the XGBoost notebook, we will need to upload the training dataset to S3 in order for our training code to access it. For now we will save it locally and we will upload to S3 later on.\n",
    "\n",
    "### Save the processed training dataset locally\n",
    "\n",
    "It is important to note the format of the data that we are saving as we will need to know it when we write the training code. In our case, each row of the dataset has the form `label`, `length`, `review[500]` where `review[500]` is a sequence of `500` integers representing the words in the review."
   ]
  },
  {
   "cell_type": "code",
   "execution_count": 19,
   "metadata": {},
   "outputs": [],
   "source": [
    "import pandas as pd\n",
    "    \n",
    "pd.concat([pd.DataFrame(train_y), pd.DataFrame(train_X_len), pd.DataFrame(train_X)], axis=1) \\\n",
    "        .to_csv(os.path.join(data_dir, 'train.csv'), header=False, index=False)"
   ]
  },
  {
   "cell_type": "markdown",
   "metadata": {},
   "source": [
    "### Uploading the training data\n",
    "\n",
    "\n",
    "Next, we need to upload the training data to the SageMaker default S3 bucket so that we can provide access to it while training our model."
   ]
  },
  {
   "cell_type": "code",
   "execution_count": 20,
   "metadata": {},
   "outputs": [],
   "source": [
    "import sagemaker\n",
    "\n",
    "sagemaker_session = sagemaker.Session()\n",
    "\n",
    "bucket = sagemaker_session.default_bucket()\n",
    "prefix = 'sagemaker/sentiment_rnn'\n",
    "\n",
    "role = sagemaker.get_execution_role()"
   ]
  },
  {
   "cell_type": "code",
   "execution_count": 21,
   "metadata": {},
   "outputs": [],
   "source": [
    "input_data = sagemaker_session.upload_data(path=data_dir, bucket=bucket, key_prefix=prefix)"
   ]
  },
  {
   "cell_type": "markdown",
   "metadata": {},
   "source": [
    "**NOTE:** The cell above uploads the entire contents of our data directory. This includes the `word_dict.pkl` file. This is fortunate as we will need this later on when we create an endpoint that accepts an arbitrary review. For now, we will just take note of the fact that it resides in the data directory (and so also in the S3 training bucket) and that we will need to make sure it gets saved in the model directory."
   ]
  },
  {
   "cell_type": "markdown",
   "metadata": {},
   "source": [
    "## Step 4: Build and Train the PyTorch Model\n",
    "\n",
    "In the XGBoost notebook we discussed what a model is in the SageMaker framework. In particular, a model comprises three objects\n",
    "\n",
    " - Model Artifacts,\n",
    " - Training Code, and\n",
    " - Inference Code,\n",
    " \n",
    "each of which interact with one another. In the XGBoost example we used training and inference code that was provided by Amazon. Here we will still be using containers provided by Amazon with the added benefit of being able to include our own custom code.\n",
    "\n",
    "We will start by implementing our own neural network in PyTorch along with a training script. For the purposes of this project we have provided the necessary model object in the `model.py` file, inside of the `train` folder. You can see the provided implementation by running the cell below."
   ]
  },
  {
   "cell_type": "code",
   "execution_count": 22,
   "metadata": {},
   "outputs": [
    {
     "name": "stdout",
     "output_type": "stream",
     "text": [
      "\u001b[34mimport\u001b[39;49;00m \u001b[04m\u001b[36mtorch.nn\u001b[39;49;00m \u001b[34mas\u001b[39;49;00m \u001b[04m\u001b[36mnn\u001b[39;49;00m\r\n",
      "\r\n",
      "\u001b[34mclass\u001b[39;49;00m \u001b[04m\u001b[32mLSTMClassifier\u001b[39;49;00m(nn.Module):\r\n",
      "    \u001b[33m\"\"\"\u001b[39;49;00m\r\n",
      "\u001b[33m    This is the simple RNN model we will be using to perform Sentiment Analysis.\u001b[39;49;00m\r\n",
      "\u001b[33m    \"\"\"\u001b[39;49;00m\r\n",
      "\r\n",
      "    \u001b[34mdef\u001b[39;49;00m \u001b[32m__init__\u001b[39;49;00m(\u001b[36mself\u001b[39;49;00m, embedding_dim, hidden_dim, vocab_size):\r\n",
      "        \u001b[33m\"\"\"\u001b[39;49;00m\r\n",
      "\u001b[33m        Initialize the model by settingg up the various layers.\u001b[39;49;00m\r\n",
      "\u001b[33m        \"\"\"\u001b[39;49;00m\r\n",
      "        \u001b[36msuper\u001b[39;49;00m(LSTMClassifier, \u001b[36mself\u001b[39;49;00m).\u001b[32m__init__\u001b[39;49;00m()\r\n",
      "\r\n",
      "        \u001b[36mself\u001b[39;49;00m.embedding = nn.Embedding(vocab_size, embedding_dim, padding_idx=\u001b[34m0\u001b[39;49;00m)\r\n",
      "        \u001b[36mself\u001b[39;49;00m.lstm = nn.LSTM(embedding_dim, hidden_dim)\r\n",
      "        \u001b[36mself\u001b[39;49;00m.dense = nn.Linear(in_features=hidden_dim, out_features=\u001b[34m1\u001b[39;49;00m)\r\n",
      "        \u001b[36mself\u001b[39;49;00m.sig = nn.Sigmoid()\r\n",
      "        \r\n",
      "        \u001b[36mself\u001b[39;49;00m.word_dict = \u001b[36mNone\u001b[39;49;00m\r\n",
      "\r\n",
      "    \u001b[34mdef\u001b[39;49;00m \u001b[32mforward\u001b[39;49;00m(\u001b[36mself\u001b[39;49;00m, x):\r\n",
      "        \u001b[33m\"\"\"\u001b[39;49;00m\r\n",
      "\u001b[33m        Perform a forward pass of our model on some input.\u001b[39;49;00m\r\n",
      "\u001b[33m        \"\"\"\u001b[39;49;00m\r\n",
      "        x = x.t()\r\n",
      "        lengths = x[\u001b[34m0\u001b[39;49;00m,:]\r\n",
      "        reviews = x[\u001b[34m1\u001b[39;49;00m:,:]\r\n",
      "        embeds = \u001b[36mself\u001b[39;49;00m.embedding(reviews)\r\n",
      "        lstm_out, _ = \u001b[36mself\u001b[39;49;00m.lstm(embeds)\r\n",
      "        out = \u001b[36mself\u001b[39;49;00m.dense(lstm_out)\r\n",
      "        out = out[lengths - \u001b[34m1\u001b[39;49;00m, \u001b[36mrange\u001b[39;49;00m(\u001b[36mlen\u001b[39;49;00m(lengths))]\r\n",
      "        \u001b[34mreturn\u001b[39;49;00m \u001b[36mself\u001b[39;49;00m.sig(out.squeeze())\r\n"
     ]
    }
   ],
   "source": [
    "!pygmentize train/model.py"
   ]
  },
  {
   "cell_type": "markdown",
   "metadata": {},
   "source": [
    "The important takeaway from the implementation provided is that there are three parameters that we may wish to tweak to improve the performance of our model. These are the embedding dimension, the hidden dimension and the size of the vocabulary. We will likely want to make these parameters configurable in the training script so that if we wish to modify them we do not need to modify the script itself. We will see how to do this later on. To start we will write some of the training code in the notebook so that we can more easily diagnose any issues that arise.\n",
    "\n",
    "First we will load a small portion of the training data set to use as a sample. It would be very time consuming to try and train the model completely in the notebook as we do not have access to a gpu and the compute instance that we are using is not particularly powerful. However, we can work on a small bit of the data to get a feel for how our training script is behaving."
   ]
  },
  {
   "cell_type": "code",
   "execution_count": 23,
   "metadata": {},
   "outputs": [],
   "source": [
    "import torch\n",
    "import torch.utils.data\n",
    "\n",
    "# Read in only the first 250 rows\n",
    "train_sample = pd.read_csv(os.path.join(data_dir, 'train.csv'), header=None, names=None, nrows=250)\n",
    "\n",
    "# Turn the input pandas dataframe into tensors\n",
    "train_sample_y = torch.from_numpy(train_sample[[0]].values).float().squeeze()\n",
    "train_sample_X = torch.from_numpy(train_sample.drop([0], axis=1).values).long()\n",
    "\n",
    "# Build the dataset\n",
    "train_sample_ds = torch.utils.data.TensorDataset(train_sample_X, train_sample_y)\n",
    "# Build the dataloader\n",
    "train_sample_dl = torch.utils.data.DataLoader(train_sample_ds, batch_size=50)"
   ]
  },
  {
   "cell_type": "markdown",
   "metadata": {},
   "source": [
    "### (TODO) Writing the training method\n",
    "\n",
    "Next we need to write the training code itself. This should be very similar to training methods that you have written before to train PyTorch models. We will leave any difficult aspects such as model saving / loading and parameter loading until a little later."
   ]
  },
  {
   "cell_type": "code",
   "execution_count": 24,
   "metadata": {},
   "outputs": [],
   "source": [
    "def train(model, train_loader, epochs, optimizer, loss_fn, device):\n",
    "    for epoch in range(1, epochs + 1):\n",
    "        model.train()\n",
    "        total_loss = 0\n",
    "        for batch in train_loader:         \n",
    "            batch_X, batch_y = batch\n",
    "            \n",
    "            batch_X = batch_X.to(device)\n",
    "            batch_y = batch_y.to(device)\n",
    "            \n",
    "            # TODO: Complete this train method to train the model provided.\n",
    "            # model.zero_grad()\n",
    "            optimizer.zero_grad()\n",
    "            output = model(batch_X)\n",
    "            loss = loss_fn(output, batch_y)\n",
    "            loss.backward()\n",
    "            optimizer.step()\n",
    "            \n",
    "            total_loss += loss.data.item()\n",
    "        print(\"Epoch: {}, BCELoss: {}\".format(epoch, total_loss / len(train_loader)))"
   ]
  },
  {
   "cell_type": "code",
   "execution_count": 25,
   "metadata": {},
   "outputs": [],
   "source": [
    "device = torch.device(\"cuda\" if torch.cuda.is_available() else \"cpu\")"
   ]
  },
  {
   "cell_type": "markdown",
   "metadata": {},
   "source": [
    "Supposing we have the training method above, we will test that it is working by writing a bit of code in the notebook that executes our training method on the small sample training set that we loaded earlier. The reason for doing this in the notebook is so that we have an opportunity to fix any errors that arise early when they are easier to diagnose."
   ]
  },
  {
   "cell_type": "code",
   "execution_count": 26,
   "metadata": {},
   "outputs": [
    {
     "name": "stdout",
     "output_type": "stream",
     "text": [
      "Epoch: 1, BCELoss: 0.692910087108612\n",
      "Epoch: 2, BCELoss: 0.6815708637237549\n",
      "Epoch: 3, BCELoss: 0.6719420075416564\n",
      "Epoch: 4, BCELoss: 0.6616626381874084\n",
      "Epoch: 5, BCELoss: 0.6496055006980896\n"
     ]
    }
   ],
   "source": [
    "import torch.optim as optim\n",
    "from train.model import LSTMClassifier\n",
    "\n",
    "device = torch.device(\"cuda\" if torch.cuda.is_available() else \"cpu\")\n",
    "model = LSTMClassifier(32, 100, 5000).to(device)\n",
    "optimizer = optim.Adam(model.parameters())\n",
    "loss_fn = torch.nn.BCELoss()\n",
    "\n",
    "train(model, train_sample_dl, 5, optimizer, loss_fn, device)"
   ]
  },
  {
   "cell_type": "markdown",
   "metadata": {},
   "source": [
    "In order to construct a PyTorch model using SageMaker we must provide SageMaker with a training script. We may optionally include a directory which will be copied to the container and from which our training code will be run. When the training container is executed it will check the uploaded directory (if there is one) for a `requirements.txt` file and install any required Python libraries, after which the training script will be run."
   ]
  },
  {
   "cell_type": "markdown",
   "metadata": {},
   "source": [
    "### (TODO) Training the model\n",
    "\n",
    "When a PyTorch model is constructed in SageMaker, an entry point must be specified. This is the Python file which will be executed when the model is trained. Inside of the `train` directory is a file called `train.py` which has been provided and which contains most of the necessary code to train our model. The only thing that is missing is the implementation of the `train()` method which you wrote earlier in this notebook.\n",
    "\n",
    "**TODO**: Copy the `train()` method written above and paste it into the `train/train.py` file where required.\n",
    "\n",
    "The way that SageMaker passes hyperparameters to the training script is by way of arguments. These arguments can then be parsed and used in the training script. To see how this is done take a look at the provided `train/train.py` file."
   ]
  },
  {
   "cell_type": "code",
   "execution_count": 27,
   "metadata": {},
   "outputs": [],
   "source": [
    "from sagemaker.pytorch import PyTorch\n",
    "\n",
    "estimator = PyTorch(entry_point=\"train.py\",\n",
    "                    source_dir=\"train\",\n",
    "                    role=role,\n",
    "                    framework_version='0.4.0',\n",
    "                    train_instance_count=1,\n",
    "                    train_instance_type='ml.p2.xlarge',\n",
    "                    hyperparameters={\n",
    "                        'epochs': 10,\n",
    "                        'hidden_dim': 200,\n",
    "                    })"
   ]
  },
  {
   "cell_type": "code",
   "execution_count": 28,
   "metadata": {},
   "outputs": [
    {
     "name": "stdout",
     "output_type": "stream",
     "text": [
      "2020-06-04 17:18:19 Starting - Starting the training job...\n",
      "2020-06-04 17:18:22 Starting - Launching requested ML instances.........\n",
      "2020-06-04 17:19:57 Starting - Preparing the instances for training.........\n",
      "2020-06-04 17:21:35 Downloading - Downloading input data...\n",
      "2020-06-04 17:22:16 Training - Downloading the training image...\n",
      "2020-06-04 17:22:42 Training - Training image download completed. Training in progress.\u001b[34mbash: cannot set terminal process group (-1): Inappropriate ioctl for device\u001b[0m\n",
      "\u001b[34mbash: no job control in this shell\u001b[0m\n",
      "\u001b[34m2020-06-04 17:22:42,606 sagemaker-containers INFO     Imported framework sagemaker_pytorch_container.training\u001b[0m\n",
      "\u001b[34m2020-06-04 17:22:42,631 sagemaker_pytorch_container.training INFO     Block until all host DNS lookups succeed.\u001b[0m\n",
      "\u001b[34m2020-06-04 17:22:48,852 sagemaker_pytorch_container.training INFO     Invoking user training script.\u001b[0m\n",
      "\u001b[34m2020-06-04 17:22:49,087 sagemaker-containers INFO     Module train does not provide a setup.py. \u001b[0m\n",
      "\u001b[34mGenerating setup.py\u001b[0m\n",
      "\u001b[34m2020-06-04 17:22:49,087 sagemaker-containers INFO     Generating setup.cfg\u001b[0m\n",
      "\u001b[34m2020-06-04 17:22:49,088 sagemaker-containers INFO     Generating MANIFEST.in\u001b[0m\n",
      "\u001b[34m2020-06-04 17:22:49,088 sagemaker-containers INFO     Installing module with the following command:\u001b[0m\n",
      "\u001b[34m/usr/bin/python -m pip install -U . -r requirements.txt\u001b[0m\n",
      "\u001b[34mProcessing /opt/ml/code\u001b[0m\n",
      "\u001b[34mCollecting pandas (from -r requirements.txt (line 1))\u001b[0m\n",
      "\u001b[34m  Downloading https://files.pythonhosted.org/packages/74/24/0cdbf8907e1e3bc5a8da03345c23cbed7044330bb8f73bb12e711a640a00/pandas-0.24.2-cp35-cp35m-manylinux1_x86_64.whl (10.0MB)\u001b[0m\n",
      "\u001b[34mCollecting numpy (from -r requirements.txt (line 2))\n",
      "  Downloading https://files.pythonhosted.org/packages/b5/36/88723426b4ff576809fec7d73594fe17a35c27f8d01f93637637a29ae25b/numpy-1.18.5-cp35-cp35m-manylinux1_x86_64.whl (19.9MB)\u001b[0m\n",
      "\u001b[34mCollecting nltk (from -r requirements.txt (line 3))\n",
      "  Downloading https://files.pythonhosted.org/packages/92/75/ce35194d8e3022203cca0d2f896dbb88689f9b3fce8e9f9cff942913519d/nltk-3.5.zip (1.4MB)\u001b[0m\n",
      "\u001b[34mCollecting beautifulsoup4 (from -r requirements.txt (line 4))\n",
      "  Downloading https://files.pythonhosted.org/packages/66/25/ff030e2437265616a1e9b25ccc864e0371a0bc3adb7c5a404fd661c6f4f6/beautifulsoup4-4.9.1-py3-none-any.whl (115kB)\u001b[0m\n",
      "\u001b[34mCollecting html5lib (from -r requirements.txt (line 5))\n",
      "  Downloading https://files.pythonhosted.org/packages/a5/62/bbd2be0e7943ec8504b517e62bab011b4946e1258842bc159e5dfde15b96/html5lib-1.0.1-py2.py3-none-any.whl (117kB)\u001b[0m\n",
      "\u001b[34mCollecting pytz>=2011k (from pandas->-r requirements.txt (line 1))\n",
      "  Downloading https://files.pythonhosted.org/packages/4f/a4/879454d49688e2fad93e59d7d4efda580b783c745fd2ec2a3adf87b0808d/pytz-2020.1-py2.py3-none-any.whl (510kB)\u001b[0m\n",
      "\u001b[34mRequirement already satisfied, skipping upgrade: python-dateutil>=2.5.0 in /usr/local/lib/python3.5/dist-packages (from pandas->-r requirements.txt (line 1)) (2.7.5)\u001b[0m\n",
      "\u001b[34mRequirement already satisfied, skipping upgrade: click in /usr/local/lib/python3.5/dist-packages (from nltk->-r requirements.txt (line 3)) (7.0)\u001b[0m\n",
      "\u001b[34mCollecting joblib (from nltk->-r requirements.txt (line 3))\n",
      "  Downloading https://files.pythonhosted.org/packages/28/5c/cf6a2b65a321c4a209efcdf64c2689efae2cb62661f8f6f4bb28547cf1bf/joblib-0.14.1-py2.py3-none-any.whl (294kB)\u001b[0m\n",
      "\u001b[34mCollecting regex (from nltk->-r requirements.txt (line 3))\u001b[0m\n",
      "\u001b[34m  Downloading https://files.pythonhosted.org/packages/14/8d/d44863d358e9dba3bdfb06099bbbeddbac8fb360773ba73250a849af4b01/regex-2020.5.14.tar.gz (696kB)\u001b[0m\n",
      "\u001b[34mCollecting tqdm (from nltk->-r requirements.txt (line 3))\u001b[0m\n",
      "\u001b[34m  Downloading https://files.pythonhosted.org/packages/f3/76/4697ce203a3d42b2ead61127b35e5fcc26bba9a35c03b32a2bd342a4c869/tqdm-4.46.1-py2.py3-none-any.whl (63kB)\u001b[0m\n",
      "\u001b[34mCollecting soupsieve>1.2 (from beautifulsoup4->-r requirements.txt (line 4))\n",
      "  Downloading https://files.pythonhosted.org/packages/6f/8f/457f4a5390eeae1cc3aeab89deb7724c965be841ffca6cfca9197482e470/soupsieve-2.0.1-py3-none-any.whl\u001b[0m\n",
      "\u001b[34mRequirement already satisfied, skipping upgrade: six>=1.9 in /usr/local/lib/python3.5/dist-packages (from html5lib->-r requirements.txt (line 5)) (1.11.0)\u001b[0m\n",
      "\u001b[34mCollecting webencodings (from html5lib->-r requirements.txt (line 5))\n",
      "  Downloading https://files.pythonhosted.org/packages/f4/24/2a3e3df732393fed8b3ebf2ec078f05546de641fe1b667ee316ec1dcf3b7/webencodings-0.5.1-py2.py3-none-any.whl\u001b[0m\n",
      "\u001b[34mBuilding wheels for collected packages: nltk, train, regex\n",
      "  Running setup.py bdist_wheel for nltk: started\n",
      "  Running setup.py bdist_wheel for nltk: finished with status 'done'\n",
      "  Stored in directory: /root/.cache/pip/wheels/ae/8c/3f/b1fe0ba04555b08b57ab52ab7f86023639a526d8bc8d384306\u001b[0m\n",
      "\u001b[34m  Running setup.py bdist_wheel for train: started\n",
      "  Running setup.py bdist_wheel for train: finished with status 'done'\n",
      "  Stored in directory: /tmp/pip-ephem-wheel-cache-z7g95vky/wheels/35/24/16/37574d11bf9bde50616c67372a334f94fa8356bc7164af8ca3\n",
      "  Running setup.py bdist_wheel for regex: started\u001b[0m\n",
      "\u001b[34m  Running setup.py bdist_wheel for regex: finished with status 'done'\n",
      "  Stored in directory: /root/.cache/pip/wheels/ee/3a/5c/1f0ce151d6ddeee56e03e933603e21b5b8dcc727989fde82f5\u001b[0m\n",
      "\u001b[34mSuccessfully built nltk train regex\u001b[0m\n",
      "\u001b[34mInstalling collected packages: numpy, pytz, pandas, joblib, regex, tqdm, nltk, soupsieve, beautifulsoup4, webencodings, html5lib, train\n",
      "  Found existing installation: numpy 1.15.4\n",
      "    Uninstalling numpy-1.15.4:\u001b[0m\n",
      "\u001b[34m      Successfully uninstalled numpy-1.15.4\u001b[0m\n",
      "\u001b[34mSuccessfully installed beautifulsoup4-4.9.1 html5lib-1.0.1 joblib-0.14.1 nltk-3.5 numpy-1.18.5 pandas-0.24.2 pytz-2020.1 regex-2020.5.14 soupsieve-2.0.1 tqdm-4.46.1 train-1.0.0 webencodings-0.5.1\u001b[0m\n",
      "\u001b[34mYou are using pip version 18.1, however version 20.2b1 is available.\u001b[0m\n",
      "\u001b[34mYou should consider upgrading via the 'pip install --upgrade pip' command.\u001b[0m\n",
      "\u001b[34m2020-06-04 17:23:12,208 sagemaker-containers INFO     Invoking user script\n",
      "\u001b[0m\n",
      "\u001b[34mTraining Env:\n",
      "\u001b[0m\n",
      "\u001b[34m{\n",
      "    \"log_level\": 20,\n",
      "    \"input_config_dir\": \"/opt/ml/input/config\",\n",
      "    \"module_name\": \"train\",\n",
      "    \"resource_config\": {\n",
      "        \"current_host\": \"algo-1\",\n",
      "        \"hosts\": [\n",
      "            \"algo-1\"\n",
      "        ],\n",
      "        \"network_interface_name\": \"eth0\"\n",
      "    },\n",
      "    \"output_dir\": \"/opt/ml/output\",\n",
      "    \"network_interface_name\": \"eth0\",\n",
      "    \"channel_input_dirs\": {\n",
      "        \"training\": \"/opt/ml/input/data/training\"\n",
      "    },\n",
      "    \"hyperparameters\": {\n",
      "        \"epochs\": 10,\n",
      "        \"hidden_dim\": 200\n",
      "    },\n",
      "    \"user_entry_point\": \"train.py\",\n",
      "    \"output_intermediate_dir\": \"/opt/ml/output/intermediate\",\n",
      "    \"input_dir\": \"/opt/ml/input\",\n",
      "    \"num_gpus\": 1,\n",
      "    \"job_name\": \"sagemaker-pytorch-2020-06-04-17-18-19-174\",\n",
      "    \"module_dir\": \"s3://sagemaker-us-west-2-108076409909/sagemaker-pytorch-2020-06-04-17-18-19-174/source/sourcedir.tar.gz\",\n",
      "    \"output_data_dir\": \"/opt/ml/output/data\",\n",
      "    \"additional_framework_parameters\": {},\n",
      "    \"hosts\": [\n",
      "        \"algo-1\"\n",
      "    ],\n",
      "    \"input_data_config\": {\n",
      "        \"training\": {\n",
      "            \"S3DistributionType\": \"FullyReplicated\",\n",
      "            \"RecordWrapperType\": \"None\",\n",
      "            \"TrainingInputMode\": \"File\"\n",
      "        }\n",
      "    },\n",
      "    \"num_cpus\": 4,\n",
      "    \"framework_module\": \"sagemaker_pytorch_container.training:main\",\n",
      "    \"current_host\": \"algo-1\",\n",
      "    \"model_dir\": \"/opt/ml/model\"\u001b[0m\n",
      "\u001b[34m}\n",
      "\u001b[0m\n",
      "\u001b[34mEnvironment variables:\n",
      "\u001b[0m\n",
      "\u001b[34mSM_NUM_GPUS=1\u001b[0m\n",
      "\u001b[34mSM_MODULE_DIR=s3://sagemaker-us-west-2-108076409909/sagemaker-pytorch-2020-06-04-17-18-19-174/source/sourcedir.tar.gz\u001b[0m\n",
      "\u001b[34mSM_FRAMEWORK_MODULE=sagemaker_pytorch_container.training:main\u001b[0m\n",
      "\u001b[34mSM_OUTPUT_DATA_DIR=/opt/ml/output/data\u001b[0m\n",
      "\u001b[34mSM_USER_ARGS=[\"--epochs\",\"10\",\"--hidden_dim\",\"200\"]\u001b[0m\n",
      "\u001b[34mSM_CHANNEL_TRAINING=/opt/ml/input/data/training\u001b[0m\n",
      "\u001b[34mSM_NUM_CPUS=4\u001b[0m\n",
      "\u001b[34mSM_HOSTS=[\"algo-1\"]\u001b[0m\n",
      "\u001b[34mSM_HP_EPOCHS=10\u001b[0m\n",
      "\u001b[34mSM_RESOURCE_CONFIG={\"current_host\":\"algo-1\",\"hosts\":[\"algo-1\"],\"network_interface_name\":\"eth0\"}\u001b[0m\n",
      "\u001b[34mSM_CHANNELS=[\"training\"]\u001b[0m\n",
      "\u001b[34mSM_HP_HIDDEN_DIM=200\u001b[0m\n",
      "\u001b[34mSM_LOG_LEVEL=20\u001b[0m\n",
      "\u001b[34mSM_OUTPUT_DIR=/opt/ml/output\u001b[0m\n",
      "\u001b[34mSM_MODEL_DIR=/opt/ml/model\u001b[0m\n",
      "\u001b[34mSM_INPUT_CONFIG_DIR=/opt/ml/input/config\u001b[0m\n",
      "\u001b[34mSM_NETWORK_INTERFACE_NAME=eth0\u001b[0m\n",
      "\u001b[34mSM_INPUT_DIR=/opt/ml/input\u001b[0m\n",
      "\u001b[34mSM_FRAMEWORK_PARAMS={}\u001b[0m\n",
      "\u001b[34mSM_MODULE_NAME=train\u001b[0m\n",
      "\u001b[34mSM_TRAINING_ENV={\"additional_framework_parameters\":{},\"channel_input_dirs\":{\"training\":\"/opt/ml/input/data/training\"},\"current_host\":\"algo-1\",\"framework_module\":\"sagemaker_pytorch_container.training:main\",\"hosts\":[\"algo-1\"],\"hyperparameters\":{\"epochs\":10,\"hidden_dim\":200},\"input_config_dir\":\"/opt/ml/input/config\",\"input_data_config\":{\"training\":{\"RecordWrapperType\":\"None\",\"S3DistributionType\":\"FullyReplicated\",\"TrainingInputMode\":\"File\"}},\"input_dir\":\"/opt/ml/input\",\"job_name\":\"sagemaker-pytorch-2020-06-04-17-18-19-174\",\"log_level\":20,\"model_dir\":\"/opt/ml/model\",\"module_dir\":\"s3://sagemaker-us-west-2-108076409909/sagemaker-pytorch-2020-06-04-17-18-19-174/source/sourcedir.tar.gz\",\"module_name\":\"train\",\"network_interface_name\":\"eth0\",\"num_cpus\":4,\"num_gpus\":1,\"output_data_dir\":\"/opt/ml/output/data\",\"output_dir\":\"/opt/ml/output\",\"output_intermediate_dir\":\"/opt/ml/output/intermediate\",\"resource_config\":{\"current_host\":\"algo-1\",\"hosts\":[\"algo-1\"],\"network_interface_name\":\"eth0\"},\"user_entry_point\":\"train.py\"}\u001b[0m\n",
      "\u001b[34mSM_OUTPUT_INTERMEDIATE_DIR=/opt/ml/output/intermediate\u001b[0m\n",
      "\u001b[34mSM_HPS={\"epochs\":10,\"hidden_dim\":200}\u001b[0m\n",
      "\u001b[34mSM_USER_ENTRY_POINT=train.py\u001b[0m\n",
      "\u001b[34mSM_INPUT_DATA_CONFIG={\"training\":{\"RecordWrapperType\":\"None\",\"S3DistributionType\":\"FullyReplicated\",\"TrainingInputMode\":\"File\"}}\u001b[0m\n",
      "\u001b[34mPYTHONPATH=/usr/local/bin:/usr/lib/python35.zip:/usr/lib/python3.5:/usr/lib/python3.5/plat-x86_64-linux-gnu:/usr/lib/python3.5/lib-dynload:/usr/local/lib/python3.5/dist-packages:/usr/lib/python3/dist-packages\u001b[0m\n",
      "\u001b[34mSM_CURRENT_HOST=algo-1\n",
      "\u001b[0m\n",
      "\u001b[34mInvoking script with the following command:\n",
      "\u001b[0m\n",
      "\u001b[34m/usr/bin/python -m train --epochs 10 --hidden_dim 200\n",
      "\n",
      "\u001b[0m\n",
      "\u001b[34mUsing device cuda.\u001b[0m\n",
      "\u001b[34mGet train data loader.\u001b[0m\n",
      "\u001b[34mModel loaded with embedding_dim 32, hidden_dim 200, vocab_size 5000.\u001b[0m\n",
      "\u001b[34mEpoch: 1, BCELoss: 0.6734811055416964\u001b[0m\n",
      "\u001b[34mEpoch: 2, BCELoss: 0.6159144007429784\u001b[0m\n",
      "\u001b[34mEpoch: 3, BCELoss: 0.5162697026924211\u001b[0m\n",
      "\u001b[34mEpoch: 4, BCELoss: 0.4515816271305084\u001b[0m\n",
      "\u001b[34mEpoch: 5, BCELoss: 0.4217913825901187\u001b[0m\n",
      "\u001b[34mEpoch: 6, BCELoss: 0.3798191000004204\u001b[0m\n",
      "\u001b[34mEpoch: 7, BCELoss: 0.34400786550677553\u001b[0m\n",
      "\u001b[34mEpoch: 8, BCELoss: 0.3148413239693155\u001b[0m\n",
      "\u001b[34mEpoch: 9, BCELoss: 0.2994452468594726\u001b[0m\n",
      "\n",
      "2020-06-04 17:26:21 Uploading - Uploading generated training model\n",
      "2020-06-04 17:26:21 Completed - Training job completed\n",
      "\u001b[34mEpoch: 10, BCELoss: 0.2852424197659201\u001b[0m\n",
      "\u001b[34m2020-06-04 17:26:11,146 sagemaker-containers INFO     Reporting training SUCCESS\u001b[0m\n",
      "Training seconds: 286\n",
      "Billable seconds: 286\n"
     ]
    }
   ],
   "source": [
    "estimator.fit({'training': input_data})"
   ]
  },
  {
   "cell_type": "markdown",
   "metadata": {},
   "source": [
    "## Step 5: Testing the model\n",
    "\n",
    "As mentioned at the top of this notebook, we will be testing this model by first deploying it and then sending the testing data to the deployed endpoint. We will do this so that we can make sure that the deployed model is working correctly.\n",
    "\n",
    "## Step 6: Deploy the model for testing\n",
    "\n",
    "Now that we have trained our model, we would like to test it to see how it performs. Currently our model takes input of the form `review_length, review[500]` where `review[500]` is a sequence of `500` integers which describe the words present in the review, encoded using `word_dict`. Fortunately for us, SageMaker provides built-in inference code for models with simple inputs such as this.\n",
    "\n",
    "There is one thing that we need to provide, however, and that is a function which loads the saved model. This function must be called `model_fn()` and takes as its only parameter a path to the directory where the model artifacts are stored. This function must also be present in the python file which we specified as the entry point. In our case the model loading function has been provided and so no changes need to be made.\n",
    "\n",
    "**NOTE**: When the built-in inference code is run it must import the `model_fn()` method from the `train.py` file. This is why the training code is wrapped in a main guard ( ie, `if __name__ == '__main__':` )\n",
    "\n",
    "Since we don't need to change anything in the code that was uploaded during training, we can simply deploy the current model as-is.\n",
    "\n",
    "**NOTE:** When deploying a model you are asking SageMaker to launch an compute instance that will wait for data to be sent to it. As a result, this compute instance will continue to run until *you* shut it down. This is important to know since the cost of a deployed endpoint depends on how long it has been running for.\n",
    "\n",
    "In other words **If you are no longer using a deployed endpoint, shut it down!**\n",
    "\n",
    "**TODO:** Deploy the trained model."
   ]
  },
  {
   "cell_type": "code",
   "execution_count": 29,
   "metadata": {},
   "outputs": [
    {
     "name": "stdout",
     "output_type": "stream",
     "text": [
      "-----------------!"
     ]
    }
   ],
   "source": [
    "# TODO: Deploy the trained model\n",
    "predictor = estimator.deploy(initial_instance_count=1, instance_type='ml.m4.xlarge')"
   ]
  },
  {
   "cell_type": "markdown",
   "metadata": {},
   "source": [
    "## Step 7 - Use the model for testing\n",
    "\n",
    "Once deployed, we can read in the test data and send it off to our deployed model to get some results. Once we collect all of the results we can determine how accurate our model is."
   ]
  },
  {
   "cell_type": "code",
   "execution_count": 30,
   "metadata": {},
   "outputs": [],
   "source": [
    "test_X = pd.concat([pd.DataFrame(test_X_len), pd.DataFrame(test_X)], axis=1)"
   ]
  },
  {
   "cell_type": "code",
   "execution_count": 31,
   "metadata": {},
   "outputs": [],
   "source": [
    "# We split the data into chunks and send each chunk seperately, accumulating the results.\n",
    "\n",
    "def predict(data, rows=512):\n",
    "    split_array = np.array_split(data, int(data.shape[0] / float(rows) + 1))\n",
    "    predictions = np.array([])\n",
    "    for array in split_array:\n",
    "        predictions = np.append(predictions, predictor.predict(array))\n",
    "    \n",
    "    return predictions"
   ]
  },
  {
   "cell_type": "code",
   "execution_count": 32,
   "metadata": {},
   "outputs": [],
   "source": [
    "predictions = predict(test_X.values)\n",
    "predictions = [round(num) for num in predictions]"
   ]
  },
  {
   "cell_type": "code",
   "execution_count": 33,
   "metadata": {},
   "outputs": [
    {
     "data": {
      "text/plain": [
       "0.85544"
      ]
     },
     "execution_count": 33,
     "metadata": {},
     "output_type": "execute_result"
    }
   ],
   "source": [
    "from sklearn.metrics import accuracy_score\n",
    "accuracy_score(test_y, predictions)"
   ]
  },
  {
   "cell_type": "markdown",
   "metadata": {},
   "source": [
    "**Question:** How does this model compare to the XGBoost model you created earlier? Why might these two models perform differently on this dataset? Which do *you* think is better for sentiment analysis?"
   ]
  },
  {
   "cell_type": "markdown",
   "metadata": {},
   "source": [
    "**Answer:**\n",
    "XGBoost is an gradient boosting library designed to handle smaller variable problems with lesser training and more accuracy. But Deep learning is designed to large variable data supervised/un-supervised learning but it need more training For sentiment analysis XGBoost is better because XGBoost is the state of the art in most regression and classification problems with better result and less training. since it is mono label classification problem"
   ]
  },
  {
   "cell_type": "markdown",
   "metadata": {},
   "source": [
    "### (TODO) More testing\n",
    "\n",
    "We now have a trained model which has been deployed and which we can send processed reviews to and which returns the predicted sentiment. However, ultimately we would like to be able to send our model an unprocessed review. That is, we would like to send the review itself as a string. For example, suppose we wish to send the following review to our model."
   ]
  },
  {
   "cell_type": "code",
   "execution_count": 34,
   "metadata": {},
   "outputs": [],
   "source": [
    "test_review = 'The simplest pleasures in life are the best, and this film is one of them. Combining a rather basic storyline of love and adventure this movie transcends the usual weekend fair with wit and unmitigated charm.'"
   ]
  },
  {
   "cell_type": "markdown",
   "metadata": {},
   "source": [
    "The question we now need to answer is, how do we send this review to our model?\n",
    "\n",
    "Recall in the first section of this notebook we did a bunch of data processing to the IMDb dataset. In particular, we did two specific things to the provided reviews.\n",
    " - Removed any html tags and stemmed the input\n",
    " - Encoded the review as a sequence of integers using `word_dict`\n",
    " \n",
    "In order process the review we will need to repeat these two steps.\n",
    "\n",
    "**TODO**: Using the `review_to_words` and `convert_and_pad` methods from section one, convert `test_review` into a numpy array `test_data` suitable to send to our model. Remember that our model expects input of the form `review_length, review[500]`."
   ]
  },
  {
   "cell_type": "code",
   "execution_count": 35,
   "metadata": {},
   "outputs": [
    {
     "name": "stdout",
     "output_type": "stream",
     "text": [
      "    0     0     1     2     3     4     5     6     7    8    ...  490  491  \\\n",
      "0     8     1     1     1  1436  1220   704     1     1    0  ...    0    0   \n",
      "1     7  1436  1220   704     1     1  1096  1207     0    0  ...    0    0   \n",
      "2     4  1220     1  1046   704     0     0     0     0    0  ...    0    0   \n",
      "3     4   425   704     1     1     0     0     0     0    0  ...    0    0   \n",
      "4     4  1046     1  1220     1     0     0     0     0    0  ...    0    0   \n",
      "5     3     1  1498   704     0     0     0     0     0    0  ...    0    0   \n",
      "6     6   894     1     1   425     1  1498     0     0    0  ...    0    0   \n",
      "7     6  1207     1     1  1767   704  1207     0     0    0  ...    0    0   \n",
      "8     5   425     1     1     1   894     0     0     0    0  ...    0    0   \n",
      "9     8     1     1     1  1207     1  1220     1  1498    0  ...    0    0   \n",
      "10    4  1220     1  1730   704     0     0     0     0    0  ...    0    0   \n",
      "11    8     1     1  1730   704  1498     1  1096  1207    0  ...    0    0   \n",
      "12    4     1     1  1730     1     0     0     0     0    0  ...    0    0   \n",
      "13    9     1  1207     1  1498     1   894   704  1498    1  ...    0    0   \n",
      "14    5  1096     1  1096     1  1220     0     0     0    0  ...    0    0   \n",
      "15    7  1809   704   704  1913   704  1498     1     0    0  ...    0    0   \n",
      "16    4  1046     1     1  1207     0     0     0     0    0  ...    0    0   \n",
      "17    3  1809     1     1     0     0     0     0     0    0  ...    0    0   \n",
      "18    7  1096  1498     1     1     1     1  1120     0    0  ...    0    0   \n",
      "19    5   894  1767     1  1207     1     0     0     0    0  ...    0    0   \n",
      "\n",
      "    492  493  494  495  496  497  498  499  \n",
      "0     0    0    0    0    0    0    0    0  \n",
      "1     0    0    0    0    0    0    0    0  \n",
      "2     0    0    0    0    0    0    0    0  \n",
      "3     0    0    0    0    0    0    0    0  \n",
      "4     0    0    0    0    0    0    0    0  \n",
      "5     0    0    0    0    0    0    0    0  \n",
      "6     0    0    0    0    0    0    0    0  \n",
      "7     0    0    0    0    0    0    0    0  \n",
      "8     0    0    0    0    0    0    0    0  \n",
      "9     0    0    0    0    0    0    0    0  \n",
      "10    0    0    0    0    0    0    0    0  \n",
      "11    0    0    0    0    0    0    0    0  \n",
      "12    0    0    0    0    0    0    0    0  \n",
      "13    0    0    0    0    0    0    0    0  \n",
      "14    0    0    0    0    0    0    0    0  \n",
      "15    0    0    0    0    0    0    0    0  \n",
      "16    0    0    0    0    0    0    0    0  \n",
      "17    0    0    0    0    0    0    0    0  \n",
      "18    0    0    0    0    0    0    0    0  \n",
      "19    0    0    0    0    0    0    0    0  \n",
      "\n",
      "[20 rows x 501 columns]\n"
     ]
    }
   ],
   "source": [
    "# TODO: Convert test_review into a form usable by the model and save the results in test_data\n",
    "test_data = None\n",
    "predictions = None\n",
    "test_review_words = review_to_words(test_review)\n",
    "test_data, test_data_len = convert_and_pad_data(word_dict, test_review_words)\n",
    "test_data = pd.concat([pd.DataFrame(test_data_len), pd.DataFrame(test_data)], axis=1)\n",
    "print(test_data)"
   ]
  },
  {
   "cell_type": "markdown",
   "metadata": {},
   "source": [
    "Now that we have processed the review, we can send the resulting array to our model to predict the sentiment of the review."
   ]
  },
  {
   "cell_type": "code",
   "execution_count": 36,
   "metadata": {},
   "outputs": [
    {
     "data": {
      "text/plain": [
       "array([0.5115653 , 0.6506063 , 0.30518663, 0.5561511 , 0.45379388,\n",
       "       0.40928695, 0.59380245, 0.5743395 , 0.4724415 , 0.65923214,\n",
       "       0.34474215, 0.68418044, 0.47156578, 0.62048155, 0.5741483 ,\n",
       "       0.569965  , 0.56003225, 0.4388553 , 0.49602735, 0.53392494],\n",
       "      dtype=float32)"
      ]
     },
     "execution_count": 36,
     "metadata": {},
     "output_type": "execute_result"
    }
   ],
   "source": [
    "predictor.predict(test_data)"
   ]
  },
  {
   "cell_type": "markdown",
   "metadata": {},
   "source": [
    "Since the return value of our model is close to `1`, we can be certain that the review we submitted is positive."
   ]
  },
  {
   "cell_type": "markdown",
   "metadata": {},
   "source": [
    "### Delete the endpoint\n",
    "\n",
    "Of course, just like in the XGBoost notebook, once we've deployed an endpoint it continues to run until we tell it to shut down. Since we are done using our endpoint for now, we can delete it."
   ]
  },
  {
   "cell_type": "code",
   "execution_count": 37,
   "metadata": {},
   "outputs": [],
   "source": [
    "estimator.delete_endpoint()"
   ]
  },
  {
   "cell_type": "markdown",
   "metadata": {},
   "source": [
    "## Step 6 (again) - Deploy the model for the web app\n",
    "\n",
    "Now that we know that our model is working, it's time to create some custom inference code so that we can send the model a review which has not been processed and have it determine the sentiment of the review.\n",
    "\n",
    "As we saw above, by default the estimator which we created, when deployed, will use the entry script and directory which we provided when creating the model. However, since we now wish to accept a string as input and our model expects a processed review, we need to write some custom inference code.\n",
    "\n",
    "We will store the code that we write in the `serve` directory. Provided in this directory is the `model.py` file that we used to construct our model, a `utils.py` file which contains the `review_to_words` and `convert_and_pad` pre-processing functions which we used during the initial data processing, and `predict.py`, the file which will contain our custom inference code. Note also that `requirements.txt` is present which will tell SageMaker what Python libraries are required by our custom inference code.\n",
    "\n",
    "When deploying a PyTorch model in SageMaker, you are expected to provide four functions which the SageMaker inference container will use.\n",
    " - `model_fn`: This function is the same function that we used in the training script and it tells SageMaker how to load our model.\n",
    " - `input_fn`: This function receives the raw serialized input that has been sent to the model's endpoint and its job is to de-serialize and make the input available for the inference code.\n",
    " - `output_fn`: This function takes the output of the inference code and its job is to serialize this output and return it to the caller of the model's endpoint.\n",
    " - `predict_fn`: The heart of the inference script, this is where the actual prediction is done and is the function which you will need to complete.\n",
    "\n",
    "For the simple website that we are constructing during this project, the `input_fn` and `output_fn` methods are relatively straightforward. We only require being able to accept a string as input and we expect to return a single value as output. You might imagine though that in a more complex application the input or output may be image data or some other binary data which would require some effort to serialize.\n",
    "\n",
    "### (TODO) Writing inference code\n",
    "\n",
    "Before writing our custom inference code, we will begin by taking a look at the code which has been provided."
   ]
  },
  {
   "cell_type": "code",
   "execution_count": 38,
   "metadata": {},
   "outputs": [
    {
     "name": "stdout",
     "output_type": "stream",
     "text": [
      "\u001b[34mimport\u001b[39;49;00m \u001b[04m\u001b[36margparse\u001b[39;49;00m\r\n",
      "\u001b[34mimport\u001b[39;49;00m \u001b[04m\u001b[36mjson\u001b[39;49;00m\r\n",
      "\u001b[34mimport\u001b[39;49;00m \u001b[04m\u001b[36mos\u001b[39;49;00m\r\n",
      "\u001b[34mimport\u001b[39;49;00m \u001b[04m\u001b[36mpickle\u001b[39;49;00m\r\n",
      "\u001b[34mimport\u001b[39;49;00m \u001b[04m\u001b[36msys\u001b[39;49;00m\r\n",
      "\u001b[34mimport\u001b[39;49;00m \u001b[04m\u001b[36msagemaker_containers\u001b[39;49;00m\r\n",
      "\u001b[34mimport\u001b[39;49;00m \u001b[04m\u001b[36mpandas\u001b[39;49;00m \u001b[34mas\u001b[39;49;00m \u001b[04m\u001b[36mpd\u001b[39;49;00m\r\n",
      "\u001b[34mimport\u001b[39;49;00m \u001b[04m\u001b[36mnumpy\u001b[39;49;00m \u001b[34mas\u001b[39;49;00m \u001b[04m\u001b[36mnp\u001b[39;49;00m\r\n",
      "\u001b[34mimport\u001b[39;49;00m \u001b[04m\u001b[36mtorch\u001b[39;49;00m\r\n",
      "\u001b[34mimport\u001b[39;49;00m \u001b[04m\u001b[36mtorch.nn\u001b[39;49;00m \u001b[34mas\u001b[39;49;00m \u001b[04m\u001b[36mnn\u001b[39;49;00m\r\n",
      "\u001b[34mimport\u001b[39;49;00m \u001b[04m\u001b[36mtorch.optim\u001b[39;49;00m \u001b[34mas\u001b[39;49;00m \u001b[04m\u001b[36moptim\u001b[39;49;00m\r\n",
      "\u001b[34mimport\u001b[39;49;00m \u001b[04m\u001b[36mtorch.utils.data\u001b[39;49;00m\r\n",
      "\r\n",
      "\u001b[34mfrom\u001b[39;49;00m \u001b[04m\u001b[36mmodel\u001b[39;49;00m \u001b[34mimport\u001b[39;49;00m LSTMClassifier\r\n",
      "\r\n",
      "\u001b[34mfrom\u001b[39;49;00m \u001b[04m\u001b[36mutils\u001b[39;49;00m \u001b[34mimport\u001b[39;49;00m review_to_words, convert_and_pad\r\n",
      "\r\n",
      "\u001b[34mdef\u001b[39;49;00m \u001b[32mmodel_fn\u001b[39;49;00m(model_dir):\r\n",
      "    \u001b[33m\"\"\"Load the PyTorch model from the `model_dir` directory.\"\"\"\u001b[39;49;00m\r\n",
      "    \u001b[34mprint\u001b[39;49;00m(\u001b[33m\"\u001b[39;49;00m\u001b[33mLoading model.\u001b[39;49;00m\u001b[33m\"\u001b[39;49;00m)\r\n",
      "\r\n",
      "    \u001b[37m# First, load the parameters used to create the model.\u001b[39;49;00m\r\n",
      "    model_info = {}\r\n",
      "    model_info_path = os.path.join(model_dir, \u001b[33m'\u001b[39;49;00m\u001b[33mmodel_info.pth\u001b[39;49;00m\u001b[33m'\u001b[39;49;00m)\r\n",
      "    \u001b[34mwith\u001b[39;49;00m \u001b[36mopen\u001b[39;49;00m(model_info_path, \u001b[33m'\u001b[39;49;00m\u001b[33mrb\u001b[39;49;00m\u001b[33m'\u001b[39;49;00m) \u001b[34mas\u001b[39;49;00m f:\r\n",
      "        model_info = torch.load(f)\r\n",
      "\r\n",
      "    \u001b[34mprint\u001b[39;49;00m(\u001b[33m\"\u001b[39;49;00m\u001b[33mmodel_info: {}\u001b[39;49;00m\u001b[33m\"\u001b[39;49;00m.format(model_info))\r\n",
      "\r\n",
      "    \u001b[37m# Determine the device and construct the model.\u001b[39;49;00m\r\n",
      "    device = torch.device(\u001b[33m\"\u001b[39;49;00m\u001b[33mcuda\u001b[39;49;00m\u001b[33m\"\u001b[39;49;00m \u001b[34mif\u001b[39;49;00m torch.cuda.is_available() \u001b[34melse\u001b[39;49;00m \u001b[33m\"\u001b[39;49;00m\u001b[33mcpu\u001b[39;49;00m\u001b[33m\"\u001b[39;49;00m)\r\n",
      "    model = LSTMClassifier(model_info[\u001b[33m'\u001b[39;49;00m\u001b[33membedding_dim\u001b[39;49;00m\u001b[33m'\u001b[39;49;00m], model_info[\u001b[33m'\u001b[39;49;00m\u001b[33mhidden_dim\u001b[39;49;00m\u001b[33m'\u001b[39;49;00m], model_info[\u001b[33m'\u001b[39;49;00m\u001b[33mvocab_size\u001b[39;49;00m\u001b[33m'\u001b[39;49;00m])\r\n",
      "\r\n",
      "    \u001b[37m# Load the store model parameters.\u001b[39;49;00m\r\n",
      "    model_path = os.path.join(model_dir, \u001b[33m'\u001b[39;49;00m\u001b[33mmodel.pth\u001b[39;49;00m\u001b[33m'\u001b[39;49;00m)\r\n",
      "    \u001b[34mwith\u001b[39;49;00m \u001b[36mopen\u001b[39;49;00m(model_path, \u001b[33m'\u001b[39;49;00m\u001b[33mrb\u001b[39;49;00m\u001b[33m'\u001b[39;49;00m) \u001b[34mas\u001b[39;49;00m f:\r\n",
      "        model.load_state_dict(torch.load(f))\r\n",
      "\r\n",
      "    \u001b[37m# Load the saved word_dict.\u001b[39;49;00m\r\n",
      "    word_dict_path = os.path.join(model_dir, \u001b[33m'\u001b[39;49;00m\u001b[33mword_dict.pkl\u001b[39;49;00m\u001b[33m'\u001b[39;49;00m)\r\n",
      "    \u001b[34mwith\u001b[39;49;00m \u001b[36mopen\u001b[39;49;00m(word_dict_path, \u001b[33m'\u001b[39;49;00m\u001b[33mrb\u001b[39;49;00m\u001b[33m'\u001b[39;49;00m) \u001b[34mas\u001b[39;49;00m f:\r\n",
      "        model.word_dict = pickle.load(f)\r\n",
      "\r\n",
      "    model.to(device).eval()\r\n",
      "\r\n",
      "    \u001b[34mprint\u001b[39;49;00m(\u001b[33m\"\u001b[39;49;00m\u001b[33mDone loading model.\u001b[39;49;00m\u001b[33m\"\u001b[39;49;00m)\r\n",
      "    \u001b[34mreturn\u001b[39;49;00m model\r\n",
      "\r\n",
      "\u001b[34mdef\u001b[39;49;00m \u001b[32minput_fn\u001b[39;49;00m(serialized_input_data, content_type):\r\n",
      "    \u001b[34mprint\u001b[39;49;00m(\u001b[33m'\u001b[39;49;00m\u001b[33mDeserializing the input data.\u001b[39;49;00m\u001b[33m'\u001b[39;49;00m)\r\n",
      "    \u001b[34mif\u001b[39;49;00m content_type == \u001b[33m'\u001b[39;49;00m\u001b[33mtext/plain\u001b[39;49;00m\u001b[33m'\u001b[39;49;00m:\r\n",
      "        data = serialized_input_data.decode(\u001b[33m'\u001b[39;49;00m\u001b[33mutf-8\u001b[39;49;00m\u001b[33m'\u001b[39;49;00m)\r\n",
      "        \u001b[34mreturn\u001b[39;49;00m data\r\n",
      "    \u001b[34mraise\u001b[39;49;00m \u001b[36mException\u001b[39;49;00m(\u001b[33m'\u001b[39;49;00m\u001b[33mRequested unsupported ContentType in content_type: \u001b[39;49;00m\u001b[33m'\u001b[39;49;00m + content_type)\r\n",
      "\r\n",
      "\u001b[34mdef\u001b[39;49;00m \u001b[32moutput_fn\u001b[39;49;00m(prediction_output, accept):\r\n",
      "    \u001b[34mprint\u001b[39;49;00m(\u001b[33m'\u001b[39;49;00m\u001b[33mSerializing the generated output.\u001b[39;49;00m\u001b[33m'\u001b[39;49;00m)\r\n",
      "    \u001b[34mreturn\u001b[39;49;00m \u001b[36mstr\u001b[39;49;00m(prediction_output)\r\n",
      "\r\n",
      "\u001b[34mdef\u001b[39;49;00m \u001b[32mpredict_fn\u001b[39;49;00m(input_data, model):\r\n",
      "    \u001b[34mprint\u001b[39;49;00m(\u001b[33m'\u001b[39;49;00m\u001b[33mInferring sentiment of input data.\u001b[39;49;00m\u001b[33m'\u001b[39;49;00m)\r\n",
      "\r\n",
      "    device = torch.device(\u001b[33m\"\u001b[39;49;00m\u001b[33mcuda\u001b[39;49;00m\u001b[33m\"\u001b[39;49;00m \u001b[34mif\u001b[39;49;00m torch.cuda.is_available() \u001b[34melse\u001b[39;49;00m \u001b[33m\"\u001b[39;49;00m\u001b[33mcpu\u001b[39;49;00m\u001b[33m\"\u001b[39;49;00m)\r\n",
      "    \r\n",
      "    \u001b[34mif\u001b[39;49;00m model.word_dict \u001b[35mis\u001b[39;49;00m \u001b[36mNone\u001b[39;49;00m:\r\n",
      "        \u001b[34mraise\u001b[39;49;00m \u001b[36mException\u001b[39;49;00m(\u001b[33m'\u001b[39;49;00m\u001b[33mModel has not been loaded properly, no word_dict.\u001b[39;49;00m\u001b[33m'\u001b[39;49;00m)\r\n",
      "    \r\n",
      "    \u001b[37m# TODO: Process input_data so that it is ready to be sent to our model.\u001b[39;49;00m\r\n",
      "    \u001b[37m#       You should produce two variables:\u001b[39;49;00m\r\n",
      "    \u001b[37m#         data_X   - A sequence of length 500 which represents the converted review\u001b[39;49;00m\r\n",
      "    \u001b[37m#         data_len - The length of the review\u001b[39;49;00m\r\n",
      "\r\n",
      "    data_X = \u001b[36mNone\u001b[39;49;00m\r\n",
      "    data_len = \u001b[36mNone\u001b[39;49;00m\r\n",
      "    input_data_words = review_to_words(input_data)\r\n",
      "    data_X, data_len = convert_and_pad(model.word_dict, input_data_words)\r\n",
      "    \u001b[37m# Using data_X and data_len we construct an appropriate input tensor. Remember\u001b[39;49;00m\r\n",
      "    \u001b[37m# that our model expects input data of the form 'len, review[500]'.\u001b[39;49;00m\r\n",
      "    data_pack = np.hstack((data_len, data_X))\r\n",
      "    data_pack = data_pack.reshape(\u001b[34m1\u001b[39;49;00m, -\u001b[34m1\u001b[39;49;00m)\r\n",
      "    \r\n",
      "    data = torch.from_numpy(data_pack)\r\n",
      "    data = data.to(device)\r\n",
      "\r\n",
      "    \u001b[37m# Make sure to put the model into evaluation mode\u001b[39;49;00m\r\n",
      "    model.eval()\r\n",
      "\r\n",
      "    \u001b[37m# TODO: Compute the result of applying the model to the input data. The variable `result` should\u001b[39;49;00m\r\n",
      "    \u001b[37m#       be a numpy array which contains a single integer which is either 1 or 0\u001b[39;49;00m\r\n",
      "\r\n",
      "    \u001b[34mwith\u001b[39;49;00m torch.no_grad():\r\n",
      "        output = model.forward(data)\r\n",
      "        \r\n",
      "    result = np.round(output.numpy())\r\n",
      "    \u001b[37m# result = predictor.predict(data.values)\u001b[39;49;00m\r\n",
      "    \u001b[34mprint\u001b[39;49;00m(result)\r\n",
      "\r\n",
      "    \u001b[34mreturn\u001b[39;49;00m result\r\n"
     ]
    }
   ],
   "source": [
    "!pygmentize serve/predict.py"
   ]
  },
  {
   "cell_type": "markdown",
   "metadata": {},
   "source": [
    "As mentioned earlier, the `model_fn` method is the same as the one provided in the training code and the `input_fn` and `output_fn` methods are very simple and your task will be to complete the `predict_fn` method. Make sure that you save the completed file as `predict.py` in the `serve` directory.\n",
    "\n",
    "**TODO**: Complete the `predict_fn()` method in the `serve/predict.py` file."
   ]
  },
  {
   "cell_type": "markdown",
   "metadata": {},
   "source": [
    "### Deploying the model\n",
    "\n",
    "Now that the custom inference code has been written, we will create and deploy our model. To begin with, we need to construct a new PyTorchModel object which points to the model artifacts created during training and also points to the inference code that we wish to use. Then we can call the deploy method to launch the deployment container.\n",
    "\n",
    "**NOTE**: The default behaviour for a deployed PyTorch model is to assume that any input passed to the predictor is a `numpy` array. In our case we want to send a string so we need to construct a simple wrapper around the `RealTimePredictor` class to accomodate simple strings. In a more complicated situation you may want to provide a serialization object, for example if you wanted to sent image data."
   ]
  },
  {
   "cell_type": "code",
   "execution_count": 39,
   "metadata": {},
   "outputs": [
    {
     "name": "stdout",
     "output_type": "stream",
     "text": [
      "-----------------!"
     ]
    }
   ],
   "source": [
    "from sagemaker.predictor import RealTimePredictor\n",
    "from sagemaker.pytorch import PyTorchModel\n",
    "\n",
    "class StringPredictor(RealTimePredictor):\n",
    "    def __init__(self, endpoint_name, sagemaker_session):\n",
    "        super(StringPredictor, self).__init__(endpoint_name, sagemaker_session, content_type='text/plain')\n",
    "\n",
    "model = PyTorchModel(model_data=estimator.model_data,\n",
    "                     role = role,\n",
    "                     framework_version='0.4.0',\n",
    "                     entry_point='predict.py',\n",
    "                     source_dir='serve',\n",
    "                     predictor_cls=StringPredictor)\n",
    "predictor = model.deploy(initial_instance_count=1, instance_type='ml.m4.xlarge')"
   ]
  },
  {
   "cell_type": "markdown",
   "metadata": {},
   "source": [
    "### Testing the model\n",
    "\n",
    "Now that we have deployed our model with the custom inference code, we should test to see if everything is working. Here we test our model by loading the first `250` positive and negative reviews and send them to the endpoint, then collect the results. The reason for only sending some of the data is that the amount of time it takes for our model to process the input and then perform inference is quite long and so testing the entire data set would be prohibitive."
   ]
  },
  {
   "cell_type": "code",
   "execution_count": 44,
   "metadata": {},
   "outputs": [],
   "source": [
    "import glob\n",
    "\n",
    "def test_reviews(data_dir='../data/aclImdb', stop=250):\n",
    "    \n",
    "    results = []\n",
    "    ground = []\n",
    "    \n",
    "    # We make sure to test both positive and negative reviews    \n",
    "    for sentiment in ['pos', 'neg']:\n",
    "        \n",
    "        path = os.path.join(data_dir, 'test', sentiment, '*.txt')\n",
    "        files = glob.glob(path)\n",
    "        \n",
    "        files_read = 0\n",
    "        \n",
    "        print('Starting ', sentiment, ' files')\n",
    "        \n",
    "        # Iterate through the files and send them to the predictor\n",
    "        for f in files:\n",
    "            with open(f) as review:\n",
    "                # First, we store the ground truth (was the review positive or negative)\n",
    "                if sentiment == 'pos':\n",
    "                    ground.append(1)\n",
    "                else:\n",
    "                    ground.append(0)\n",
    "                # Read in the review and convert to 'utf-8' for transmission via HTTP\n",
    "                review_input = review.read().encode('utf-8')\n",
    "                # Send the review to the predictor and store the results\n",
    "                result_s = predictor.predict(review_input).decode('UTF-8')\n",
    "                result_s = int(float(result_s))\n",
    "                # review_input = int.from_bytes(review_input, byteorder='big', signed=True)\n",
    "                # print(result_s)\n",
    "                results.append(result_s)\n",
    "                \n",
    "            # Sending reviews to our endpoint one at a time takes a while so we\n",
    "            # only send a small number of reviews\n",
    "            files_read += 1\n",
    "            if files_read == stop:\n",
    "                break\n",
    "            \n",
    "    return ground, results"
   ]
  },
  {
   "cell_type": "code",
   "execution_count": 45,
   "metadata": {},
   "outputs": [
    {
     "name": "stdout",
     "output_type": "stream",
     "text": [
      "Starting  pos  files\n",
      "Starting  neg  files\n"
     ]
    }
   ],
   "source": [
    "ground, results = test_reviews()"
   ]
  },
  {
   "cell_type": "code",
   "execution_count": 46,
   "metadata": {},
   "outputs": [
    {
     "data": {
      "text/plain": [
       "0.86"
      ]
     },
     "execution_count": 46,
     "metadata": {},
     "output_type": "execute_result"
    }
   ],
   "source": [
    "from sklearn.metrics import accuracy_score\n",
    "accuracy_score(ground, results)"
   ]
  },
  {
   "cell_type": "markdown",
   "metadata": {},
   "source": [
    "As an additional test, we can try sending the `test_review` that we looked at earlier."
   ]
  },
  {
   "cell_type": "code",
   "execution_count": 47,
   "metadata": {},
   "outputs": [
    {
     "data": {
      "text/plain": [
       "b'1.0'"
      ]
     },
     "execution_count": 47,
     "metadata": {},
     "output_type": "execute_result"
    }
   ],
   "source": [
    "predictor.predict(test_review)"
   ]
  },
  {
   "cell_type": "markdown",
   "metadata": {},
   "source": [
    "Now that we know our endpoint is working as expected, we can set up the web page that will interact with it. If you don't have time to finish the project now, make sure to skip down to the end of this notebook and shut down your endpoint. You can deploy it again when you come back."
   ]
  },
  {
   "cell_type": "markdown",
   "metadata": {},
   "source": [
    "## Step 7 (again): Use the model for the web app\n",
    "\n",
    "> **TODO:** This entire section and the next contain tasks for you to complete, mostly using the AWS console.\n",
    "\n",
    "So far we have been accessing our model endpoint by constructing a predictor object which uses the endpoint and then just using the predictor object to perform inference. What if we wanted to create a web app which accessed our model? The way things are set up currently makes that not possible since in order to access a SageMaker endpoint the app would first have to authenticate with AWS using an IAM role which included access to SageMaker endpoints. However, there is an easier way! We just need to use some additional AWS services.\n",
    "\n",
    "<img src=\"Web App Diagram.svg\">\n",
    "\n",
    "The diagram above gives an overview of how the various services will work together. On the far right is the model which we trained above and which is deployed using SageMaker. On the far left is our web app that collects a user's movie review, sends it off and expects a positive or negative sentiment in return.\n",
    "\n",
    "In the middle is where some of the magic happens. We will construct a Lambda function, which you can think of as a straightforward Python function that can be executed whenever a specified event occurs. We will give this function permission to send and recieve data from a SageMaker endpoint.\n",
    "\n",
    "Lastly, the method we will use to execute the Lambda function is a new endpoint that we will create using API Gateway. This endpoint will be a url that listens for data to be sent to it. Once it gets some data it will pass that data on to the Lambda function and then return whatever the Lambda function returns. Essentially it will act as an interface that lets our web app communicate with the Lambda function.\n",
    "\n",
    "### Setting up a Lambda function\n",
    "\n",
    "The first thing we are going to do is set up a Lambda function. This Lambda function will be executed whenever our public API has data sent to it. When it is executed it will receive the data, perform any sort of processing that is required, send the data (the review) to the SageMaker endpoint we've created and then return the result.\n",
    "\n",
    "#### Part A: Create an IAM Role for the Lambda function\n",
    "\n",
    "Since we want the Lambda function to call a SageMaker endpoint, we need to make sure that it has permission to do so. To do this, we will construct a role that we can later give the Lambda function.\n",
    "\n",
    "Using the AWS Console, navigate to the **IAM** page and click on **Roles**. Then, click on **Create role**. Make sure that the **AWS service** is the type of trusted entity selected and choose **Lambda** as the service that will use this role, then click **Next: Permissions**.\n",
    "\n",
    "In the search box type `sagemaker` and select the check box next to the **AmazonSageMakerFullAccess** policy. Then, click on **Next: Review**.\n",
    "\n",
    "Lastly, give this role a name. Make sure you use a name that you will remember later on, for example `LambdaSageMakerRole`. Then, click on **Create role**.\n",
    "\n",
    "#### Part B: Create a Lambda function\n",
    "\n",
    "Now it is time to actually create the Lambda function.\n",
    "\n",
    "Using the AWS Console, navigate to the AWS Lambda page and click on **Create a function**. When you get to the next page, make sure that **Author from scratch** is selected. Now, name your Lambda function, using a name that you will remember later on, for example `sentiment_analysis_func`. Make sure that the **Python 3.6** runtime is selected and then choose the role that you created in the previous part. Then, click on **Create Function**.\n",
    "\n",
    "On the next page you will see some information about the Lambda function you've just created. If you scroll down you should see an editor in which you can write the code that will be executed when your Lambda function is triggered. In our example, we will use the code below. \n",
    "\n",
    "```python\n",
    "# We need to use the low-level library to interact with SageMaker since the SageMaker API\n",
    "# is not available natively through Lambda.\n",
    "import boto3\n",
    "\n",
    "def lambda_handler(event, context):\n",
    "\n",
    "    # The SageMaker runtime is what allows us to invoke the endpoint that we've created.\n",
    "    runtime = boto3.Session().client('sagemaker-runtime')\n",
    "\n",
    "    # Now we use the SageMaker runtime to invoke our endpoint, sending the review we were given\n",
    "    response = runtime.invoke_endpoint(EndpointName = '**ENDPOINT NAME HERE**',    # The name of the endpoint we created\n",
    "                                       ContentType = 'text/plain',                 # The data format that is expected\n",
    "                                       Body = event['body'])                       # The actual review\n",
    "\n",
    "    # The response is an HTTP response whose body contains the result of our inference\n",
    "    result = response['Body'].read().decode('utf-8')\n",
    "\n",
    "    return {\n",
    "        'statusCode' : 200,\n",
    "        'headers' : { 'Content-Type' : 'text/plain', 'Access-Control-Allow-Origin' : '*' },\n",
    "        'body' : result\n",
    "    }\n",
    "```\n",
    "\n",
    "Once you have copy and pasted the code above into the Lambda code editor, replace the `**ENDPOINT NAME HERE**` portion with the name of the endpoint that we deployed earlier. You can determine the name of the endpoint using the code cell below."
   ]
  },
  {
   "cell_type": "code",
   "execution_count": 48,
   "metadata": {},
   "outputs": [
    {
     "data": {
      "text/plain": [
       "'sagemaker-pytorch-2020-06-04-17-38-53-658'"
      ]
     },
     "execution_count": 48,
     "metadata": {},
     "output_type": "execute_result"
    }
   ],
   "source": [
    "predictor.endpoint"
   ]
  },
  {
   "cell_type": "markdown",
   "metadata": {},
   "source": [
    "Once you have added the endpoint name to the Lambda function, click on **Save**. Your Lambda function is now up and running. Next we need to create a way for our web app to execute the Lambda function.\n",
    "\n",
    "### Setting up API Gateway\n",
    "\n",
    "Now that our Lambda function is set up, it is time to create a new API using API Gateway that will trigger the Lambda function we have just created.\n",
    "\n",
    "Using AWS Console, navigate to **Amazon API Gateway** and then click on **Get started**.\n",
    "\n",
    "On the next page, make sure that **New API** is selected and give the new api a name, for example, `sentiment_analysis_api`. Then, click on **Create API**.\n",
    "\n",
    "Now we have created an API, however it doesn't currently do anything. What we want it to do is to trigger the Lambda function that we created earlier.\n",
    "\n",
    "Select the **Actions** dropdown menu and click **Create Method**. A new blank method will be created, select its dropdown menu and select **POST**, then click on the check mark beside it.\n",
    "\n",
    "For the integration point, make sure that **Lambda Function** is selected and click on the **Use Lambda Proxy integration**. This option makes sure that the data that is sent to the API is then sent directly to the Lambda function with no processing. It also means that the return value must be a proper response object as it will also not be processed by API Gateway.\n",
    "\n",
    "Type the name of the Lambda function you created earlier into the **Lambda Function** text entry box and then click on **Save**. Click on **OK** in the pop-up box that then appears, giving permission to API Gateway to invoke the Lambda function you created.\n",
    "\n",
    "The last step in creating the API Gateway is to select the **Actions** dropdown and click on **Deploy API**. You will need to create a new Deployment stage and name it anything you like, for example `prod`.\n",
    "\n",
    "You have now successfully set up a public API to access your SageMaker model. Make sure to copy or write down the URL provided to invoke your newly created public API as this will be needed in the next step. This URL can be found at the top of the page, highlighted in blue next to the text **Invoke URL**."
   ]
  },
  {
   "cell_type": "markdown",
   "metadata": {},
   "source": [
    "## Step 4: Deploying our web app\n",
    "\n",
    "Now that we have a publicly available API, we can start using it in a web app. For our purposes, we have provided a simple static html file which can make use of the public api you created earlier.\n",
    "\n",
    "In the `website` folder there should be a file called `index.html`. Download the file to your computer and open that file up in a text editor of your choice. There should be a line which contains **\\*\\*REPLACE WITH PUBLIC API URL\\*\\***. Replace this string with the url that you wrote down in the last step and then save the file.\n",
    "\n",
    "Now, if you open `index.html` on your local computer, your browser will behave as a local web server and you can use the provided site to interact with your SageMaker model.\n",
    "\n",
    "If you'd like to go further, you can host this html file anywhere you'd like, for example using github or hosting a static site on Amazon's S3. Once you have done this you can share the link with anyone you'd like and have them play with it too!\n",
    "\n",
    "> **Important Note** In order for the web app to communicate with the SageMaker endpoint, the endpoint has to actually be deployed and running. This means that you are paying for it. Make sure that the endpoint is running when you want to use the web app but that you shut it down when you don't need it, otherwise you will end up with a surprisingly large AWS bill.\n",
    "\n",
    "**TODO:** Make sure that you include the edited `index.html` file in your project submission."
   ]
  },
  {
   "cell_type": "markdown",
   "metadata": {},
   "source": [
    "Now that your web app is working, trying playing around with it and see how well it works.\n",
    "\n",
    "**Question**: Give an example of a review that you entered into your web app. What was the predicted sentiment of your example review?"
   ]
  },
  {
   "cell_type": "markdown",
   "metadata": {},
   "source": [
    "**Answer:**"
   ]
  },
  {
   "cell_type": "markdown",
   "metadata": {},
   "source": [
    "![title](images/out1.png)"
   ]
  },
  {
   "cell_type": "markdown",
   "metadata": {},
   "source": [
    "![title](images/out2.png)"
   ]
  },
  {
   "cell_type": "markdown",
   "metadata": {},
   "source": [
    "### Delete the endpoint\n",
    "\n",
    "Remember to always shut down your endpoint if you are no longer using it. You are charged for the length of time that the endpoint is running so if you forget and leave it on you could end up with an unexpectedly large bill."
   ]
  },
  {
   "cell_type": "code",
   "execution_count": 49,
   "metadata": {},
   "outputs": [],
   "source": [
    "predictor.delete_endpoint()"
   ]
  },
  {
   "cell_type": "code",
   "execution_count": null,
   "metadata": {},
   "outputs": [],
   "source": []
  }
 ],
 "metadata": {
  "kernelspec": {
   "display_name": "Python 3",
   "language": "python",
   "name": "python3"
  },
  "language_info": {
   "codemirror_mode": {
    "name": "ipython",
    "version": 3
   },
   "file_extension": ".py",
   "mimetype": "text/x-python",
   "name": "python",
   "nbconvert_exporter": "python",
   "pygments_lexer": "ipython3",
   "version": "3.7.5"
  }
 },
 "nbformat": 4,
 "nbformat_minor": 2
}
